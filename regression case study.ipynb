{
 "cells": [
  {
   "cell_type": "code",
   "execution_count": 1,
   "metadata": {},
   "outputs": [],
   "source": [
    "import pandas as pd\n",
    "import numpy as np \n",
    "import seaborn as sns\n",
    "import os"
   ]
  },
  {
   "cell_type": "code",
   "execution_count": 2,
   "metadata": {},
   "outputs": [],
   "source": [
    "os.chdir('D:\\Reg ')"
   ]
  },
  {
   "cell_type": "code",
   "execution_count": 3,
   "metadata": {},
   "outputs": [],
   "source": [
    "cars_data = pd.read_csv('usedcars.csv')"
   ]
  },
  {
   "cell_type": "code",
   "execution_count": 4,
   "metadata": {},
   "outputs": [],
   "source": [
    "cars_data1 = cars_data.copy()"
   ]
  },
  {
   "cell_type": "code",
   "execution_count": 5,
   "metadata": {},
   "outputs": [
    {
     "name": "stdout",
     "output_type": "stream",
     "text": [
      "<class 'pandas.core.frame.DataFrame'>\n",
      "RangeIndex: 6019 entries, 0 to 6018\n",
      "Data columns (total 14 columns):\n",
      "Unnamed: 0           6019 non-null int64\n",
      "Name                 6019 non-null object\n",
      "Location             6019 non-null object\n",
      "Year                 6019 non-null int64\n",
      "Kilometers_Driven    6019 non-null int64\n",
      "Fuel_Type            6019 non-null object\n",
      "Transmission         6019 non-null object\n",
      "Owner_Type           6019 non-null object\n",
      "Mileage              6017 non-null object\n",
      "Engine               5983 non-null object\n",
      "Power                5983 non-null object\n",
      "Seats                5977 non-null float64\n",
      "New_Price            824 non-null object\n",
      "Price                6019 non-null float64\n",
      "dtypes: float64(2), int64(3), object(9)\n",
      "memory usage: 658.4+ KB\n"
     ]
    }
   ],
   "source": [
    "cars_data1.info()"
   ]
  },
  {
   "cell_type": "code",
   "execution_count": 6,
   "metadata": {},
   "outputs": [
    {
     "data": {
      "text/html": [
       "<div>\n",
       "<style scoped>\n",
       "    .dataframe tbody tr th:only-of-type {\n",
       "        vertical-align: middle;\n",
       "    }\n",
       "\n",
       "    .dataframe tbody tr th {\n",
       "        vertical-align: top;\n",
       "    }\n",
       "\n",
       "    .dataframe thead th {\n",
       "        text-align: right;\n",
       "    }\n",
       "</style>\n",
       "<table border=\"1\" class=\"dataframe\">\n",
       "  <thead>\n",
       "    <tr style=\"text-align: right;\">\n",
       "      <th></th>\n",
       "      <th>Unnamed: 0</th>\n",
       "      <th>Year</th>\n",
       "      <th>Kilometers_Driven</th>\n",
       "      <th>Seats</th>\n",
       "      <th>Price</th>\n",
       "    </tr>\n",
       "  </thead>\n",
       "  <tbody>\n",
       "    <tr>\n",
       "      <th>count</th>\n",
       "      <td>6019.000000</td>\n",
       "      <td>6019.000000</td>\n",
       "      <td>6.019000e+03</td>\n",
       "      <td>5977.000000</td>\n",
       "      <td>6019.000000</td>\n",
       "    </tr>\n",
       "    <tr>\n",
       "      <th>mean</th>\n",
       "      <td>3009.000000</td>\n",
       "      <td>2013.358199</td>\n",
       "      <td>5.873838e+04</td>\n",
       "      <td>5.278735</td>\n",
       "      <td>9.479468</td>\n",
       "    </tr>\n",
       "    <tr>\n",
       "      <th>std</th>\n",
       "      <td>1737.679967</td>\n",
       "      <td>3.269742</td>\n",
       "      <td>9.126884e+04</td>\n",
       "      <td>0.808840</td>\n",
       "      <td>11.187917</td>\n",
       "    </tr>\n",
       "    <tr>\n",
       "      <th>min</th>\n",
       "      <td>0.000000</td>\n",
       "      <td>1998.000000</td>\n",
       "      <td>1.710000e+02</td>\n",
       "      <td>0.000000</td>\n",
       "      <td>0.440000</td>\n",
       "    </tr>\n",
       "    <tr>\n",
       "      <th>25%</th>\n",
       "      <td>1504.500000</td>\n",
       "      <td>2011.000000</td>\n",
       "      <td>3.400000e+04</td>\n",
       "      <td>5.000000</td>\n",
       "      <td>3.500000</td>\n",
       "    </tr>\n",
       "    <tr>\n",
       "      <th>50%</th>\n",
       "      <td>3009.000000</td>\n",
       "      <td>2014.000000</td>\n",
       "      <td>5.300000e+04</td>\n",
       "      <td>5.000000</td>\n",
       "      <td>5.640000</td>\n",
       "    </tr>\n",
       "    <tr>\n",
       "      <th>75%</th>\n",
       "      <td>4513.500000</td>\n",
       "      <td>2016.000000</td>\n",
       "      <td>7.300000e+04</td>\n",
       "      <td>5.000000</td>\n",
       "      <td>9.950000</td>\n",
       "    </tr>\n",
       "    <tr>\n",
       "      <th>max</th>\n",
       "      <td>6018.000000</td>\n",
       "      <td>2019.000000</td>\n",
       "      <td>6.500000e+06</td>\n",
       "      <td>10.000000</td>\n",
       "      <td>160.000000</td>\n",
       "    </tr>\n",
       "  </tbody>\n",
       "</table>\n",
       "</div>"
      ],
      "text/plain": [
       "        Unnamed: 0         Year  Kilometers_Driven        Seats        Price\n",
       "count  6019.000000  6019.000000       6.019000e+03  5977.000000  6019.000000\n",
       "mean   3009.000000  2013.358199       5.873838e+04     5.278735     9.479468\n",
       "std    1737.679967     3.269742       9.126884e+04     0.808840    11.187917\n",
       "min       0.000000  1998.000000       1.710000e+02     0.000000     0.440000\n",
       "25%    1504.500000  2011.000000       3.400000e+04     5.000000     3.500000\n",
       "50%    3009.000000  2014.000000       5.300000e+04     5.000000     5.640000\n",
       "75%    4513.500000  2016.000000       7.300000e+04     5.000000     9.950000\n",
       "max    6018.000000  2019.000000       6.500000e+06    10.000000   160.000000"
      ]
     },
     "execution_count": 6,
     "metadata": {},
     "output_type": "execute_result"
    }
   ],
   "source": [
    "cars_data1.describe()"
   ]
  },
  {
   "cell_type": "code",
   "execution_count": 7,
   "metadata": {},
   "outputs": [],
   "source": [
    "pd.set_option('display.float_format',lambda x : '%.3f' % x)"
   ]
  },
  {
   "cell_type": "code",
   "execution_count": 8,
   "metadata": {},
   "outputs": [
    {
     "data": {
      "text/html": [
       "<div>\n",
       "<style scoped>\n",
       "    .dataframe tbody tr th:only-of-type {\n",
       "        vertical-align: middle;\n",
       "    }\n",
       "\n",
       "    .dataframe tbody tr th {\n",
       "        vertical-align: top;\n",
       "    }\n",
       "\n",
       "    .dataframe thead th {\n",
       "        text-align: right;\n",
       "    }\n",
       "</style>\n",
       "<table border=\"1\" class=\"dataframe\">\n",
       "  <thead>\n",
       "    <tr style=\"text-align: right;\">\n",
       "      <th></th>\n",
       "      <th>Unnamed: 0</th>\n",
       "      <th>Year</th>\n",
       "      <th>Kilometers_Driven</th>\n",
       "      <th>Seats</th>\n",
       "      <th>Price</th>\n",
       "    </tr>\n",
       "  </thead>\n",
       "  <tbody>\n",
       "    <tr>\n",
       "      <th>count</th>\n",
       "      <td>6019.000</td>\n",
       "      <td>6019.000</td>\n",
       "      <td>6019.000</td>\n",
       "      <td>5977.000</td>\n",
       "      <td>6019.000</td>\n",
       "    </tr>\n",
       "    <tr>\n",
       "      <th>mean</th>\n",
       "      <td>3009.000</td>\n",
       "      <td>2013.358</td>\n",
       "      <td>58738.380</td>\n",
       "      <td>5.279</td>\n",
       "      <td>9.479</td>\n",
       "    </tr>\n",
       "    <tr>\n",
       "      <th>std</th>\n",
       "      <td>1737.680</td>\n",
       "      <td>3.270</td>\n",
       "      <td>91268.843</td>\n",
       "      <td>0.809</td>\n",
       "      <td>11.188</td>\n",
       "    </tr>\n",
       "    <tr>\n",
       "      <th>min</th>\n",
       "      <td>0.000</td>\n",
       "      <td>1998.000</td>\n",
       "      <td>171.000</td>\n",
       "      <td>0.000</td>\n",
       "      <td>0.440</td>\n",
       "    </tr>\n",
       "    <tr>\n",
       "      <th>25%</th>\n",
       "      <td>1504.500</td>\n",
       "      <td>2011.000</td>\n",
       "      <td>34000.000</td>\n",
       "      <td>5.000</td>\n",
       "      <td>3.500</td>\n",
       "    </tr>\n",
       "    <tr>\n",
       "      <th>50%</th>\n",
       "      <td>3009.000</td>\n",
       "      <td>2014.000</td>\n",
       "      <td>53000.000</td>\n",
       "      <td>5.000</td>\n",
       "      <td>5.640</td>\n",
       "    </tr>\n",
       "    <tr>\n",
       "      <th>75%</th>\n",
       "      <td>4513.500</td>\n",
       "      <td>2016.000</td>\n",
       "      <td>73000.000</td>\n",
       "      <td>5.000</td>\n",
       "      <td>9.950</td>\n",
       "    </tr>\n",
       "    <tr>\n",
       "      <th>max</th>\n",
       "      <td>6018.000</td>\n",
       "      <td>2019.000</td>\n",
       "      <td>6500000.000</td>\n",
       "      <td>10.000</td>\n",
       "      <td>160.000</td>\n",
       "    </tr>\n",
       "  </tbody>\n",
       "</table>\n",
       "</div>"
      ],
      "text/plain": [
       "       Unnamed: 0     Year  Kilometers_Driven    Seats    Price\n",
       "count    6019.000 6019.000           6019.000 5977.000 6019.000\n",
       "mean     3009.000 2013.358          58738.380    5.279    9.479\n",
       "std      1737.680    3.270          91268.843    0.809   11.188\n",
       "min         0.000 1998.000            171.000    0.000    0.440\n",
       "25%      1504.500 2011.000          34000.000    5.000    3.500\n",
       "50%      3009.000 2014.000          53000.000    5.000    5.640\n",
       "75%      4513.500 2016.000          73000.000    5.000    9.950\n",
       "max      6018.000 2019.000        6500000.000   10.000  160.000"
      ]
     },
     "execution_count": 8,
     "metadata": {},
     "output_type": "execute_result"
    }
   ],
   "source": [
    "cars_data1.describe()"
   ]
  },
  {
   "cell_type": "code",
   "execution_count": 9,
   "metadata": {},
   "outputs": [
    {
     "data": {
      "text/html": [
       "<div>\n",
       "<style scoped>\n",
       "    .dataframe tbody tr th:only-of-type {\n",
       "        vertical-align: middle;\n",
       "    }\n",
       "\n",
       "    .dataframe tbody tr th {\n",
       "        vertical-align: top;\n",
       "    }\n",
       "\n",
       "    .dataframe thead th {\n",
       "        text-align: right;\n",
       "    }\n",
       "</style>\n",
       "<table border=\"1\" class=\"dataframe\">\n",
       "  <thead>\n",
       "    <tr style=\"text-align: right;\">\n",
       "      <th></th>\n",
       "      <th>Unnamed: 0</th>\n",
       "      <th>Year</th>\n",
       "      <th>Kilometers_Driven</th>\n",
       "      <th>Seats</th>\n",
       "      <th>Price</th>\n",
       "    </tr>\n",
       "  </thead>\n",
       "  <tbody>\n",
       "    <tr>\n",
       "      <th>count</th>\n",
       "      <td>6019.000</td>\n",
       "      <td>6019.000</td>\n",
       "      <td>6019.000</td>\n",
       "      <td>5977.000</td>\n",
       "      <td>6019.000</td>\n",
       "    </tr>\n",
       "    <tr>\n",
       "      <th>mean</th>\n",
       "      <td>3009.000</td>\n",
       "      <td>2013.358</td>\n",
       "      <td>58738.380</td>\n",
       "      <td>5.279</td>\n",
       "      <td>9.479</td>\n",
       "    </tr>\n",
       "    <tr>\n",
       "      <th>std</th>\n",
       "      <td>1737.680</td>\n",
       "      <td>3.270</td>\n",
       "      <td>91268.843</td>\n",
       "      <td>0.809</td>\n",
       "      <td>11.188</td>\n",
       "    </tr>\n",
       "    <tr>\n",
       "      <th>min</th>\n",
       "      <td>0.000</td>\n",
       "      <td>1998.000</td>\n",
       "      <td>171.000</td>\n",
       "      <td>0.000</td>\n",
       "      <td>0.440</td>\n",
       "    </tr>\n",
       "    <tr>\n",
       "      <th>25%</th>\n",
       "      <td>1504.500</td>\n",
       "      <td>2011.000</td>\n",
       "      <td>34000.000</td>\n",
       "      <td>5.000</td>\n",
       "      <td>3.500</td>\n",
       "    </tr>\n",
       "    <tr>\n",
       "      <th>50%</th>\n",
       "      <td>3009.000</td>\n",
       "      <td>2014.000</td>\n",
       "      <td>53000.000</td>\n",
       "      <td>5.000</td>\n",
       "      <td>5.640</td>\n",
       "    </tr>\n",
       "    <tr>\n",
       "      <th>75%</th>\n",
       "      <td>4513.500</td>\n",
       "      <td>2016.000</td>\n",
       "      <td>73000.000</td>\n",
       "      <td>5.000</td>\n",
       "      <td>9.950</td>\n",
       "    </tr>\n",
       "    <tr>\n",
       "      <th>max</th>\n",
       "      <td>6018.000</td>\n",
       "      <td>2019.000</td>\n",
       "      <td>6500000.000</td>\n",
       "      <td>10.000</td>\n",
       "      <td>160.000</td>\n",
       "    </tr>\n",
       "  </tbody>\n",
       "</table>\n",
       "</div>"
      ],
      "text/plain": [
       "       Unnamed: 0     Year  Kilometers_Driven    Seats    Price\n",
       "count    6019.000 6019.000           6019.000 5977.000 6019.000\n",
       "mean     3009.000 2013.358          58738.380    5.279    9.479\n",
       "std      1737.680    3.270          91268.843    0.809   11.188\n",
       "min         0.000 1998.000            171.000    0.000    0.440\n",
       "25%      1504.500 2011.000          34000.000    5.000    3.500\n",
       "50%      3009.000 2014.000          53000.000    5.000    5.640\n",
       "75%      4513.500 2016.000          73000.000    5.000    9.950\n",
       "max      6018.000 2019.000        6500000.000   10.000  160.000"
      ]
     },
     "execution_count": 9,
     "metadata": {},
     "output_type": "execute_result"
    }
   ],
   "source": [
    "pd.set_option('display.max_columns', 500)\n",
    "cars_data1.describe()"
   ]
  },
  {
   "cell_type": "code",
   "execution_count": 10,
   "metadata": {},
   "outputs": [],
   "source": [
    "#dropping some unwanted varaibles "
   ]
  },
  {
   "cell_type": "code",
   "execution_count": 11,
   "metadata": {},
   "outputs": [],
   "source": [
    "col = ['Unnamed: 0','Name','Location','New_Price']\n",
    "cars_data1 = cars_data1.drop(columns = col,axis = 1)"
   ]
  },
  {
   "cell_type": "code",
   "execution_count": 12,
   "metadata": {},
   "outputs": [
    {
     "data": {
      "text/plain": [
       "(6019, 10)"
      ]
     },
     "execution_count": 12,
     "metadata": {},
     "output_type": "execute_result"
    }
   ],
   "source": [
    "cars_data1.shape"
   ]
  },
  {
   "cell_type": "code",
   "execution_count": 13,
   "metadata": {},
   "outputs": [],
   "source": [
    "cars_data1.drop_duplicates(keep = 'first',inplace = True)"
   ]
  },
  {
   "cell_type": "code",
   "execution_count": 14,
   "metadata": {},
   "outputs": [
    {
     "data": {
      "text/plain": [
       "Year                  0\n",
       "Kilometers_Driven     0\n",
       "Fuel_Type             0\n",
       "Transmission          0\n",
       "Owner_Type            0\n",
       "Mileage               2\n",
       "Engine               36\n",
       "Power                36\n",
       "Seats                42\n",
       "Price                 0\n",
       "dtype: int64"
      ]
     },
     "execution_count": 14,
     "metadata": {},
     "output_type": "execute_result"
    }
   ],
   "source": [
    "cars_data1.isnull().sum()"
   ]
  },
  {
   "cell_type": "code",
   "execution_count": 15,
   "metadata": {},
   "outputs": [
    {
     "name": "stdout",
     "output_type": "stream",
     "text": [
      "1998      4\n",
      "1999      2\n",
      "2000      4\n",
      "2001      8\n",
      "2002     15\n",
      "2003     17\n",
      "2004     31\n",
      "2005     57\n",
      "2006     78\n",
      "2007    124\n",
      "2008    174\n",
      "2009    198\n",
      "2010    342\n",
      "2011    466\n",
      "2012    580\n",
      "2013    649\n",
      "2014    797\n",
      "2015    744\n",
      "2016    740\n",
      "2017    587\n",
      "2018    298\n",
      "2019    102\n",
      "Name: Year, dtype: int64\n"
     ]
    }
   ],
   "source": [
    "yearwise_count = cars_data1['Year'].value_counts().sort_index()\n",
    "print(yearwise_count)"
   ]
  },
  {
   "cell_type": "code",
   "execution_count": 16,
   "metadata": {},
   "outputs": [
    {
     "data": {
      "text/plain": [
       "<matplotlib.axes._subplots.AxesSubplot at 0xab13908>"
      ]
     },
     "execution_count": 16,
     "metadata": {},
     "output_type": "execute_result"
    },
    {
     "data": {
      "image/png": "[encoded data removed]",
      "text/plain": [
       "<Figure size 432x288 with 1 Axes>"
      ]
     },
     "metadata": {},
     "output_type": "display_data"
    }
   ],
   "source": [
    "sns.regplot(x = 'Year',y = 'Price',scatter = True,fit_reg = False ,data = cars_data1)"
   ]
  },
  {
   "cell_type": "code",
   "execution_count": 17,
   "metadata": {},
   "outputs": [],
   "source": [
    "Price_count = cars_data1['Price'].value_counts().sort_index()\n"
   ]
  },
  {
   "cell_type": "code",
   "execution_count": 18,
   "metadata": {},
   "outputs": [
    {
     "data": {
      "text/plain": [
       "<matplotlib.axes._subplots.AxesSubplot at 0xaad33c8>"
      ]
     },
     "execution_count": 18,
     "metadata": {},
     "output_type": "execute_result"
    },
    {
     "data": {
      "image/png": "[encoded data removed]",
      "text/plain": [
       "<Figure size 432x288 with 1 Axes>"
      ]
     },
     "metadata": {},
     "output_type": "display_data"
    }
   ],
   "source": [
    "sns.distplot(cars_data1['Price'])"
   ]
  },
  {
   "cell_type": "code",
   "execution_count": 19,
   "metadata": {},
   "outputs": [
    {
     "data": {
      "text/plain": [
       "count   6017.000\n",
       "mean       9.481\n",
       "std       11.189\n",
       "min        0.440\n",
       "25%        3.500\n",
       "50%        5.640\n",
       "75%        9.950\n",
       "max      160.000\n",
       "Name: Price, dtype: float64"
      ]
     },
     "execution_count": 19,
     "metadata": {},
     "output_type": "execute_result"
    }
   ],
   "source": [
    "cars_data1['Price'].describe()"
   ]
  },
  {
   "cell_type": "code",
   "execution_count": 20,
   "metadata": {},
   "outputs": [
    {
     "data": {
      "text/plain": [
       "1660"
      ]
     },
     "execution_count": 20,
     "metadata": {},
     "output_type": "execute_result"
    }
   ],
   "source": [
    "sum(cars_data1['Price']>9)"
   ]
  },
  {
   "cell_type": "code",
   "execution_count": 21,
   "metadata": {},
   "outputs": [
    {
     "data": {
      "text/plain": [
       "1483"
      ]
     },
     "execution_count": 21,
     "metadata": {},
     "output_type": "execute_result"
    }
   ],
   "source": [
    "sum(cars_data1['Price']<3.5)"
   ]
  },
  {
   "cell_type": "code",
   "execution_count": 22,
   "metadata": {},
   "outputs": [],
   "source": [
    "Power_count = cars_data1['Power'].value_counts().sort_index()\n"
   ]
  },
  {
   "cell_type": "code",
   "execution_count": 23,
   "metadata": {},
   "outputs": [
    {
     "name": "stdout",
     "output_type": "stream",
     "text": [
      "100 bhp         55\n",
      "100.6 bhp       39\n",
      "101 bhp          4\n",
      "102 bhp         57\n",
      "102.5 bhp        8\n",
      "102.53 bhp       2\n",
      "102.57 bhp       2\n",
      "103 bhp          1\n",
      "103.2 bhp       35\n",
      "103.25 bhp       5\n",
      "103.3 bhp       11\n",
      "103.5 bhp       30\n",
      "103.52 bhp      26\n",
      "103.6 bhp       69\n",
      "104 bhp          2\n",
      "104.68 bhp       7\n",
      "105 bhp         23\n",
      "105.5 bhp        3\n",
      "106 bhp          7\n",
      "107.2 bhp        7\n",
      "107.3 bhp       10\n",
      "108.4 bhp        4\n",
      "108.45 bhp      50\n",
      "108.49 bhp       2\n",
      "108.495 bhp      2\n",
      "108.5 bhp       37\n",
      "108.62 bhp       4\n",
      "110 bhp         26\n",
      "110.4 bhp       12\n",
      "110.5 bhp        1\n",
      "              ... \n",
      "88.5 bhp       100\n",
      "88.50 bhp       12\n",
      "88.7 bhp        75\n",
      "88.73 bhp       48\n",
      "88.76 bhp       45\n",
      "88.8 bhp        57\n",
      "89.75 bhp        1\n",
      "89.84 bhp       40\n",
      "90 bhp          52\n",
      "91.1 bhp        28\n",
      "91.2 bhp         3\n",
      "91.7 bhp         2\n",
      "91.72 bhp        4\n",
      "92 bhp           3\n",
      "92.7 bhp         6\n",
      "93 bhp           2\n",
      "93.7 bhp        21\n",
      "94 bhp          17\n",
      "94.68 bhp        3\n",
      "95 bhp           1\n",
      "97.6 bhp         3\n",
      "97.7 bhp         7\n",
      "98.59 bhp       14\n",
      "98.6 bhp       131\n",
      "98.79 bhp        1\n",
      "98.82 bhp        2\n",
      "98.96 bhp        9\n",
      "99 bhp          18\n",
      "99.6 bhp         5\n",
      "null bhp       107\n",
      "Name: Power, Length: 372, dtype: int64\n"
     ]
    }
   ],
   "source": [
    "print(Power_count)"
   ]
  },
  {
   "cell_type": "code",
   "execution_count": 24,
   "metadata": {},
   "outputs": [],
   "source": [
    "seat_count = cars_data1['Seats'].value_counts().sort_index()\n"
   ]
  },
  {
   "cell_type": "code",
   "execution_count": 25,
   "metadata": {},
   "outputs": [
    {
     "name": "stdout",
     "output_type": "stream",
     "text": [
      "0.000        1\n",
      "2.000       16\n",
      "4.000       99\n",
      "5.000     5012\n",
      "6.000       31\n",
      "7.000      674\n",
      "8.000      134\n",
      "9.000        3\n",
      "10.000       5\n",
      "Name: Seats, dtype: int64\n"
     ]
    }
   ],
   "source": [
    "print(seat_count)"
   ]
  },
  {
   "cell_type": "code",
   "execution_count": 26,
   "metadata": {},
   "outputs": [],
   "source": [
    "engine_count = cars_data1['Engine'].value_counts().sort_index()\n"
   ]
  },
  {
   "cell_type": "code",
   "execution_count": 27,
   "metadata": {},
   "outputs": [
    {
     "name": "stdout",
     "output_type": "stream",
     "text": [
      "1047 CC      4\n",
      "1061 CC     30\n",
      "1086 CC    108\n",
      "1120 CC     54\n",
      "1150 CC      7\n",
      "1172 CC      3\n",
      "1186 CC     14\n",
      "1193 CC     23\n",
      "1194 CC      3\n",
      "1196 CC     50\n",
      "1197 CC    606\n",
      "1198 CC    227\n",
      "1199 CC    143\n",
      "1242 CC      2\n",
      "1248 CC    511\n",
      "1298 CC     39\n",
      "1299 CC     10\n",
      "1341 CC      9\n",
      "1343 CC      4\n",
      "1364 CC     47\n",
      "1368 CC     10\n",
      "1373 CC     47\n",
      "1388 CC      9\n",
      "1390 CC      4\n",
      "1395 CC      3\n",
      "1396 CC    139\n",
      "1399 CC     88\n",
      "1405 CC     19\n",
      "1422 CC      1\n",
      "1461 CC    152\n",
      "          ... \n",
      "2996 CC      6\n",
      "2997 CC      2\n",
      "2999 CC      1\n",
      "3197 CC      1\n",
      "3198 CC     15\n",
      "3200 CC      1\n",
      "3436 CC      2\n",
      "3498 CC     12\n",
      "3597 CC      2\n",
      "4134 CC      8\n",
      "4367 CC      5\n",
      "4395 CC      3\n",
      "4806 CC      4\n",
      "4951 CC      1\n",
      "5000 CC      2\n",
      "5204 CC      1\n",
      "5461 CC      3\n",
      "5998 CC      1\n",
      "624 CC      25\n",
      "72 CC        1\n",
      "793 CC       4\n",
      "796 CC     128\n",
      "799 CC      36\n",
      "814 CC      59\n",
      "936 CC      21\n",
      "970 CC       1\n",
      "993 CC      14\n",
      "995 CC      10\n",
      "998 CC     259\n",
      "999 CC      29\n",
      "Name: Engine, Length: 146, dtype: int64\n"
     ]
    }
   ],
   "source": [
    "print(engine_count )"
   ]
  },
  {
   "cell_type": "code",
   "execution_count": 28,
   "metadata": {},
   "outputs": [
    {
     "data": {
      "text/plain": [
       "<matplotlib.axes._subplots.AxesSubplot at 0xaaaf748>"
      ]
     },
     "execution_count": 28,
     "metadata": {},
     "output_type": "execute_result"
    },
    {
     "data": {
      "image/png": "[encoded data removed]",
      "text/plain": [
       "<Figure size 432x288 with 1 Axes>"
      ]
     },
     "metadata": {},
     "output_type": "display_data"
    }
   ],
   "source": [
    "sns.regplot(x = 'Seats',y = 'Price',scatter = True,fit_reg = False ,data = cars_data1)"
   ]
  },
  {
   "cell_type": "code",
   "execution_count": 29,
   "metadata": {},
   "outputs": [],
   "source": [
    "cars_data1['age'] =(2019-cars_data1['Year']) "
   ]
  },
  {
   "cell_type": "code",
   "execution_count": 30,
   "metadata": {},
   "outputs": [
    {
     "data": {
      "text/plain": [
       "Index(['Year', 'Kilometers_Driven', 'Fuel_Type', 'Transmission', 'Owner_Type',\n",
       "       'Mileage', 'Engine', 'Power', 'Seats', 'Price', 'age'],\n",
       "      dtype='object')"
      ]
     },
     "execution_count": 30,
     "metadata": {},
     "output_type": "execute_result"
    }
   ],
   "source": [
    "cars_data1.columns"
   ]
  },
  {
   "cell_type": "code",
   "execution_count": 31,
   "metadata": {},
   "outputs": [
    {
     "data": {
      "text/html": [
       "<div>\n",
       "<style scoped>\n",
       "    .dataframe tbody tr th:only-of-type {\n",
       "        vertical-align: middle;\n",
       "    }\n",
       "\n",
       "    .dataframe tbody tr th {\n",
       "        vertical-align: top;\n",
       "    }\n",
       "\n",
       "    .dataframe thead th {\n",
       "        text-align: right;\n",
       "    }\n",
       "</style>\n",
       "<table border=\"1\" class=\"dataframe\">\n",
       "  <thead>\n",
       "    <tr style=\"text-align: right;\">\n",
       "      <th></th>\n",
       "      <th>Year</th>\n",
       "      <th>Kilometers_Driven</th>\n",
       "      <th>Seats</th>\n",
       "      <th>Price</th>\n",
       "      <th>age</th>\n",
       "    </tr>\n",
       "  </thead>\n",
       "  <tbody>\n",
       "    <tr>\n",
       "      <th>count</th>\n",
       "      <td>6017.000</td>\n",
       "      <td>6017.000</td>\n",
       "      <td>5975.000</td>\n",
       "      <td>6017.000</td>\n",
       "      <td>6017.000</td>\n",
       "    </tr>\n",
       "    <tr>\n",
       "      <th>mean</th>\n",
       "      <td>2013.359</td>\n",
       "      <td>58744.410</td>\n",
       "      <td>5.279</td>\n",
       "      <td>9.481</td>\n",
       "      <td>5.641</td>\n",
       "    </tr>\n",
       "    <tr>\n",
       "      <th>std</th>\n",
       "      <td>3.269</td>\n",
       "      <td>91283.169</td>\n",
       "      <td>0.809</td>\n",
       "      <td>11.189</td>\n",
       "      <td>3.269</td>\n",
       "    </tr>\n",
       "    <tr>\n",
       "      <th>min</th>\n",
       "      <td>1998.000</td>\n",
       "      <td>171.000</td>\n",
       "      <td>0.000</td>\n",
       "      <td>0.440</td>\n",
       "      <td>0.000</td>\n",
       "    </tr>\n",
       "    <tr>\n",
       "      <th>25%</th>\n",
       "      <td>2011.000</td>\n",
       "      <td>34000.000</td>\n",
       "      <td>5.000</td>\n",
       "      <td>3.500</td>\n",
       "      <td>3.000</td>\n",
       "    </tr>\n",
       "    <tr>\n",
       "      <th>50%</th>\n",
       "      <td>2014.000</td>\n",
       "      <td>53000.000</td>\n",
       "      <td>5.000</td>\n",
       "      <td>5.640</td>\n",
       "      <td>5.000</td>\n",
       "    </tr>\n",
       "    <tr>\n",
       "      <th>75%</th>\n",
       "      <td>2016.000</td>\n",
       "      <td>73000.000</td>\n",
       "      <td>5.000</td>\n",
       "      <td>9.950</td>\n",
       "      <td>8.000</td>\n",
       "    </tr>\n",
       "    <tr>\n",
       "      <th>max</th>\n",
       "      <td>2019.000</td>\n",
       "      <td>6500000.000</td>\n",
       "      <td>10.000</td>\n",
       "      <td>160.000</td>\n",
       "      <td>21.000</td>\n",
       "    </tr>\n",
       "  </tbody>\n",
       "</table>\n",
       "</div>"
      ],
      "text/plain": [
       "          Year  Kilometers_Driven    Seats    Price      age\n",
       "count 6017.000           6017.000 5975.000 6017.000 6017.000\n",
       "mean  2013.359          58744.410    5.279    9.481    5.641\n",
       "std      3.269          91283.169    0.809   11.189    3.269\n",
       "min   1998.000            171.000    0.000    0.440    0.000\n",
       "25%   2011.000          34000.000    5.000    3.500    3.000\n",
       "50%   2014.000          53000.000    5.000    5.640    5.000\n",
       "75%   2016.000          73000.000    5.000    9.950    8.000\n",
       "max   2019.000        6500000.000   10.000  160.000   21.000"
      ]
     },
     "execution_count": 31,
     "metadata": {},
     "output_type": "execute_result"
    }
   ],
   "source": [
    "cars_data1.describe()"
   ]
  },
  {
   "cell_type": "code",
   "execution_count": 32,
   "metadata": {},
   "outputs": [],
   "source": [
    "cars_data1=cars_data1.drop('Year',axis = 1)"
   ]
  },
  {
   "cell_type": "code",
   "execution_count": 33,
   "metadata": {},
   "outputs": [
    {
     "data": {
      "text/plain": [
       "Index(['Kilometers_Driven', 'Fuel_Type', 'Transmission', 'Owner_Type',\n",
       "       'Mileage', 'Engine', 'Power', 'Seats', 'Price', 'age'],\n",
       "      dtype='object')"
      ]
     },
     "execution_count": 33,
     "metadata": {},
     "output_type": "execute_result"
    }
   ],
   "source": [
    "cars_data1.columns"
   ]
  },
  {
   "cell_type": "code",
   "execution_count": 34,
   "metadata": {},
   "outputs": [
    {
     "data": {
      "text/plain": [
       "<matplotlib.axes._subplots.AxesSubplot at 0xb079518>"
      ]
     },
     "execution_count": 34,
     "metadata": {},
     "output_type": "execute_result"
    },
    {
     "data": {
      "image/png": "[encoded data removed]",
      "text/plain": [
       "<Figure size 432x288 with 1 Axes>"
      ]
     },
     "metadata": {},
     "output_type": "display_data"
    }
   ],
   "source": [
    "sns.distplot(cars_data1['age'])"
   ]
  },
  {
   "cell_type": "code",
   "execution_count": 35,
   "metadata": {},
   "outputs": [
    {
     "data": {
      "text/plain": [
       "<matplotlib.axes._subplots.AxesSubplot at 0xb0ed9b0>"
      ]
     },
     "execution_count": 35,
     "metadata": {},
     "output_type": "execute_result"
    },
    {
     "data": {
      "image/png": "[encoded data removed]",
      "text/plain": [
       "<Figure size 432x288 with 1 Axes>"
      ]
     },
     "metadata": {},
     "output_type": "display_data"
    }
   ],
   "source": [
    "sns.regplot(x = 'age',y = 'Price',scatter = True,fit_reg = False ,data = cars_data1)"
   ]
  },
  {
   "cell_type": "code",
   "execution_count": 36,
   "metadata": {},
   "outputs": [
    {
     "data": {
      "image/png": "[encoded data removed]",
      "text/plain": [
       "<Figure size 720x576 with 2 Axes>"
      ]
     },
     "metadata": {},
     "output_type": "display_data"
    }
   ],
   "source": [
    "from statsmodels.api import add_constant\n",
    "# import matplotlib\n",
    "import matplotlib.pyplot as plt \n",
    "%matplotlib inline\n",
    "sns.set_style('darkgrid')\n",
    "plt.figure(figsize=(10,8))\n",
    "\n",
    "# create a heatmap of correlation matrix\n",
    "correlation_matrix = cars_data1.corr()\n",
    "# annot = True to print the values inside the square\n",
    "sns.heatmap(data=correlation_matrix, annot=True)\n",
    "plt.show()"
   ]
  },
  {
   "cell_type": "code",
   "execution_count": 37,
   "metadata": {},
   "outputs": [
    {
     "name": "stdout",
     "output_type": "stream",
     "text": [
      "<class 'pandas.core.frame.DataFrame'>\n",
      "Int64Index: 6017 entries, 0 to 6018\n",
      "Data columns (total 10 columns):\n",
      "Kilometers_Driven    6017 non-null int64\n",
      "Fuel_Type            6017 non-null object\n",
      "Transmission         6017 non-null object\n",
      "Owner_Type           6017 non-null object\n",
      "Mileage              6015 non-null object\n",
      "Engine               5981 non-null object\n",
      "Power                5981 non-null object\n",
      "Seats                5975 non-null float64\n",
      "Price                6017 non-null float64\n",
      "age                  6017 non-null int64\n",
      "dtypes: float64(2), int64(2), object(6)\n",
      "memory usage: 517.1+ KB\n"
     ]
    }
   ],
   "source": [
    "cars_data1.info()"
   ]
  },
  {
   "cell_type": "code",
   "execution_count": 38,
   "metadata": {},
   "outputs": [
    {
     "data": {
      "text/plain": [
       "Kilometers_Driven     0\n",
       "Fuel_Type             0\n",
       "Transmission          0\n",
       "Owner_Type            0\n",
       "Mileage               2\n",
       "Engine               36\n",
       "Power                36\n",
       "Seats                42\n",
       "Price                 0\n",
       "age                   0\n",
       "dtype: int64"
      ]
     },
     "execution_count": 38,
     "metadata": {},
     "output_type": "execute_result"
    }
   ],
   "source": [
    "cars_data1.isnull().sum()"
   ]
  },
  {
   "cell_type": "code",
   "execution_count": 39,
   "metadata": {},
   "outputs": [],
   "source": [
    "cars_data1 = cars_data1.apply(lambda x : x.fillna(x.mean())\n",
    "                              if x.dtype =='float' else\n",
    "                              x.fillna(x.value_counts().index[0]))"
   ]
  },
  {
   "cell_type": "code",
   "execution_count": 40,
   "metadata": {
    "scrolled": true
   },
   "outputs": [
    {
     "data": {
      "text/plain": [
       "Kilometers_Driven    0\n",
       "Fuel_Type            0\n",
       "Transmission         0\n",
       "Owner_Type           0\n",
       "Mileage              0\n",
       "Engine               0\n",
       "Power                0\n",
       "Seats                0\n",
       "Price                0\n",
       "age                  0\n",
       "dtype: int64"
      ]
     },
     "execution_count": 40,
     "metadata": {},
     "output_type": "execute_result"
    }
   ],
   "source": [
    "cars_data1.isnull().sum()"
   ]
  },
  {
   "cell_type": "code",
   "execution_count": 41,
   "metadata": {},
   "outputs": [
    {
     "data": {
      "text/plain": [
       "First             4927\n",
       "Second             968\n",
       "Third              113\n",
       "Fourth & Above       9\n",
       "Name: Owner_Type, dtype: int64"
      ]
     },
     "execution_count": 41,
     "metadata": {},
     "output_type": "execute_result"
    }
   ],
   "source": [
    "cars_data1['Owner_Type'].value_counts()"
   ]
  },
  {
   "cell_type": "code",
   "execution_count": 42,
   "metadata": {},
   "outputs": [
    {
     "data": {
      "text/html": [
       "<div>\n",
       "<style scoped>\n",
       "    .dataframe tbody tr th:only-of-type {\n",
       "        vertical-align: middle;\n",
       "    }\n",
       "\n",
       "    .dataframe tbody tr th {\n",
       "        vertical-align: top;\n",
       "    }\n",
       "\n",
       "    .dataframe thead th {\n",
       "        text-align: right;\n",
       "    }\n",
       "</style>\n",
       "<table border=\"1\" class=\"dataframe\">\n",
       "  <thead>\n",
       "    <tr style=\"text-align: right;\">\n",
       "      <th>col_0</th>\n",
       "      <th>count</th>\n",
       "    </tr>\n",
       "    <tr>\n",
       "      <th>Owner_Type</th>\n",
       "      <th></th>\n",
       "    </tr>\n",
       "  </thead>\n",
       "  <tbody>\n",
       "    <tr>\n",
       "      <th>First</th>\n",
       "      <td>0.819</td>\n",
       "    </tr>\n",
       "    <tr>\n",
       "      <th>Fourth &amp; Above</th>\n",
       "      <td>0.001</td>\n",
       "    </tr>\n",
       "    <tr>\n",
       "      <th>Second</th>\n",
       "      <td>0.161</td>\n",
       "    </tr>\n",
       "    <tr>\n",
       "      <th>Third</th>\n",
       "      <td>0.019</td>\n",
       "    </tr>\n",
       "  </tbody>\n",
       "</table>\n",
       "</div>"
      ],
      "text/plain": [
       "col_0           count\n",
       "Owner_Type           \n",
       "First           0.819\n",
       "Fourth & Above  0.001\n",
       "Second          0.161\n",
       "Third           0.019"
      ]
     },
     "execution_count": 42,
     "metadata": {},
     "output_type": "execute_result"
    }
   ],
   "source": [
    "pd.crosstab(cars_data1['Owner_Type'],columns = 'count',normalize = True)"
   ]
  },
  {
   "cell_type": "code",
   "execution_count": 43,
   "metadata": {},
   "outputs": [
    {
     "data": {
      "text/plain": [
       "<matplotlib.axes._subplots.AxesSubplot at 0xc3a6e80>"
      ]
     },
     "execution_count": 43,
     "metadata": {},
     "output_type": "execute_result"
    },
    {
     "data": {
      "image/png": "[encoded data removed]",
      "text/plain": [
       "<Figure size 432x288 with 1 Axes>"
      ]
     },
     "metadata": {},
     "output_type": "display_data"
    }
   ],
   "source": [
    "sns.countplot(x = 'Owner_Type',data = cars_data1)"
   ]
  },
  {
   "cell_type": "code",
   "execution_count": 44,
   "metadata": {},
   "outputs": [
    {
     "data": {
      "text/plain": [
       "Diesel      3204\n",
       "Petrol      2745\n",
       "CNG           56\n",
       "LPG           10\n",
       "Electric       2\n",
       "Name: Fuel_Type, dtype: int64"
      ]
     },
     "execution_count": 44,
     "metadata": {},
     "output_type": "execute_result"
    }
   ],
   "source": [
    "cars_data1['Fuel_Type'].value_counts()"
   ]
  },
  {
   "cell_type": "code",
   "execution_count": 45,
   "metadata": {},
   "outputs": [
    {
     "data": {
      "text/plain": [
       "<matplotlib.axes._subplots.AxesSubplot at 0xc2234e0>"
      ]
     },
     "execution_count": 45,
     "metadata": {},
     "output_type": "execute_result"
    },
    {
     "data": {
      "image/png": "[encoded data removed]",
      "text/plain": [
       "<Figure size 432x288 with 1 Axes>"
      ]
     },
     "metadata": {},
     "output_type": "display_data"
    }
   ],
   "source": [
    "sns.countplot(x = 'Fuel_Type',data = cars_data1)"
   ]
  },
  {
   "cell_type": "code",
   "execution_count": 46,
   "metadata": {},
   "outputs": [
    {
     "data": {
      "text/plain": [
       "<matplotlib.axes._subplots.AxesSubplot at 0xc282da0>"
      ]
     },
     "execution_count": 46,
     "metadata": {},
     "output_type": "execute_result"
    },
    {
     "data": {
      "image/png": "[encoded data removed]",
      "text/plain": [
       "<Figure size 432x288 with 1 Axes>"
      ]
     },
     "metadata": {},
     "output_type": "display_data"
    }
   ],
   "source": [
    "sns.boxplot(x = 'Fuel_Type',y = 'Price',data = cars_data1)"
   ]
  },
  {
   "cell_type": "code",
   "execution_count": 47,
   "metadata": {},
   "outputs": [
    {
     "data": {
      "text/plain": [
       "17.0 kmpl     174\n",
       "18.9 kmpl     172\n",
       "18.6 kmpl     119\n",
       "20.36 kmpl     88\n",
       "21.1 kmpl      86\n",
       "17.8 kmpl      85\n",
       "16.0 kmpl      76\n",
       "12.8 kmpl      72\n",
       "20.0 kmpl      70\n",
       "18.0 kmpl      69\n",
       "0.0 kmpl       68\n",
       "13.0 kmpl      67\n",
       "18.5 kmpl      67\n",
       "22.7 kmpl      66\n",
       "15.1 kmpl      64\n",
       "16.8 kmpl      59\n",
       "16.47 kmpl     58\n",
       "12.99 kmpl     58\n",
       "23.1 kmpl      52\n",
       "25.8 kmpl      51\n",
       "22.32 kmpl     50\n",
       "22.9 kmpl      47\n",
       "19.7 kmpl      46\n",
       "16.1 kmpl      45\n",
       "17.5 kmpl      43\n",
       "24.3 kmpl      43\n",
       "13.5 kmpl      42\n",
       "24.0 kmpl      41\n",
       "11.5 kmpl      41\n",
       "15.0 kmpl      41\n",
       "             ... \n",
       "19.83 kmpl      1\n",
       "17.24 kmpl      1\n",
       "11.78 kmpl      1\n",
       "17.84 kmpl      1\n",
       "14.59 kmpl      1\n",
       "11.07 kmpl      1\n",
       "14.47 kmpl      1\n",
       "18.18 kmpl      1\n",
       "18.23 kmpl      1\n",
       "14.45 kmpl      1\n",
       "23.57 kmpl      1\n",
       "12.97 kmpl      1\n",
       "19.2 km/kg      1\n",
       "26.8 kmpl       1\n",
       "12.98 kmpl      1\n",
       "13.44 kmpl      1\n",
       "13.58 kmpl      1\n",
       "18.69 kmpl      1\n",
       "8.3 kmpl        1\n",
       "12.95 kmpl      1\n",
       "23.03 kmpl      1\n",
       "20.62 kmpl      1\n",
       "7.5 kmpl        1\n",
       "12.85 kmpl      1\n",
       "14.9 kmpl       1\n",
       "11.62 kmpl      1\n",
       "9.1 kmpl        1\n",
       "21.79 kmpl      1\n",
       "14.33 kmpl      1\n",
       "17.09 kmpl      1\n",
       "Name: Mileage, Length: 442, dtype: int64"
      ]
     },
     "execution_count": 47,
     "metadata": {},
     "output_type": "execute_result"
    }
   ],
   "source": [
    "cars_data1['Mileage'].value_counts()"
   ]
  },
  {
   "cell_type": "code",
   "execution_count": 48,
   "metadata": {},
   "outputs": [
    {
     "data": {
      "text/plain": [
       "60000     82\n",
       "45000     70\n",
       "65000     68\n",
       "50000     61\n",
       "70000     60\n",
       "55000     60\n",
       "30000     54\n",
       "52000     54\n",
       "75000     50\n",
       "80000     50\n",
       "58000     49\n",
       "35000     49\n",
       "40000     48\n",
       "90000     43\n",
       "72000     42\n",
       "100000    42\n",
       "25000     42\n",
       "62000     40\n",
       "42000     38\n",
       "51000     37\n",
       "48000     37\n",
       "54000     35\n",
       "38000     35\n",
       "37000     34\n",
       "66000     34\n",
       "29000     32\n",
       "69000     32\n",
       "21000     32\n",
       "32000     31\n",
       "85000     31\n",
       "          ..\n",
       "44223      1\n",
       "56501      1\n",
       "21684      1\n",
       "54448      1\n",
       "60587      1\n",
       "38056      1\n",
       "87284      1\n",
       "29952      1\n",
       "11571      1\n",
       "25858      1\n",
       "47183      1\n",
       "32510      1\n",
       "36139      1\n",
       "32576      1\n",
       "21800      1\n",
       "17702      1\n",
       "62005      1\n",
       "33517      1\n",
       "57824      1\n",
       "8896       1\n",
       "5400       1\n",
       "99606      1\n",
       "7445       1\n",
       "32854      1\n",
       "50446      1\n",
       "54540      1\n",
       "70920      1\n",
       "75014      1\n",
       "32005      1\n",
       "83969      1\n",
       "Name: Kilometers_Driven, Length: 3093, dtype: int64"
      ]
     },
     "execution_count": 48,
     "metadata": {},
     "output_type": "execute_result"
    }
   ],
   "source": [
    "cars_data1['Kilometers_Driven'].value_counts()"
   ]
  },
  {
   "cell_type": "code",
   "execution_count": 63,
   "metadata": {},
   "outputs": [
    {
     "data": {
      "text/plain": [
       "<matplotlib.axes._subplots.AxesSubplot at 0x18472fd0>"
      ]
     },
     "execution_count": 63,
     "metadata": {},
     "output_type": "execute_result"
    },
    {
     "data": {
      "image/png": "[encoded data removed]",
      "text/plain": [
       "<Figure size 432x288 with 1 Axes>"
      ]
     },
     "metadata": {},
     "output_type": "display_data"
    }
   ],
   "source": [
    "sns.countplot(x = 'Kilometers_Driven',data = cars_data1)"
   ]
  },
  {
   "cell_type": "code",
   "execution_count": 50,
   "metadata": {},
   "outputs": [
    {
     "data": {
      "text/plain": [
       "<matplotlib.axes._subplots.AxesSubplot at 0xc5b0e10>"
      ]
     },
     "execution_count": 50,
     "metadata": {},
     "output_type": "execute_result"
    },
    {
     "data": {
      "image/png": "[encoded data removed]",
      "text/plain": [
       "<Figure size 432x288 with 1 Axes>"
      ]
     },
     "metadata": {},
     "output_type": "display_data"
    }
   ],
   "source": [
    "sns.regplot(x = 'Kilometers_Driven',y = 'Price',scatter = True,fit_reg = False ,data = cars_data1)"
   ]
  },
  {
   "cell_type": "code",
   "execution_count": 51,
   "metadata": {},
   "outputs": [
    {
     "data": {
      "text/plain": [
       "<matplotlib.axes._subplots.AxesSubplot at 0xc96c1d0>"
      ]
     },
     "execution_count": 51,
     "metadata": {},
     "output_type": "execute_result"
    },
    {
     "data": {
      "image/png": "[encoded data removed]",
      "text/plain": [
       "<Figure size 432x288 with 1 Axes>"
      ]
     },
     "metadata": {},
     "output_type": "display_data"
    }
   ],
   "source": [
    "sns.countplot(x = 'Transmission',data = cars_data1)"
   ]
  },
  {
   "cell_type": "code",
   "execution_count": 52,
   "metadata": {},
   "outputs": [
    {
     "data": {
      "text/plain": [
       "<matplotlib.axes._subplots.AxesSubplot at 0xe281898>"
      ]
     },
     "execution_count": 52,
     "metadata": {},
     "output_type": "execute_result"
    },
    {
     "data": {
      "image/png": "[encoded data removed]",
      "text/plain": [
       "<Figure size 432x288 with 1 Axes>"
      ]
     },
     "metadata": {},
     "output_type": "display_data"
    }
   ],
   "source": [
    "sns.countplot(x = 'Engine',data = cars_data1)"
   ]
  },
  {
   "cell_type": "code",
   "execution_count": 53,
   "metadata": {},
   "outputs": [
    {
     "data": {
      "text/plain": [
       "<matplotlib.axes._subplots.AxesSubplot at 0xef13dd8>"
      ]
     },
     "execution_count": 53,
     "metadata": {},
     "output_type": "execute_result"
    },
    {
     "data": {
      "image/png": "[encoded data removed]",
      "text/plain": [
       "<Figure size 432x288 with 1 Axes>"
      ]
     },
     "metadata": {},
     "output_type": "display_data"
    }
   ],
   "source": [
    "sns.countplot(x = 'Power',data = cars_data1)"
   ]
  },
  {
   "cell_type": "code",
   "execution_count": 54,
   "metadata": {},
   "outputs": [
    {
     "data": {
      "text/plain": [
       "<matplotlib.axes._subplots.AxesSubplot at 0x132d9860>"
      ]
     },
     "execution_count": 54,
     "metadata": {},
     "output_type": "execute_result"
    },
    {
     "data": {
      "image/png": "[encoded data removed]",
      "text/plain": [
       "<Figure size 432x288 with 1 Axes>"
      ]
     },
     "metadata": {},
     "output_type": "display_data"
    }
   ],
   "source": [
    "sns.boxplot(x = 'Transmission',y = 'Price',data = cars_data1)"
   ]
  },
  {
   "cell_type": "code",
   "execution_count": 55,
   "metadata": {},
   "outputs": [
    {
     "data": {
      "text/plain": [
       "<matplotlib.axes._subplots.AxesSubplot at 0x130e8b70>"
      ]
     },
     "execution_count": 55,
     "metadata": {},
     "output_type": "execute_result"
    },
    {
     "data": {
      "image/png": "[encoded data removed]",
      "text/plain": [
       "<Figure size 432x288 with 1 Axes>"
      ]
     },
     "metadata": {},
     "output_type": "display_data"
    }
   ],
   "source": [
    "sns.boxplot(x = 'Power',y = 'Price',data = cars_data1)"
   ]
  },
  {
   "cell_type": "code",
   "execution_count": 56,
   "metadata": {},
   "outputs": [
    {
     "data": {
      "text/plain": [
       "<matplotlib.axes._subplots.AxesSubplot at 0x16562390>"
      ]
     },
     "execution_count": 56,
     "metadata": {},
     "output_type": "execute_result"
    },
    {
     "data": {
      "image/png": "[encoded data removed]",
      "text/plain": [
       "<Figure size 432x288 with 1 Axes>"
      ]
     },
     "metadata": {},
     "output_type": "display_data"
    }
   ],
   "source": [
    "sns.boxplot(x = 'Engine',y = 'Price',data = cars_data1)"
   ]
  },
  {
   "cell_type": "code",
   "execution_count": 57,
   "metadata": {},
   "outputs": [
    {
     "data": {
      "text/plain": [
       "<matplotlib.axes._subplots.AxesSubplot at 0x17e21240>"
      ]
     },
     "execution_count": 57,
     "metadata": {},
     "output_type": "execute_result"
    },
    {
     "data": {
      "image/png": "[encoded data removed]",
      "text/plain": [
       "<Figure size 432x288 with 1 Axes>"
      ]
     },
     "metadata": {},
     "output_type": "display_data"
    }
   ],
   "source": [
    "sns.boxplot(x = 'Fuel_Type',y = 'Price',data = cars_data1)"
   ]
  },
  {
   "cell_type": "raw",
   "metadata": {},
   "source": []
  },
  {
   "cell_type": "code",
   "execution_count": 65,
   "metadata": {},
   "outputs": [],
   "source": [
    "cars_data1 = pd.get_dummies(cars_data1,drop_first = True)"
   ]
  },
  {
   "cell_type": "code",
   "execution_count": 66,
   "metadata": {},
   "outputs": [
    {
     "data": {
      "text/plain": [
       "(6017, 969)"
      ]
     },
     "execution_count": 66,
     "metadata": {},
     "output_type": "execute_result"
    }
   ],
   "source": [
    "cars_data1.shape"
   ]
  },
  {
   "cell_type": "code",
   "execution_count": 67,
   "metadata": {},
   "outputs": [],
   "source": [
    "from sklearn.model_selection import train_test_split\n",
    "from sklearn.linear_model import LinearRegression\n",
    "from sklearn.ensemble import RandomForestRegressor\n",
    "from sklearn.metrics import mean_squared_error"
   ]
  },
  {
   "cell_type": "code",
   "execution_count": 68,
   "metadata": {},
   "outputs": [
    {
     "data": {
      "text/plain": [
       "Kilometers_Driven            0\n",
       "Seats                        0\n",
       "Price                        0\n",
       "age                          0\n",
       "Fuel_Type_Diesel             0\n",
       "Fuel_Type_Electric           0\n",
       "Fuel_Type_LPG                0\n",
       "Fuel_Type_Petrol             0\n",
       "Transmission_Manual          0\n",
       "Owner_Type_Fourth & Above    0\n",
       "Owner_Type_Second            0\n",
       "Owner_Type_Third             0\n",
       "Mileage_10.0 kmpl            0\n",
       "Mileage_10.1 kmpl            0\n",
       "Mileage_10.13 kmpl           0\n",
       "Mileage_10.2 kmpl            0\n",
       "Mileage_10.37 kmpl           0\n",
       "Mileage_10.4 kmpl            0\n",
       "Mileage_10.5 kmpl            0\n",
       "Mileage_10.6 kmpl            0\n",
       "Mileage_10.8 kmpl            0\n",
       "Mileage_10.9 kmpl            0\n",
       "Mileage_10.91 kmpl           0\n",
       "Mileage_10.93 kmpl           0\n",
       "Mileage_10.98 kmpl           0\n",
       "Mileage_11.0 kmpl            0\n",
       "Mileage_11.05 kmpl           0\n",
       "Mileage_11.07 kmpl           0\n",
       "Mileage_11.1 kmpl            0\n",
       "Mileage_11.18 kmpl           0\n",
       "                            ..\n",
       "Power_88.5 bhp               0\n",
       "Power_88.50 bhp              0\n",
       "Power_88.7 bhp               0\n",
       "Power_88.73 bhp              0\n",
       "Power_88.76 bhp              0\n",
       "Power_88.8 bhp               0\n",
       "Power_89.75 bhp              0\n",
       "Power_89.84 bhp              0\n",
       "Power_90 bhp                 0\n",
       "Power_91.1 bhp               0\n",
       "Power_91.2 bhp               0\n",
       "Power_91.7 bhp               0\n",
       "Power_91.72 bhp              0\n",
       "Power_92 bhp                 0\n",
       "Power_92.7 bhp               0\n",
       "Power_93 bhp                 0\n",
       "Power_93.7 bhp               0\n",
       "Power_94 bhp                 0\n",
       "Power_94.68 bhp              0\n",
       "Power_95 bhp                 0\n",
       "Power_97.6 bhp               0\n",
       "Power_97.7 bhp               0\n",
       "Power_98.59 bhp              0\n",
       "Power_98.6 bhp               0\n",
       "Power_98.79 bhp              0\n",
       "Power_98.82 bhp              0\n",
       "Power_98.96 bhp              0\n",
       "Power_99 bhp                 0\n",
       "Power_99.6 bhp               0\n",
       "Power_null bhp               0\n",
       "Length: 969, dtype: int64"
      ]
     },
     "execution_count": 68,
     "metadata": {},
     "output_type": "execute_result"
    }
   ],
   "source": [
    "cars_data1.isnull().sum()"
   ]
  },
  {
   "cell_type": "code",
   "execution_count": 69,
   "metadata": {},
   "outputs": [],
   "source": [
    "x1 = cars_data1.drop(['Price'],axis = 'columns',inplace = False)\n",
    "y1 = cars_data1['Price']"
   ]
  },
  {
   "cell_type": "code",
   "execution_count": 74,
   "metadata": {},
   "outputs": [],
   "source": [
    "y1 = np.log(y1)"
   ]
  },
  {
   "cell_type": "code",
   "execution_count": 75,
   "metadata": {},
   "outputs": [
    {
     "data": {
      "text/plain": [
       "<matplotlib.axes._subplots.AxesSubplot at 0x18c1e978>"
      ]
     },
     "execution_count": 75,
     "metadata": {},
     "output_type": "execute_result"
    },
    {
     "data": {
      "image/png": "[encoded data removed]",
      "text/plain": [
       "<Figure size 432x288 with 1 Axes>"
      ]
     },
     "metadata": {},
     "output_type": "display_data"
    }
   ],
   "source": [
    "y1.hist()"
   ]
  },
  {
   "cell_type": "code",
   "execution_count": 76,
   "metadata": {},
   "outputs": [
    {
     "name": "stdout",
     "output_type": "stream",
     "text": [
      "(4211, 968) (1806, 968) (4211,) (1806,)\n"
     ]
    }
   ],
   "source": [
    "x_train, x_test, y_train, y_test = train_test_split(x1, y1, test_size=0.3, random_state=3)\n",
    "print(x_train.shape,x_test.shape,y_train.shape,y_test.shape)\n"
   ]
  },
  {
   "cell_type": "code",
   "execution_count": 77,
   "metadata": {},
   "outputs": [],
   "source": [
    "base_pred = np.mean(y_test)"
   ]
  },
  {
   "cell_type": "code",
   "execution_count": 78,
   "metadata": {},
   "outputs": [
    {
     "name": "stdout",
     "output_type": "stream",
     "text": [
      "1.8152055075565066\n"
     ]
    }
   ],
   "source": [
    "print(base_pred)"
   ]
  },
  {
   "cell_type": "code",
   "execution_count": 79,
   "metadata": {},
   "outputs": [],
   "source": [
    "base_pred = np.repeat(base_pred,len(y_test))"
   ]
  },
  {
   "cell_type": "code",
   "execution_count": 81,
   "metadata": {},
   "outputs": [],
   "source": [
    "base_root_mean_square_error = np.sqrt(mean_squared_error(y_test,base_pred))"
   ]
  },
  {
   "cell_type": "code",
   "execution_count": 82,
   "metadata": {},
   "outputs": [
    {
     "name": "stdout",
     "output_type": "stream",
     "text": [
      "0.8654053248235483\n"
     ]
    }
   ],
   "source": [
    "print(base_root_mean_square_error)"
   ]
  },
  {
   "cell_type": "code",
   "execution_count": 83,
   "metadata": {},
   "outputs": [],
   "source": [
    "lgr =LinearRegression(fit_intercept = True)"
   ]
  },
  {
   "cell_type": "code",
   "execution_count": 85,
   "metadata": {},
   "outputs": [],
   "source": [
    "model_lin1 = lgr.fit(x_train,y_train)"
   ]
  },
  {
   "cell_type": "code",
   "execution_count": 86,
   "metadata": {},
   "outputs": [],
   "source": [
    "cars_prediction_lin1 = lgr.predict(x_test)"
   ]
  },
  {
   "cell_type": "code",
   "execution_count": 87,
   "metadata": {},
   "outputs": [],
   "source": [
    "lin_mse = mean_squared_error(y_test,cars_prediction_lin1)\n",
    "lin_rmse = np.sqrt(lin_mse)"
   ]
  },
  {
   "cell_type": "code",
   "execution_count": 88,
   "metadata": {},
   "outputs": [
    {
     "name": "stdout",
     "output_type": "stream",
     "text": [
      "0.30089766576941657\n"
     ]
    }
   ],
   "source": [
    "print(lin_rmse)"
   ]
  },
  {
   "cell_type": "code",
   "execution_count": 89,
   "metadata": {},
   "outputs": [],
   "source": [
    "r_lin_test1 = model_lin1.score(x_test,y_test)"
   ]
  },
  {
   "cell_type": "code",
   "execution_count": 90,
   "metadata": {},
   "outputs": [],
   "source": [
    "r_lin_train1 = model_lin1.score(x_train,y_train)"
   ]
  },
  {
   "cell_type": "code",
   "execution_count": 91,
   "metadata": {},
   "outputs": [
    {
     "name": "stdout",
     "output_type": "stream",
     "text": [
      "0.8791077359020382 0.961378933579988\n"
     ]
    }
   ],
   "source": [
    "print(r_lin_test1,r_lin_train1)"
   ]
  },
  {
   "cell_type": "code",
   "execution_count": 93,
   "metadata": {},
   "outputs": [
    {
     "data": {
      "text/plain": [
       "count   1806.000\n",
       "mean       0.005\n",
       "std        0.301\n",
       "min       -3.248\n",
       "25%       -0.128\n",
       "50%        0.007\n",
       "75%        0.130\n",
       "max        2.905\n",
       "Name: Price, dtype: float64"
      ]
     },
     "execution_count": 93,
     "metadata": {},
     "output_type": "execute_result"
    },
    {
     "data": {
      "image/png": "[encoded data removed]",
      "text/plain": [
       "<Figure size 432x288 with 1 Axes>"
      ]
     },
     "metadata": {},
     "output_type": "display_data"
    }
   ],
   "source": [
    "residuals1 = y_test-cars_prediction_lin1\n",
    "sns.regplot(x =cars_prediction_lin1,y = residuals1 ,scatter =True,fit_reg = False,data = cars_data1 )\n",
    "residuals1.describe()"
   ]
  },
  {
   "cell_type": "code",
   "execution_count": 94,
   "metadata": {},
   "outputs": [],
   "source": [
    "rf  = RandomForestRegressor(n_estimators = 100,max_features = 'auto',max_depth = 100,min_samples_split = 10,min_samples_leaf = 4,random_state = 1)"
   ]
  },
  {
   "cell_type": "code",
   "execution_count": 96,
   "metadata": {},
   "outputs": [],
   "source": [
    "model1 = rf.fit(x_train,y_train)"
   ]
  },
  {
   "cell_type": "code",
   "execution_count": 97,
   "metadata": {},
   "outputs": [],
   "source": [
    "cars_prediction_rf1 = rf.predict(x_test)"
   ]
  },
  {
   "cell_type": "code",
   "execution_count": 98,
   "metadata": {},
   "outputs": [],
   "source": [
    "rf_mse = mean_squared_error(y_test,cars_prediction_rf1)\n",
    "rf_rmse = np.sqrt(rf_mse)"
   ]
  },
  {
   "cell_type": "code",
   "execution_count": 100,
   "metadata": {},
   "outputs": [
    {
     "name": "stdout",
     "output_type": "stream",
     "text": [
      "0.35744634677934933\n"
     ]
    }
   ],
   "source": [
    "print(rf_rmse)"
   ]
  },
  {
   "cell_type": "code",
   "execution_count": 103,
   "metadata": {},
   "outputs": [
    {
     "name": "stdout",
     "output_type": "stream",
     "text": [
      "0.8293985966036254 0.8293985966036254\n"
     ]
    }
   ],
   "source": [
    "r_rf_test1 = model1.score(x_test,y_test)\n",
    "r_rf_train = model1.score(x_test,y_test)\n",
    "print(r_rf_test1,r_rf_train)"
   ]
  },
  {
   "cell_type": "code",
   "execution_count": 104,
   "metadata": {},
   "outputs": [
    {
     "name": "stdout",
     "output_type": "stream",
     "text": [
      "metrics for model where missing values were imputed \n",
      "r sqared value for train from linear regression = 0.961378933579988\n",
      "r sqared value for test from linear regression = 0.8791077359020382\n",
      "r sqared value for train from random_forest = 0.8293985966036254\n",
      "r sqared value for test from random_forest = 0.8293985966036254\n",
      "base rmse value = 0.8654053248235483 \n",
      "rmse from linear regression = 0.30089766576941657\n",
      "rmse from random foerest = 0.35744634677934933\n"
     ]
    }
   ],
   "source": [
    "print('metrics for model where missing values were imputed ')\n",
    "print('r sqared value for train from linear regression = %s'%r_lin_train1)\n",
    "print('r sqared value for test from linear regression = %s' %r_lin_test1)\n",
    "print('r sqared value for train from random_forest = %s'% r_rf_train )\n",
    "print('r sqared value for test from random_forest = %s' %r_rf_test1)\n",
    "\n",
    "print('base rmse value = %s ' % base_root_mean_square_error)\n",
    "print('rmse from linear regression = %s'%lin_rmse)\n",
    "print('rmse from random foerest = %s'%rf_rmse)"
   ]
  },
  {
   "cell_type": "code",
   "execution_count": null,
   "metadata": {},
   "outputs": [],
   "source": [
    "#end of script#"
   ]
  }
 ],
 "metadata": {
  "kernelspec": {
   "display_name": "Python 3",
   "language": "python",
   "name": "python3"
  },
  "language_info": {
   "codemirror_mode": {
    "name": "ipython",
    "version": 3
   },
   "file_extension": ".py",
   "mimetype": "text/x-python",
   "name": "python",
   "nbconvert_exporter": "python",
   "pygments_lexer": "ipython3",
   "version": "3.6.5"
  }
 },
 "nbformat": 4,
 "nbformat_minor": 2
}
