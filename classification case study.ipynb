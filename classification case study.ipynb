{
 "cells": [
  {
   "cell_type": "code",
   "execution_count": 1,
   "metadata": {},
   "outputs": [],
   "source": [
    "import pandas as pd\n",
    "import numpy as np\n",
    "import matplotlib.pyplot as plt\n",
    "import seaborn as sns\n",
    "from sklearn.model_selection import train_test_split\n",
    "from sklearn.metrics import accuracy_score ,confusion_matrix\n",
    "from sklearn.linear_model import LogisticRegression\n",
    "import os"
   ]
  },
  {
   "cell_type": "code",
   "execution_count": 2,
   "metadata": {},
   "outputs": [],
   "source": [
    "os.chdir('D:\\Reg ')"
   ]
  },
  {
   "cell_type": "code",
   "execution_count": 3,
   "metadata": {},
   "outputs": [],
   "source": [
    "data = pd.read_csv('framingham.csv')"
   ]
  },
  {
   "cell_type": "code",
   "execution_count": 4,
   "metadata": {},
   "outputs": [
    {
     "data": {
      "text/html": [
       "<div>\n",
       "<style scoped>\n",
       "    .dataframe tbody tr th:only-of-type {\n",
       "        vertical-align: middle;\n",
       "    }\n",
       "\n",
       "    .dataframe tbody tr th {\n",
       "        vertical-align: top;\n",
       "    }\n",
       "\n",
       "    .dataframe thead th {\n",
       "        text-align: right;\n",
       "    }\n",
       "</style>\n",
       "<table border=\"1\" class=\"dataframe\">\n",
       "  <thead>\n",
       "    <tr style=\"text-align: right;\">\n",
       "      <th></th>\n",
       "      <th>male</th>\n",
       "      <th>age</th>\n",
       "      <th>education</th>\n",
       "      <th>currentSmoker</th>\n",
       "      <th>cigsPerDay</th>\n",
       "      <th>BPMeds</th>\n",
       "      <th>prevalentStroke</th>\n",
       "      <th>prevalentHyp</th>\n",
       "      <th>diabetes</th>\n",
       "      <th>totChol</th>\n",
       "      <th>sysBP</th>\n",
       "      <th>diaBP</th>\n",
       "      <th>BMI</th>\n",
       "      <th>heartRate</th>\n",
       "      <th>glucose</th>\n",
       "      <th>TenYearCHD</th>\n",
       "    </tr>\n",
       "  </thead>\n",
       "  <tbody>\n",
       "    <tr>\n",
       "      <th>0</th>\n",
       "      <td>1</td>\n",
       "      <td>39</td>\n",
       "      <td>4.0</td>\n",
       "      <td>0</td>\n",
       "      <td>0.0</td>\n",
       "      <td>0.0</td>\n",
       "      <td>0</td>\n",
       "      <td>0</td>\n",
       "      <td>0</td>\n",
       "      <td>195.0</td>\n",
       "      <td>106.0</td>\n",
       "      <td>70.0</td>\n",
       "      <td>26.97</td>\n",
       "      <td>80.0</td>\n",
       "      <td>77.0</td>\n",
       "      <td>0</td>\n",
       "    </tr>\n",
       "    <tr>\n",
       "      <th>1</th>\n",
       "      <td>0</td>\n",
       "      <td>46</td>\n",
       "      <td>2.0</td>\n",
       "      <td>0</td>\n",
       "      <td>0.0</td>\n",
       "      <td>0.0</td>\n",
       "      <td>0</td>\n",
       "      <td>0</td>\n",
       "      <td>0</td>\n",
       "      <td>250.0</td>\n",
       "      <td>121.0</td>\n",
       "      <td>81.0</td>\n",
       "      <td>28.73</td>\n",
       "      <td>95.0</td>\n",
       "      <td>76.0</td>\n",
       "      <td>0</td>\n",
       "    </tr>\n",
       "    <tr>\n",
       "      <th>2</th>\n",
       "      <td>1</td>\n",
       "      <td>48</td>\n",
       "      <td>1.0</td>\n",
       "      <td>1</td>\n",
       "      <td>20.0</td>\n",
       "      <td>0.0</td>\n",
       "      <td>0</td>\n",
       "      <td>0</td>\n",
       "      <td>0</td>\n",
       "      <td>245.0</td>\n",
       "      <td>127.5</td>\n",
       "      <td>80.0</td>\n",
       "      <td>25.34</td>\n",
       "      <td>75.0</td>\n",
       "      <td>70.0</td>\n",
       "      <td>0</td>\n",
       "    </tr>\n",
       "    <tr>\n",
       "      <th>3</th>\n",
       "      <td>0</td>\n",
       "      <td>61</td>\n",
       "      <td>3.0</td>\n",
       "      <td>1</td>\n",
       "      <td>30.0</td>\n",
       "      <td>0.0</td>\n",
       "      <td>0</td>\n",
       "      <td>1</td>\n",
       "      <td>0</td>\n",
       "      <td>225.0</td>\n",
       "      <td>150.0</td>\n",
       "      <td>95.0</td>\n",
       "      <td>28.58</td>\n",
       "      <td>65.0</td>\n",
       "      <td>103.0</td>\n",
       "      <td>1</td>\n",
       "    </tr>\n",
       "    <tr>\n",
       "      <th>4</th>\n",
       "      <td>0</td>\n",
       "      <td>46</td>\n",
       "      <td>3.0</td>\n",
       "      <td>1</td>\n",
       "      <td>23.0</td>\n",
       "      <td>0.0</td>\n",
       "      <td>0</td>\n",
       "      <td>0</td>\n",
       "      <td>0</td>\n",
       "      <td>285.0</td>\n",
       "      <td>130.0</td>\n",
       "      <td>84.0</td>\n",
       "      <td>23.10</td>\n",
       "      <td>85.0</td>\n",
       "      <td>85.0</td>\n",
       "      <td>0</td>\n",
       "    </tr>\n",
       "  </tbody>\n",
       "</table>\n",
       "</div>"
      ],
      "text/plain": [
       "   male  age  education  currentSmoker  cigsPerDay  BPMeds  prevalentStroke  \\\n",
       "0     1   39        4.0              0         0.0     0.0                0   \n",
       "1     0   46        2.0              0         0.0     0.0                0   \n",
       "2     1   48        1.0              1        20.0     0.0                0   \n",
       "3     0   61        3.0              1        30.0     0.0                0   \n",
       "4     0   46        3.0              1        23.0     0.0                0   \n",
       "\n",
       "   prevalentHyp  diabetes  totChol  sysBP  diaBP    BMI  heartRate  glucose  \\\n",
       "0             0         0    195.0  106.0   70.0  26.97       80.0     77.0   \n",
       "1             0         0    250.0  121.0   81.0  28.73       95.0     76.0   \n",
       "2             0         0    245.0  127.5   80.0  25.34       75.0     70.0   \n",
       "3             1         0    225.0  150.0   95.0  28.58       65.0    103.0   \n",
       "4             0         0    285.0  130.0   84.0  23.10       85.0     85.0   \n",
       "\n",
       "   TenYearCHD  \n",
       "0           0  \n",
       "1           0  \n",
       "2           0  \n",
       "3           1  \n",
       "4           0  "
      ]
     },
     "execution_count": 4,
     "metadata": {},
     "output_type": "execute_result"
    }
   ],
   "source": [
    "data.head()"
   ]
  },
  {
   "cell_type": "code",
   "execution_count": 5,
   "metadata": {},
   "outputs": [
    {
     "data": {
      "text/html": [
       "<div>\n",
       "<style scoped>\n",
       "    .dataframe tbody tr th:only-of-type {\n",
       "        vertical-align: middle;\n",
       "    }\n",
       "\n",
       "    .dataframe tbody tr th {\n",
       "        vertical-align: top;\n",
       "    }\n",
       "\n",
       "    .dataframe thead th {\n",
       "        text-align: right;\n",
       "    }\n",
       "</style>\n",
       "<table border=\"1\" class=\"dataframe\">\n",
       "  <thead>\n",
       "    <tr style=\"text-align: right;\">\n",
       "      <th></th>\n",
       "      <th>male</th>\n",
       "      <th>age</th>\n",
       "      <th>education</th>\n",
       "      <th>currentSmoker</th>\n",
       "      <th>cigsPerDay</th>\n",
       "      <th>BPMeds</th>\n",
       "      <th>prevalentStroke</th>\n",
       "      <th>prevalentHyp</th>\n",
       "      <th>diabetes</th>\n",
       "      <th>totChol</th>\n",
       "      <th>sysBP</th>\n",
       "      <th>diaBP</th>\n",
       "      <th>BMI</th>\n",
       "      <th>heartRate</th>\n",
       "      <th>glucose</th>\n",
       "      <th>TenYearCHD</th>\n",
       "    </tr>\n",
       "  </thead>\n",
       "  <tbody>\n",
       "    <tr>\n",
       "      <th>count</th>\n",
       "      <td>4240.000000</td>\n",
       "      <td>4240.000000</td>\n",
       "      <td>4135.000000</td>\n",
       "      <td>4240.000000</td>\n",
       "      <td>4211.000000</td>\n",
       "      <td>4187.000000</td>\n",
       "      <td>4240.000000</td>\n",
       "      <td>4240.000000</td>\n",
       "      <td>4240.000000</td>\n",
       "      <td>4190.000000</td>\n",
       "      <td>4240.000000</td>\n",
       "      <td>4240.000000</td>\n",
       "      <td>4221.000000</td>\n",
       "      <td>4239.000000</td>\n",
       "      <td>3852.000000</td>\n",
       "      <td>4240.000000</td>\n",
       "    </tr>\n",
       "    <tr>\n",
       "      <th>mean</th>\n",
       "      <td>0.429245</td>\n",
       "      <td>49.580189</td>\n",
       "      <td>1.979444</td>\n",
       "      <td>0.494104</td>\n",
       "      <td>9.005937</td>\n",
       "      <td>0.029615</td>\n",
       "      <td>0.005896</td>\n",
       "      <td>0.310613</td>\n",
       "      <td>0.025708</td>\n",
       "      <td>236.699523</td>\n",
       "      <td>132.354599</td>\n",
       "      <td>82.897759</td>\n",
       "      <td>25.800801</td>\n",
       "      <td>75.878981</td>\n",
       "      <td>81.963655</td>\n",
       "      <td>0.151887</td>\n",
       "    </tr>\n",
       "    <tr>\n",
       "      <th>std</th>\n",
       "      <td>0.495027</td>\n",
       "      <td>8.572942</td>\n",
       "      <td>1.019791</td>\n",
       "      <td>0.500024</td>\n",
       "      <td>11.922462</td>\n",
       "      <td>0.169544</td>\n",
       "      <td>0.076569</td>\n",
       "      <td>0.462799</td>\n",
       "      <td>0.158280</td>\n",
       "      <td>44.591284</td>\n",
       "      <td>22.033300</td>\n",
       "      <td>11.910394</td>\n",
       "      <td>4.079840</td>\n",
       "      <td>12.025348</td>\n",
       "      <td>23.954335</td>\n",
       "      <td>0.358953</td>\n",
       "    </tr>\n",
       "    <tr>\n",
       "      <th>min</th>\n",
       "      <td>0.000000</td>\n",
       "      <td>32.000000</td>\n",
       "      <td>1.000000</td>\n",
       "      <td>0.000000</td>\n",
       "      <td>0.000000</td>\n",
       "      <td>0.000000</td>\n",
       "      <td>0.000000</td>\n",
       "      <td>0.000000</td>\n",
       "      <td>0.000000</td>\n",
       "      <td>107.000000</td>\n",
       "      <td>83.500000</td>\n",
       "      <td>48.000000</td>\n",
       "      <td>15.540000</td>\n",
       "      <td>44.000000</td>\n",
       "      <td>40.000000</td>\n",
       "      <td>0.000000</td>\n",
       "    </tr>\n",
       "    <tr>\n",
       "      <th>25%</th>\n",
       "      <td>0.000000</td>\n",
       "      <td>42.000000</td>\n",
       "      <td>1.000000</td>\n",
       "      <td>0.000000</td>\n",
       "      <td>0.000000</td>\n",
       "      <td>0.000000</td>\n",
       "      <td>0.000000</td>\n",
       "      <td>0.000000</td>\n",
       "      <td>0.000000</td>\n",
       "      <td>206.000000</td>\n",
       "      <td>117.000000</td>\n",
       "      <td>75.000000</td>\n",
       "      <td>23.070000</td>\n",
       "      <td>68.000000</td>\n",
       "      <td>71.000000</td>\n",
       "      <td>0.000000</td>\n",
       "    </tr>\n",
       "    <tr>\n",
       "      <th>50%</th>\n",
       "      <td>0.000000</td>\n",
       "      <td>49.000000</td>\n",
       "      <td>2.000000</td>\n",
       "      <td>0.000000</td>\n",
       "      <td>0.000000</td>\n",
       "      <td>0.000000</td>\n",
       "      <td>0.000000</td>\n",
       "      <td>0.000000</td>\n",
       "      <td>0.000000</td>\n",
       "      <td>234.000000</td>\n",
       "      <td>128.000000</td>\n",
       "      <td>82.000000</td>\n",
       "      <td>25.400000</td>\n",
       "      <td>75.000000</td>\n",
       "      <td>78.000000</td>\n",
       "      <td>0.000000</td>\n",
       "    </tr>\n",
       "    <tr>\n",
       "      <th>75%</th>\n",
       "      <td>1.000000</td>\n",
       "      <td>56.000000</td>\n",
       "      <td>3.000000</td>\n",
       "      <td>1.000000</td>\n",
       "      <td>20.000000</td>\n",
       "      <td>0.000000</td>\n",
       "      <td>0.000000</td>\n",
       "      <td>1.000000</td>\n",
       "      <td>0.000000</td>\n",
       "      <td>263.000000</td>\n",
       "      <td>144.000000</td>\n",
       "      <td>90.000000</td>\n",
       "      <td>28.040000</td>\n",
       "      <td>83.000000</td>\n",
       "      <td>87.000000</td>\n",
       "      <td>0.000000</td>\n",
       "    </tr>\n",
       "    <tr>\n",
       "      <th>max</th>\n",
       "      <td>1.000000</td>\n",
       "      <td>70.000000</td>\n",
       "      <td>4.000000</td>\n",
       "      <td>1.000000</td>\n",
       "      <td>70.000000</td>\n",
       "      <td>1.000000</td>\n",
       "      <td>1.000000</td>\n",
       "      <td>1.000000</td>\n",
       "      <td>1.000000</td>\n",
       "      <td>696.000000</td>\n",
       "      <td>295.000000</td>\n",
       "      <td>142.500000</td>\n",
       "      <td>56.800000</td>\n",
       "      <td>143.000000</td>\n",
       "      <td>394.000000</td>\n",
       "      <td>1.000000</td>\n",
       "    </tr>\n",
       "  </tbody>\n",
       "</table>\n",
       "</div>"
      ],
      "text/plain": [
       "              male          age    education  currentSmoker   cigsPerDay  \\\n",
       "count  4240.000000  4240.000000  4135.000000    4240.000000  4211.000000   \n",
       "mean      0.429245    49.580189     1.979444       0.494104     9.005937   \n",
       "std       0.495027     8.572942     1.019791       0.500024    11.922462   \n",
       "min       0.000000    32.000000     1.000000       0.000000     0.000000   \n",
       "25%       0.000000    42.000000     1.000000       0.000000     0.000000   \n",
       "50%       0.000000    49.000000     2.000000       0.000000     0.000000   \n",
       "75%       1.000000    56.000000     3.000000       1.000000    20.000000   \n",
       "max       1.000000    70.000000     4.000000       1.000000    70.000000   \n",
       "\n",
       "            BPMeds  prevalentStroke  prevalentHyp     diabetes      totChol  \\\n",
       "count  4187.000000      4240.000000   4240.000000  4240.000000  4190.000000   \n",
       "mean      0.029615         0.005896      0.310613     0.025708   236.699523   \n",
       "std       0.169544         0.076569      0.462799     0.158280    44.591284   \n",
       "min       0.000000         0.000000      0.000000     0.000000   107.000000   \n",
       "25%       0.000000         0.000000      0.000000     0.000000   206.000000   \n",
       "50%       0.000000         0.000000      0.000000     0.000000   234.000000   \n",
       "75%       0.000000         0.000000      1.000000     0.000000   263.000000   \n",
       "max       1.000000         1.000000      1.000000     1.000000   696.000000   \n",
       "\n",
       "             sysBP        diaBP          BMI    heartRate      glucose  \\\n",
       "count  4240.000000  4240.000000  4221.000000  4239.000000  3852.000000   \n",
       "mean    132.354599    82.897759    25.800801    75.878981    81.963655   \n",
       "std      22.033300    11.910394     4.079840    12.025348    23.954335   \n",
       "min      83.500000    48.000000    15.540000    44.000000    40.000000   \n",
       "25%     117.000000    75.000000    23.070000    68.000000    71.000000   \n",
       "50%     128.000000    82.000000    25.400000    75.000000    78.000000   \n",
       "75%     144.000000    90.000000    28.040000    83.000000    87.000000   \n",
       "max     295.000000   142.500000    56.800000   143.000000   394.000000   \n",
       "\n",
       "        TenYearCHD  \n",
       "count  4240.000000  \n",
       "mean      0.151887  \n",
       "std       0.358953  \n",
       "min       0.000000  \n",
       "25%       0.000000  \n",
       "50%       0.000000  \n",
       "75%       0.000000  \n",
       "max       1.000000  "
      ]
     },
     "execution_count": 5,
     "metadata": {},
     "output_type": "execute_result"
    }
   ],
   "source": [
    "data.describe()"
   ]
  },
  {
   "cell_type": "code",
   "execution_count": 6,
   "metadata": {},
   "outputs": [
    {
     "data": {
      "text/plain": [
       "(4240, 16)"
      ]
     },
     "execution_count": 6,
     "metadata": {},
     "output_type": "execute_result"
    }
   ],
   "source": [
    "data.shape"
   ]
  },
  {
   "cell_type": "code",
   "execution_count": 7,
   "metadata": {},
   "outputs": [],
   "source": [
    "#creating a copy of orginal data\n",
    "data1 = data.copy()"
   ]
  },
  {
   "cell_type": "code",
   "execution_count": 8,
   "metadata": {},
   "outputs": [],
   "source": [
    "# eda"
   ]
  },
  {
   "cell_type": "code",
   "execution_count": 10,
   "metadata": {},
   "outputs": [
    {
     "name": "stdout",
     "output_type": "stream",
     "text": [
      "<class 'pandas.core.frame.DataFrame'>\n",
      "RangeIndex: 4240 entries, 0 to 4239\n",
      "Data columns (total 16 columns):\n",
      "male               4240 non-null int64\n",
      "age                4240 non-null int64\n",
      "education          4135 non-null float64\n",
      "currentSmoker      4240 non-null int64\n",
      "cigsPerDay         4211 non-null float64\n",
      "BPMeds             4187 non-null float64\n",
      "prevalentStroke    4240 non-null int64\n",
      "prevalentHyp       4240 non-null int64\n",
      "diabetes           4240 non-null int64\n",
      "totChol            4190 non-null float64\n",
      "sysBP              4240 non-null float64\n",
      "diaBP              4240 non-null float64\n",
      "BMI                4221 non-null float64\n",
      "heartRate          4239 non-null float64\n",
      "glucose            3852 non-null float64\n",
      "TenYearCHD         4240 non-null int64\n",
      "dtypes: float64(9), int64(7)\n",
      "memory usage: 530.1 KB\n",
      "None\n"
     ]
    }
   ],
   "source": [
    "print(data1.info())"
   ]
  },
  {
   "cell_type": "code",
   "execution_count": 11,
   "metadata": {},
   "outputs": [
    {
     "data": {
      "text/plain": [
       "male                 0\n",
       "age                  0\n",
       "education          105\n",
       "currentSmoker        0\n",
       "cigsPerDay          29\n",
       "BPMeds              53\n",
       "prevalentStroke      0\n",
       "prevalentHyp         0\n",
       "diabetes             0\n",
       "totChol             50\n",
       "sysBP                0\n",
       "diaBP                0\n",
       "BMI                 19\n",
       "heartRate            1\n",
       "glucose            388\n",
       "TenYearCHD           0\n",
       "dtype: int64"
      ]
     },
     "execution_count": 11,
     "metadata": {},
     "output_type": "execute_result"
    }
   ],
   "source": [
    "data1.isnull().sum()"
   ]
  },
  {
   "cell_type": "code",
   "execution_count": 18,
   "metadata": {},
   "outputs": [],
   "source": [
    "data1 = data1.apply(lambda x : x.fillna(x.mean())\n",
    "                              if x.dtype =='int' else\n",
    "                              x.fillna(x.value_counts().index[0]))"
   ]
  },
  {
   "cell_type": "code",
   "execution_count": 16,
   "metadata": {},
   "outputs": [
    {
     "data": {
      "text/plain": [
       "male               0\n",
       "age                0\n",
       "education          0\n",
       "currentSmoker      0\n",
       "cigsPerDay         0\n",
       "BPMeds             0\n",
       "prevalentStroke    0\n",
       "prevalentHyp       0\n",
       "diabetes           0\n",
       "totChol            0\n",
       "sysBP              0\n",
       "diaBP              0\n",
       "BMI                0\n",
       "heartRate          0\n",
       "glucose            0\n",
       "TenYearCHD         0\n",
       "dtype: int64"
      ]
     },
     "execution_count": 16,
     "metadata": {},
     "output_type": "execute_result"
    }
   ],
   "source": [
    "data1.isnull().sum()"
   ]
  },
  {
   "cell_type": "code",
   "execution_count": 25,
   "metadata": {},
   "outputs": [],
   "source": [
    "data1_con = data1[['totChol', 'sysBP','diaBP', 'BMI', 'heartRate', 'glucose','cigsPerDay']]"
   ]
  },
  {
   "cell_type": "code",
   "execution_count": 26,
   "metadata": {},
   "outputs": [],
   "source": [
    "# subset the categorical variables\n",
    "data1_nom = data1[['male', 'age', 'education', 'currentSmoker', 'BPMeds','prevalentStroke', 'prevalentHyp', 'diabetes' ]]"
   ]
  },
  {
   "cell_type": "code",
   "execution_count": 28,
   "metadata": {},
   "outputs": [
    {
     "name": "stdout",
     "output_type": "stream",
     "text": [
      "[0.00000000e+00 2.96154765e-02 1.00000000e+00 1.97944377e+00\n",
      " 2.00000000e+00 3.00000000e+00 4.00000000e+00 3.20000000e+01\n",
      " 3.30000000e+01 3.40000000e+01 3.50000000e+01 3.60000000e+01\n",
      " 3.70000000e+01 3.80000000e+01 3.90000000e+01 4.00000000e+01\n",
      " 4.10000000e+01 4.20000000e+01 4.30000000e+01 4.40000000e+01\n",
      " 4.50000000e+01 4.60000000e+01 4.70000000e+01 4.80000000e+01\n",
      " 4.90000000e+01 5.00000000e+01 5.10000000e+01 5.20000000e+01\n",
      " 5.30000000e+01 5.40000000e+01 5.50000000e+01 5.60000000e+01\n",
      " 5.70000000e+01 5.80000000e+01 5.90000000e+01 6.00000000e+01\n",
      " 6.10000000e+01 6.20000000e+01 6.30000000e+01 6.40000000e+01\n",
      " 6.50000000e+01 6.60000000e+01 6.70000000e+01 6.80000000e+01\n",
      " 6.90000000e+01 7.00000000e+01]\n"
     ]
    }
   ],
   "source": [
    "print(np.unique(data1_nom))"
   ]
  },
  {
   "cell_type": "code",
   "execution_count": 29,
   "metadata": {},
   "outputs": [
    {
     "data": {
      "image/png": "[encoded data removed]",
      "text/plain": [
       "<Figure size 1008x720 with 2 Axes>"
      ]
     },
     "metadata": {},
     "output_type": "display_data"
    }
   ],
   "source": [
    "# adjust the width and height of the figure\n",
    "plt.figure(figsize=(14,10))\n",
    "\n",
    "# create a heatmap of correlation matrix\n",
    "correlation_matrix = data1.corr()\n",
    "# annot = True to print the values inside the square\n",
    "sns.heatmap(data=correlation_matrix, annot=True)\n",
    "plt.show()"
   ]
  },
  {
   "cell_type": "code",
   "execution_count": 31,
   "metadata": {},
   "outputs": [
    {
     "name": "stderr",
     "output_type": "stream",
     "text": [
      "C:\\Users\\Aspire\\Anaconda3\\lib\\site-packages\\IPython\\core\\interactiveshell.py:2963: UserWarning: To output multiple subplots, the figure containing the passed axes is being cleared\n",
      "  exec(code_obj, self.user_global_ns, self.user_ns)\n"
     ]
    },
    {
     "data": {
      "image/png": "[encoded data removed]",
      "text/plain": [
       "<Figure size 720x720 with 16 Axes>"
      ]
     },
     "metadata": {},
     "output_type": "display_data"
    }
   ],
   "source": [
    "fig = plt.figure(figsize = (10,10))\n",
    "# gca - get current axis\n",
    "ax = fig.gca()\n",
    "data1.hist(ax = ax)\n",
    "plt.show()"
   ]
  },
  {
   "cell_type": "code",
   "execution_count": 33,
   "metadata": {},
   "outputs": [
    {
     "data": {
      "text/plain": [
       "Index(['male', 'age', 'education', 'currentSmoker', 'cigsPerDay', 'BPMeds',\n",
       "       'prevalentStroke', 'prevalentHyp', 'diabetes', 'totChol', 'sysBP',\n",
       "       'diaBP', 'BMI', 'heartRate', 'glucose', 'TenYearCHD'],\n",
       "      dtype='object')"
      ]
     },
     "execution_count": 33,
     "metadata": {},
     "output_type": "execute_result"
    }
   ],
   "source": [
    "data1.columns"
   ]
  },
  {
   "cell_type": "code",
   "execution_count": 37,
   "metadata": {},
   "outputs": [],
   "source": [
    "age_diabetes = pd.crosstab(index = data1['age'],columns = data1['diabetes'],margins = True,normalize = 'index')"
   ]
  },
  {
   "cell_type": "code",
   "execution_count": 38,
   "metadata": {},
   "outputs": [
    {
     "name": "stdout",
     "output_type": "stream",
     "text": [
      "diabetes         0         1\n",
      "age                         \n",
      "32        1.000000  0.000000\n",
      "33        1.000000  0.000000\n",
      "34        1.000000  0.000000\n",
      "35        1.000000  0.000000\n",
      "36        0.988095  0.011905\n",
      "37        1.000000  0.000000\n",
      "38        1.000000  0.000000\n",
      "39        0.988235  0.011765\n",
      "40        0.994792  0.005208\n",
      "41        0.994253  0.005747\n",
      "42        1.000000  0.000000\n",
      "43        0.987421  0.012579\n",
      "44        0.975904  0.024096\n",
      "45        0.987654  0.012346\n",
      "46        0.989011  0.010989\n",
      "47        0.936170  0.063830\n",
      "48        0.982659  0.017341\n",
      "49        0.992424  0.007576\n",
      "50        0.964286  0.035714\n",
      "51        1.000000  0.000000\n",
      "52        0.932886  0.067114\n",
      "53        0.971223  0.028777\n",
      "54        0.969697  0.030303\n",
      "55        0.965517  0.034483\n",
      "56        0.975610  0.024390\n",
      "57        0.967480  0.032520\n",
      "58        0.948718  0.051282\n",
      "59        0.974790  0.025210\n",
      "60        0.963964  0.036036\n",
      "61        0.963636  0.036364\n",
      "62        0.909091  0.090909\n",
      "63        0.945455  0.054545\n",
      "64        0.967742  0.032258\n",
      "65        0.912281  0.087719\n",
      "66        0.921053  0.078947\n",
      "67        0.977778  0.022222\n",
      "68        0.888889  0.111111\n",
      "69        1.000000  0.000000\n",
      "70        1.000000  0.000000\n",
      "All       0.974292  0.025708\n"
     ]
    }
   ],
   "source": [
    "print(age_diabetes)"
   ]
  },
  {
   "cell_type": "code",
   "execution_count": 39,
   "metadata": {},
   "outputs": [],
   "source": [
    "prehps_prehpt = pd.crosstab(index = data1['prevalentStroke'],columns = data1['prevalentHyp'],margins = True,normalize = 'index')"
   ]
  },
  {
   "cell_type": "code",
   "execution_count": 40,
   "metadata": {},
   "outputs": [
    {
     "name": "stdout",
     "output_type": "stream",
     "text": [
      "prevalentHyp            0         1\n",
      "prevalentStroke                    \n",
      "0                0.692052  0.307948\n",
      "1                0.240000  0.760000\n",
      "All              0.689387  0.310613\n"
     ]
    }
   ],
   "source": [
    "print(prehps_prehpt)#only 30 percent people are having both stroke and hypertension problem"
   ]
  },
  {
   "cell_type": "code",
   "execution_count": 41,
   "metadata": {},
   "outputs": [
    {
     "data": {
      "image/png": "[encoded data removed]",
      "text/plain": [
       "<Figure size 432x288 with 1 Axes>"
      ]
     },
     "metadata": {},
     "output_type": "display_data"
    }
   ],
   "source": [
    "# check the count of each category in dependent variable\n",
    "sns.countplot(x='TenYearCHD',data=data)\n",
    "plt.show()"
   ]
  },
  {
   "cell_type": "code",
   "execution_count": 42,
   "metadata": {},
   "outputs": [
    {
     "data": {
      "text/plain": [
       "<matplotlib.axes._subplots.AxesSubplot at 0xb1a7a58>"
      ]
     },
     "execution_count": 42,
     "metadata": {},
     "output_type": "execute_result"
    },
    {
     "data": {
      "image/png": "[encoded data removed]",
      "text/plain": [
       "<Figure size 432x288 with 1 Axes>"
      ]
     },
     "metadata": {},
     "output_type": "display_data"
    }
   ],
   "source": [
    "sns.distplot(data1['age'],bins = 10,kde = False)#between 40 to 45 age frequency is higher"
   ]
  },
  {
   "cell_type": "code",
   "execution_count": 43,
   "metadata": {},
   "outputs": [
    {
     "data": {
      "text/plain": [
       "<matplotlib.axes._subplots.AxesSubplot at 0xc150c50>"
      ]
     },
     "execution_count": 43,
     "metadata": {},
     "output_type": "execute_result"
    },
    {
     "data": {
      "image/png": "[encoded data removed]",
      "text/plain": [
       "<Figure size 432x288 with 1 Axes>"
      ]
     },
     "metadata": {},
     "output_type": "display_data"
    }
   ],
   "source": [
    "sns.boxplot('TenYearCHD','age',data = data1)"
   ]
  },
  {
   "cell_type": "code",
   "execution_count": 44,
   "metadata": {},
   "outputs": [
    {
     "data": {
      "text/plain": [
       "TenYearCHD\n",
       "0    48\n",
       "1    55\n",
       "Name: age, dtype: int64"
      ]
     },
     "execution_count": 44,
     "metadata": {},
     "output_type": "execute_result"
    }
   ],
   "source": [
    "data1.groupby('TenYearCHD')['age'].median()"
   ]
  },
  {
   "cell_type": "code",
   "execution_count": 45,
   "metadata": {},
   "outputs": [],
   "source": [
    "#people with age 45 to 55 had more chance of thd"
   ]
  },
  {
   "cell_type": "code",
   "execution_count": 47,
   "metadata": {},
   "outputs": [
    {
     "data": {
      "text/plain": [
       "<matplotlib.axes._subplots.AxesSubplot at 0xc93c748>"
      ]
     },
     "execution_count": 47,
     "metadata": {},
     "output_type": "execute_result"
    },
    {
     "data": {
      "image/png": "[encoded data removed]",
      "text/plain": [
       "<Figure size 432x288 with 1 Axes>"
      ]
     },
     "metadata": {},
     "output_type": "display_data"
    }
   ],
   "source": [
    "sns.boxplot('TenYearCHD','currentSmoker',data = data1)"
   ]
  },
  {
   "cell_type": "code",
   "execution_count": 48,
   "metadata": {},
   "outputs": [
    {
     "data": {
      "text/plain": [
       "<matplotlib.axes._subplots.AxesSubplot at 0xc9c9ac8>"
      ]
     },
     "execution_count": 48,
     "metadata": {},
     "output_type": "execute_result"
    },
    {
     "data": {
      "image/png": "[encoded data removed]",
      "text/plain": [
       "<Figure size 432x288 with 1 Axes>"
      ]
     },
     "metadata": {},
     "output_type": "display_data"
    }
   ],
   "source": [
    "sns.boxplot('TenYearCHD','cigsPerDay',data = data1)"
   ]
  },
  {
   "cell_type": "code",
   "execution_count": 49,
   "metadata": {},
   "outputs": [
    {
     "data": {
      "text/plain": [
       "TenYearCHD\n",
       "0    0.0\n",
       "1    3.0\n",
       "Name: cigsPerDay, dtype: float64"
      ]
     },
     "execution_count": 49,
     "metadata": {},
     "output_type": "execute_result"
    }
   ],
   "source": [
    "data1.groupby('TenYearCHD')['cigsPerDay'].median()"
   ]
  },
  {
   "cell_type": "code",
   "execution_count": 52,
   "metadata": {},
   "outputs": [],
   "source": [
    "#even 3 cigs per day can lead to thd"
   ]
  },
  {
   "cell_type": "code",
   "execution_count": 53,
   "metadata": {},
   "outputs": [],
   "source": [
    "thd_education = pd.crosstab(index = data1['education'],columns = data1['TenYearCHD'],margins = True,normalize = 'index')"
   ]
  },
  {
   "cell_type": "code",
   "execution_count": 54,
   "metadata": {},
   "outputs": [
    {
     "name": "stdout",
     "output_type": "stream",
     "text": [
      "TenYearCHD                 0         1\n",
      "education                             \n",
      "1.0                 0.812209  0.187791\n",
      "1.9794437726723095  0.847619  0.152381\n",
      "2.0                 0.882682  0.117318\n",
      "3.0                 0.872279  0.127721\n",
      "4.0                 0.852008  0.147992\n",
      "All                 0.848113  0.151887\n"
     ]
    }
   ],
   "source": [
    "print(thd_education) #mostly those who are educated had less chance of thd"
   ]
  },
  {
   "cell_type": "code",
   "execution_count": 55,
   "metadata": {},
   "outputs": [],
   "source": [
    "thd_diabetes = pd.crosstab(index = data1['diabetes'],columns = data1['TenYearCHD'],margins = True,normalize = 'index')"
   ]
  },
  {
   "cell_type": "code",
   "execution_count": 56,
   "metadata": {},
   "outputs": [
    {
     "name": "stdout",
     "output_type": "stream",
     "text": [
      "TenYearCHD         0         1\n",
      "diabetes                      \n",
      "0           0.853788  0.146212\n",
      "1           0.633028  0.366972\n",
      "All         0.848113  0.151887\n"
     ]
    }
   ],
   "source": [
    "print(thd_diabetes)"
   ]
  },
  {
   "cell_type": "code",
   "execution_count": 57,
   "metadata": {},
   "outputs": [],
   "source": [
    "X_dup = data1[['male', 'age', 'education', 'currentSmoker', 'cigsPerDay', 'BPMeds',\n",
    "       'prevalentStroke', 'prevalentHyp', 'diabetes', 'totChol', 'sysBP',\n",
    "       'diaBP', 'BMI', 'heartRate', 'glucose']]\n",
    "Y_dup = data1['TenYearCHD']"
   ]
  },
  {
   "cell_type": "code",
   "execution_count": 58,
   "metadata": {},
   "outputs": [
    {
     "data": {
      "text/html": [
       "<div>\n",
       "<style scoped>\n",
       "    .dataframe tbody tr th:only-of-type {\n",
       "        vertical-align: middle;\n",
       "    }\n",
       "\n",
       "    .dataframe tbody tr th {\n",
       "        vertical-align: top;\n",
       "    }\n",
       "\n",
       "    .dataframe thead th {\n",
       "        text-align: right;\n",
       "    }\n",
       "</style>\n",
       "<table border=\"1\" class=\"dataframe\">\n",
       "  <thead>\n",
       "    <tr style=\"text-align: right;\">\n",
       "      <th></th>\n",
       "      <th>const</th>\n",
       "      <th>male</th>\n",
       "      <th>age</th>\n",
       "      <th>education</th>\n",
       "      <th>currentSmoker</th>\n",
       "      <th>cigsPerDay</th>\n",
       "      <th>BPMeds</th>\n",
       "      <th>prevalentStroke</th>\n",
       "      <th>prevalentHyp</th>\n",
       "      <th>diabetes</th>\n",
       "      <th>totChol</th>\n",
       "      <th>sysBP</th>\n",
       "      <th>diaBP</th>\n",
       "      <th>BMI</th>\n",
       "      <th>heartRate</th>\n",
       "      <th>glucose</th>\n",
       "    </tr>\n",
       "  </thead>\n",
       "  <tbody>\n",
       "    <tr>\n",
       "      <th>0</th>\n",
       "      <td>1.0</td>\n",
       "      <td>1</td>\n",
       "      <td>39</td>\n",
       "      <td>4.0</td>\n",
       "      <td>0</td>\n",
       "      <td>0.0</td>\n",
       "      <td>0.0</td>\n",
       "      <td>0</td>\n",
       "      <td>0</td>\n",
       "      <td>0</td>\n",
       "      <td>195.0</td>\n",
       "      <td>106.0</td>\n",
       "      <td>70.0</td>\n",
       "      <td>26.97</td>\n",
       "      <td>80.0</td>\n",
       "      <td>77.0</td>\n",
       "    </tr>\n",
       "    <tr>\n",
       "      <th>1</th>\n",
       "      <td>1.0</td>\n",
       "      <td>0</td>\n",
       "      <td>46</td>\n",
       "      <td>2.0</td>\n",
       "      <td>0</td>\n",
       "      <td>0.0</td>\n",
       "      <td>0.0</td>\n",
       "      <td>0</td>\n",
       "      <td>0</td>\n",
       "      <td>0</td>\n",
       "      <td>250.0</td>\n",
       "      <td>121.0</td>\n",
       "      <td>81.0</td>\n",
       "      <td>28.73</td>\n",
       "      <td>95.0</td>\n",
       "      <td>76.0</td>\n",
       "    </tr>\n",
       "    <tr>\n",
       "      <th>2</th>\n",
       "      <td>1.0</td>\n",
       "      <td>1</td>\n",
       "      <td>48</td>\n",
       "      <td>1.0</td>\n",
       "      <td>1</td>\n",
       "      <td>20.0</td>\n",
       "      <td>0.0</td>\n",
       "      <td>0</td>\n",
       "      <td>0</td>\n",
       "      <td>0</td>\n",
       "      <td>245.0</td>\n",
       "      <td>127.5</td>\n",
       "      <td>80.0</td>\n",
       "      <td>25.34</td>\n",
       "      <td>75.0</td>\n",
       "      <td>70.0</td>\n",
       "    </tr>\n",
       "    <tr>\n",
       "      <th>3</th>\n",
       "      <td>1.0</td>\n",
       "      <td>0</td>\n",
       "      <td>61</td>\n",
       "      <td>3.0</td>\n",
       "      <td>1</td>\n",
       "      <td>30.0</td>\n",
       "      <td>0.0</td>\n",
       "      <td>0</td>\n",
       "      <td>1</td>\n",
       "      <td>0</td>\n",
       "      <td>225.0</td>\n",
       "      <td>150.0</td>\n",
       "      <td>95.0</td>\n",
       "      <td>28.58</td>\n",
       "      <td>65.0</td>\n",
       "      <td>103.0</td>\n",
       "    </tr>\n",
       "    <tr>\n",
       "      <th>4</th>\n",
       "      <td>1.0</td>\n",
       "      <td>0</td>\n",
       "      <td>46</td>\n",
       "      <td>3.0</td>\n",
       "      <td>1</td>\n",
       "      <td>23.0</td>\n",
       "      <td>0.0</td>\n",
       "      <td>0</td>\n",
       "      <td>0</td>\n",
       "      <td>0</td>\n",
       "      <td>285.0</td>\n",
       "      <td>130.0</td>\n",
       "      <td>84.0</td>\n",
       "      <td>23.10</td>\n",
       "      <td>85.0</td>\n",
       "      <td>85.0</td>\n",
       "    </tr>\n",
       "  </tbody>\n",
       "</table>\n",
       "</div>"
      ],
      "text/plain": [
       "   const  male  age  education  currentSmoker  cigsPerDay  BPMeds  \\\n",
       "0    1.0     1   39        4.0              0         0.0     0.0   \n",
       "1    1.0     0   46        2.0              0         0.0     0.0   \n",
       "2    1.0     1   48        1.0              1        20.0     0.0   \n",
       "3    1.0     0   61        3.0              1        30.0     0.0   \n",
       "4    1.0     0   46        3.0              1        23.0     0.0   \n",
       "\n",
       "   prevalentStroke  prevalentHyp  diabetes  totChol  sysBP  diaBP    BMI  \\\n",
       "0                0             0         0    195.0  106.0   70.0  26.97   \n",
       "1                0             0         0    250.0  121.0   81.0  28.73   \n",
       "2                0             0         0    245.0  127.5   80.0  25.34   \n",
       "3                0             1         0    225.0  150.0   95.0  28.58   \n",
       "4                0             0         0    285.0  130.0   84.0  23.10   \n",
       "\n",
       "   heartRate  glucose  \n",
       "0       80.0     77.0  \n",
       "1       95.0     76.0  \n",
       "2       75.0     70.0  \n",
       "3       65.0    103.0  \n",
       "4       85.0     85.0  "
      ]
     },
     "execution_count": 58,
     "metadata": {},
     "output_type": "execute_result"
    }
   ],
   "source": [
    "from statsmodels.tools import add_constant as add_constant\n",
    "X_dup = add_constant(X_dup)\n",
    "X_dup.head()"
   ]
  },
  {
   "cell_type": "code",
   "execution_count": 59,
   "metadata": {},
   "outputs": [],
   "source": [
    "from sklearn.model_selection import train_test_split\n",
    "x_train_dup,x_test_dup,y_train_dup,y_test_dup=train_test_split(X_dup,Y_dup,test_size=.20,random_state=1)"
   ]
  },
  {
   "cell_type": "code",
   "execution_count": 61,
   "metadata": {},
   "outputs": [
    {
     "name": "stdout",
     "output_type": "stream",
     "text": [
      "Optimization terminated successfully.\n",
      "         Current function value: 0.379011\n",
      "         Iterations 7\n"
     ]
    },
    {
     "data": {
      "text/html": [
       "<table class=\"simpletable\">\n",
       "<caption>Logit Regression Results</caption>\n",
       "<tr>\n",
       "  <th>Dep. Variable:</th>    <td>TenYearCHD</td>    <th>  No. Observations:  </th>  <td>  3392</td>  \n",
       "</tr>\n",
       "<tr>\n",
       "  <th>Model:</th>               <td>Logit</td>      <th>  Df Residuals:      </th>  <td>  3376</td>  \n",
       "</tr>\n",
       "<tr>\n",
       "  <th>Method:</th>               <td>MLE</td>       <th>  Df Model:          </th>  <td>    15</td>  \n",
       "</tr>\n",
       "<tr>\n",
       "  <th>Date:</th>          <td>Fri, 01 Nov 2019</td> <th>  Pseudo R-squ.:     </th>  <td>0.1090</td>  \n",
       "</tr>\n",
       "<tr>\n",
       "  <th>Time:</th>              <td>18:52:25</td>     <th>  Log-Likelihood:    </th> <td> -1285.6</td> \n",
       "</tr>\n",
       "<tr>\n",
       "  <th>converged:</th>           <td>True</td>       <th>  LL-Null:           </th> <td> -1442.8</td> \n",
       "</tr>\n",
       "<tr>\n",
       "  <th> </th>                      <td> </td>        <th>  LLR p-value:       </th> <td>5.583e-58</td>\n",
       "</tr>\n",
       "</table>\n",
       "<table class=\"simpletable\">\n",
       "<tr>\n",
       "         <td></td>            <th>coef</th>     <th>std err</th>      <th>z</th>      <th>P>|z|</th>  <th>[0.025</th>    <th>0.975]</th>  \n",
       "</tr>\n",
       "<tr>\n",
       "  <th>const</th>           <td>   -8.0344</td> <td>    0.743</td> <td>  -10.815</td> <td> 0.000</td> <td>   -9.491</td> <td>   -6.578</td>\n",
       "</tr>\n",
       "<tr>\n",
       "  <th>male</th>            <td>    0.6016</td> <td>    0.112</td> <td>    5.378</td> <td> 0.000</td> <td>    0.382</td> <td>    0.821</td>\n",
       "</tr>\n",
       "<tr>\n",
       "  <th>age</th>             <td>    0.0555</td> <td>    0.007</td> <td>    7.953</td> <td> 0.000</td> <td>    0.042</td> <td>    0.069</td>\n",
       "</tr>\n",
       "<tr>\n",
       "  <th>education</th>       <td>    0.0006</td> <td>    0.052</td> <td>    0.011</td> <td> 0.991</td> <td>   -0.101</td> <td>    0.102</td>\n",
       "</tr>\n",
       "<tr>\n",
       "  <th>currentSmoker</th>   <td>    0.0073</td> <td>    0.160</td> <td>    0.046</td> <td> 0.963</td> <td>   -0.306</td> <td>    0.321</td>\n",
       "</tr>\n",
       "<tr>\n",
       "  <th>cigsPerDay</th>      <td>    0.0211</td> <td>    0.006</td> <td>    3.376</td> <td> 0.001</td> <td>    0.009</td> <td>    0.033</td>\n",
       "</tr>\n",
       "<tr>\n",
       "  <th>BPMeds</th>          <td>    0.3355</td> <td>    0.240</td> <td>    1.399</td> <td> 0.162</td> <td>   -0.135</td> <td>    0.806</td>\n",
       "</tr>\n",
       "<tr>\n",
       "  <th>prevalentStroke</th> <td>    0.2853</td> <td>    0.586</td> <td>    0.487</td> <td> 0.626</td> <td>   -0.863</td> <td>    1.434</td>\n",
       "</tr>\n",
       "<tr>\n",
       "  <th>prevalentHyp</th>    <td>    0.2395</td> <td>    0.144</td> <td>    1.659</td> <td> 0.097</td> <td>   -0.043</td> <td>    0.522</td>\n",
       "</tr>\n",
       "<tr>\n",
       "  <th>diabetes</th>        <td>    0.1862</td> <td>    0.322</td> <td>    0.578</td> <td> 0.563</td> <td>   -0.445</td> <td>    0.817</td>\n",
       "</tr>\n",
       "<tr>\n",
       "  <th>totChol</th>         <td>    0.0020</td> <td>    0.001</td> <td>    1.724</td> <td> 0.085</td> <td>   -0.000</td> <td>    0.004</td>\n",
       "</tr>\n",
       "<tr>\n",
       "  <th>sysBP</th>           <td>    0.0159</td> <td>    0.004</td> <td>    4.002</td> <td> 0.000</td> <td>    0.008</td> <td>    0.024</td>\n",
       "</tr>\n",
       "<tr>\n",
       "  <th>diaBP</th>           <td>   -0.0063</td> <td>    0.007</td> <td>   -0.949</td> <td> 0.343</td> <td>   -0.019</td> <td>    0.007</td>\n",
       "</tr>\n",
       "<tr>\n",
       "  <th>BMI</th>             <td>    0.0067</td> <td>    0.013</td> <td>    0.502</td> <td> 0.616</td> <td>   -0.019</td> <td>    0.033</td>\n",
       "</tr>\n",
       "<tr>\n",
       "  <th>heartRate</th>       <td>   -0.0003</td> <td>    0.004</td> <td>   -0.072</td> <td> 0.943</td> <td>   -0.009</td> <td>    0.008</td>\n",
       "</tr>\n",
       "<tr>\n",
       "  <th>glucose</th>         <td>    0.0071</td> <td>    0.002</td> <td>    2.917</td> <td> 0.004</td> <td>    0.002</td> <td>    0.012</td>\n",
       "</tr>\n",
       "</table>"
      ],
      "text/plain": [
       "<class 'statsmodels.iolib.summary.Summary'>\n",
       "\"\"\"\n",
       "                           Logit Regression Results                           \n",
       "==============================================================================\n",
       "Dep. Variable:             TenYearCHD   No. Observations:                 3392\n",
       "Model:                          Logit   Df Residuals:                     3376\n",
       "Method:                           MLE   Df Model:                           15\n",
       "Date:                Fri, 01 Nov 2019   Pseudo R-squ.:                  0.1090\n",
       "Time:                        18:52:25   Log-Likelihood:                -1285.6\n",
       "converged:                       True   LL-Null:                       -1442.8\n",
       "                                        LLR p-value:                 5.583e-58\n",
       "===================================================================================\n",
       "                      coef    std err          z      P>|z|      [0.025      0.975]\n",
       "-----------------------------------------------------------------------------------\n",
       "const              -8.0344      0.743    -10.815      0.000      -9.491      -6.578\n",
       "male                0.6016      0.112      5.378      0.000       0.382       0.821\n",
       "age                 0.0555      0.007      7.953      0.000       0.042       0.069\n",
       "education           0.0006      0.052      0.011      0.991      -0.101       0.102\n",
       "currentSmoker       0.0073      0.160      0.046      0.963      -0.306       0.321\n",
       "cigsPerDay          0.0211      0.006      3.376      0.001       0.009       0.033\n",
       "BPMeds              0.3355      0.240      1.399      0.162      -0.135       0.806\n",
       "prevalentStroke     0.2853      0.586      0.487      0.626      -0.863       1.434\n",
       "prevalentHyp        0.2395      0.144      1.659      0.097      -0.043       0.522\n",
       "diabetes            0.1862      0.322      0.578      0.563      -0.445       0.817\n",
       "totChol             0.0020      0.001      1.724      0.085      -0.000       0.004\n",
       "sysBP               0.0159      0.004      4.002      0.000       0.008       0.024\n",
       "diaBP              -0.0063      0.007     -0.949      0.343      -0.019       0.007\n",
       "BMI                 0.0067      0.013      0.502      0.616      -0.019       0.033\n",
       "heartRate          -0.0003      0.004     -0.072      0.943      -0.009       0.008\n",
       "glucose             0.0071      0.002      2.917      0.004       0.002       0.012\n",
       "===================================================================================\n",
       "\"\"\""
      ]
     },
     "execution_count": 61,
     "metadata": {},
     "output_type": "execute_result"
    }
   ],
   "source": [
    "import statsmodels.api as sm\n",
    "model=sm.Logit(y_train_dup,x_train_dup)\n",
    "result=model.fit()\n",
    "result.summary()"
   ]
  },
  {
   "cell_type": "code",
   "execution_count": 62,
   "metadata": {},
   "outputs": [
    {
     "data": {
      "text/plain": [
       "534     0.075506\n",
       "2751    0.104347\n",
       "3599    0.159366\n",
       "518     0.087470\n",
       "3813    0.050588\n",
       "dtype: float64"
      ]
     },
     "execution_count": 62,
     "metadata": {},
     "output_type": "execute_result"
    }
   ],
   "source": [
    "y_pred=result.predict(x_test_dup)\n",
    "y_pred.head()"
   ]
  },
  {
   "cell_type": "code",
   "execution_count": 64,
   "metadata": {},
   "outputs": [
    {
     "data": {
      "text/plain": [
       "0.8490566037735849"
      ]
     },
     "execution_count": 64,
     "metadata": {},
     "output_type": "execute_result"
    }
   ],
   "source": [
    "# set up a threshold and convert the probabilities to 0 or 1\n",
    "import sklearn\n",
    "y_pred=pd.Series(np.where(y_pred < 0.5, 0, 1))\n",
    "sklearn.metrics.accuracy_score(y_test_dup,y_pred)"
   ]
  },
  {
   "cell_type": "code",
   "execution_count": 65,
   "metadata": {},
   "outputs": [],
   "source": [
    "X_dup1 = X_dup[['male', 'age', 'education', 'currentSmoker', 'cigsPerDay', 'BPMeds',\n",
    "       'prevalentStroke', 'prevalentHyp', 'diabetes', 'totChol', 'sysBP',\n",
    "       'diaBP', 'BMI', 'glucose']]\n",
    "Y_dup1 = Y_dup\n",
    "X_dup1 = add_constant(X_dup1)"
   ]
  },
  {
   "cell_type": "code",
   "execution_count": 66,
   "metadata": {},
   "outputs": [],
   "source": [
    "from sklearn.model_selection import train_test_split\n",
    "x_train_dup1,x_test_dup1,y_train_dup1,y_test_dup1=train_test_split(X_dup1,Y_dup1,test_size=.20,random_state=1)"
   ]
  },
  {
   "cell_type": "code",
   "execution_count": 67,
   "metadata": {},
   "outputs": [
    {
     "name": "stdout",
     "output_type": "stream",
     "text": [
      "Optimization terminated successfully.\n",
      "         Current function value: 0.379012\n",
      "         Iterations 7\n"
     ]
    },
    {
     "data": {
      "text/html": [
       "<table class=\"simpletable\">\n",
       "<caption>Logit Regression Results</caption>\n",
       "<tr>\n",
       "  <th>Dep. Variable:</th>    <td>TenYearCHD</td>    <th>  No. Observations:  </th>  <td>  3392</td>  \n",
       "</tr>\n",
       "<tr>\n",
       "  <th>Model:</th>               <td>Logit</td>      <th>  Df Residuals:      </th>  <td>  3377</td>  \n",
       "</tr>\n",
       "<tr>\n",
       "  <th>Method:</th>               <td>MLE</td>       <th>  Df Model:          </th>  <td>    14</td>  \n",
       "</tr>\n",
       "<tr>\n",
       "  <th>Date:</th>          <td>Fri, 01 Nov 2019</td> <th>  Pseudo R-squ.:     </th>  <td>0.1090</td>  \n",
       "</tr>\n",
       "<tr>\n",
       "  <th>Time:</th>              <td>19:00:03</td>     <th>  Log-Likelihood:    </th> <td> -1285.6</td> \n",
       "</tr>\n",
       "<tr>\n",
       "  <th>converged:</th>           <td>True</td>       <th>  LL-Null:           </th> <td> -1442.8</td> \n",
       "</tr>\n",
       "<tr>\n",
       "  <th> </th>                      <td> </td>        <th>  LLR p-value:       </th> <td>1.156e-58</td>\n",
       "</tr>\n",
       "</table>\n",
       "<table class=\"simpletable\">\n",
       "<tr>\n",
       "         <td></td>            <th>coef</th>     <th>std err</th>      <th>z</th>      <th>P>|z|</th>  <th>[0.025</th>    <th>0.975]</th>  \n",
       "</tr>\n",
       "<tr>\n",
       "  <th>const</th>           <td>   -8.0534</td> <td>    0.694</td> <td>  -11.603</td> <td> 0.000</td> <td>   -9.414</td> <td>   -6.693</td>\n",
       "</tr>\n",
       "<tr>\n",
       "  <th>male</th>            <td>    0.6027</td> <td>    0.111</td> <td>    5.440</td> <td> 0.000</td> <td>    0.386</td> <td>    0.820</td>\n",
       "</tr>\n",
       "<tr>\n",
       "  <th>age</th>             <td>    0.0556</td> <td>    0.007</td> <td>    7.975</td> <td> 0.000</td> <td>    0.042</td> <td>    0.069</td>\n",
       "</tr>\n",
       "<tr>\n",
       "  <th>education</th>       <td>    0.0007</td> <td>    0.052</td> <td>    0.014</td> <td> 0.989</td> <td>   -0.100</td> <td>    0.102</td>\n",
       "</tr>\n",
       "<tr>\n",
       "  <th>currentSmoker</th>   <td>    0.0070</td> <td>    0.160</td> <td>    0.044</td> <td> 0.965</td> <td>   -0.307</td> <td>    0.320</td>\n",
       "</tr>\n",
       "<tr>\n",
       "  <th>cigsPerDay</th>      <td>    0.0210</td> <td>    0.006</td> <td>    3.380</td> <td> 0.001</td> <td>    0.009</td> <td>    0.033</td>\n",
       "</tr>\n",
       "<tr>\n",
       "  <th>BPMeds</th>          <td>    0.3360</td> <td>    0.240</td> <td>    1.402</td> <td> 0.161</td> <td>   -0.134</td> <td>    0.806</td>\n",
       "</tr>\n",
       "<tr>\n",
       "  <th>prevalentStroke</th> <td>    0.2867</td> <td>    0.586</td> <td>    0.490</td> <td> 0.624</td> <td>   -0.861</td> <td>    1.435</td>\n",
       "</tr>\n",
       "<tr>\n",
       "  <th>prevalentHyp</th>    <td>    0.2388</td> <td>    0.144</td> <td>    1.658</td> <td> 0.097</td> <td>   -0.044</td> <td>    0.521</td>\n",
       "</tr>\n",
       "<tr>\n",
       "  <th>diabetes</th>        <td>    0.1863</td> <td>    0.322</td> <td>    0.579</td> <td> 0.563</td> <td>   -0.445</td> <td>    0.817</td>\n",
       "</tr>\n",
       "<tr>\n",
       "  <th>totChol</th>         <td>    0.0019</td> <td>    0.001</td> <td>    1.723</td> <td> 0.085</td> <td>   -0.000</td> <td>    0.004</td>\n",
       "</tr>\n",
       "<tr>\n",
       "  <th>sysBP</th>           <td>    0.0159</td> <td>    0.004</td> <td>    4.004</td> <td> 0.000</td> <td>    0.008</td> <td>    0.024</td>\n",
       "</tr>\n",
       "<tr>\n",
       "  <th>diaBP</th>           <td>   -0.0064</td> <td>    0.007</td> <td>   -0.954</td> <td> 0.340</td> <td>   -0.019</td> <td>    0.007</td>\n",
       "</tr>\n",
       "<tr>\n",
       "  <th>BMI</th>             <td>    0.0067</td> <td>    0.013</td> <td>    0.503</td> <td> 0.615</td> <td>   -0.019</td> <td>    0.033</td>\n",
       "</tr>\n",
       "<tr>\n",
       "  <th>glucose</th>         <td>    0.0071</td> <td>    0.002</td> <td>    2.920</td> <td> 0.003</td> <td>    0.002</td> <td>    0.012</td>\n",
       "</tr>\n",
       "</table>"
      ],
      "text/plain": [
       "<class 'statsmodels.iolib.summary.Summary'>\n",
       "\"\"\"\n",
       "                           Logit Regression Results                           \n",
       "==============================================================================\n",
       "Dep. Variable:             TenYearCHD   No. Observations:                 3392\n",
       "Model:                          Logit   Df Residuals:                     3377\n",
       "Method:                           MLE   Df Model:                           14\n",
       "Date:                Fri, 01 Nov 2019   Pseudo R-squ.:                  0.1090\n",
       "Time:                        19:00:03   Log-Likelihood:                -1285.6\n",
       "converged:                       True   LL-Null:                       -1442.8\n",
       "                                        LLR p-value:                 1.156e-58\n",
       "===================================================================================\n",
       "                      coef    std err          z      P>|z|      [0.025      0.975]\n",
       "-----------------------------------------------------------------------------------\n",
       "const              -8.0534      0.694    -11.603      0.000      -9.414      -6.693\n",
       "male                0.6027      0.111      5.440      0.000       0.386       0.820\n",
       "age                 0.0556      0.007      7.975      0.000       0.042       0.069\n",
       "education           0.0007      0.052      0.014      0.989      -0.100       0.102\n",
       "currentSmoker       0.0070      0.160      0.044      0.965      -0.307       0.320\n",
       "cigsPerDay          0.0210      0.006      3.380      0.001       0.009       0.033\n",
       "BPMeds              0.3360      0.240      1.402      0.161      -0.134       0.806\n",
       "prevalentStroke     0.2867      0.586      0.490      0.624      -0.861       1.435\n",
       "prevalentHyp        0.2388      0.144      1.658      0.097      -0.044       0.521\n",
       "diabetes            0.1863      0.322      0.579      0.563      -0.445       0.817\n",
       "totChol             0.0019      0.001      1.723      0.085      -0.000       0.004\n",
       "sysBP               0.0159      0.004      4.004      0.000       0.008       0.024\n",
       "diaBP              -0.0064      0.007     -0.954      0.340      -0.019       0.007\n",
       "BMI                 0.0067      0.013      0.503      0.615      -0.019       0.033\n",
       "glucose             0.0071      0.002      2.920      0.003       0.002       0.012\n",
       "===================================================================================\n",
       "\"\"\""
      ]
     },
     "execution_count": 67,
     "metadata": {},
     "output_type": "execute_result"
    }
   ],
   "source": [
    "model1=sm.Logit(y_train_dup1,x_train_dup1)\n",
    "result1=model1.fit()\n",
    "result1.summary()"
   ]
  },
  {
   "cell_type": "code",
   "execution_count": 68,
   "metadata": {},
   "outputs": [],
   "source": [
    "thd_prest = pd.crosstab(index = data1['prevalentStroke'],columns = data1['TenYearCHD'],margins = True,normalize = 'index')"
   ]
  },
  {
   "cell_type": "code",
   "execution_count": 69,
   "metadata": {},
   "outputs": [
    {
     "name": "stdout",
     "output_type": "stream",
     "text": [
      "TenYearCHD              0         1\n",
      "prevalentStroke                    \n",
      "0                0.849822  0.150178\n",
      "1                0.560000  0.440000\n",
      "All              0.848113  0.151887\n"
     ]
    }
   ],
   "source": [
    "print(thd_prest)"
   ]
  },
  {
   "cell_type": "code",
   "execution_count": 70,
   "metadata": {},
   "outputs": [],
   "source": [
    "thd_prehy = pd.crosstab(index = data1['prevalentHyp'],columns = data1['TenYearCHD'],margins = True,normalize = 'index')"
   ]
  },
  {
   "cell_type": "code",
   "execution_count": 71,
   "metadata": {},
   "outputs": [
    {
     "name": "stdout",
     "output_type": "stream",
     "text": [
      "TenYearCHD           0         1\n",
      "prevalentHyp                    \n",
      "0             0.890866  0.109134\n",
      "1             0.753227  0.246773\n",
      "All           0.848113  0.151887\n"
     ]
    }
   ],
   "source": [
    "print(thd_prehy)"
   ]
  },
  {
   "cell_type": "code",
   "execution_count": 72,
   "metadata": {},
   "outputs": [
    {
     "data": {
      "text/plain": [
       "0.8502358490566038"
      ]
     },
     "execution_count": 72,
     "metadata": {},
     "output_type": "execute_result"
    }
   ],
   "source": [
    "y_pred1=result1.predict(x_test_dup1)\n",
    "y_pred1.head()\n",
    "y_pred1=pd.Series(np.where(y_pred1 < 0.5, 0, 1))\n",
    "sklearn.metrics.accuracy_score(y_test_dup1,y_pred1)"
   ]
  },
  {
   "cell_type": "code",
   "execution_count": 74,
   "metadata": {},
   "outputs": [],
   "source": [
    "X_dup2 = X_dup1[['const','male', 'age', 'education', 'currentSmoker', 'cigsPerDay', 'BPMeds',\n",
    "       'prevalentStroke', 'prevalentHyp', 'totChol', 'sysBP',\n",
    "       'diaBP', 'BMI','glucose']]\n",
    "Y_dup2 = Y_dup1"
   ]
  },
  {
   "cell_type": "code",
   "execution_count": 75,
   "metadata": {},
   "outputs": [],
   "source": [
    "from sklearn.model_selection import train_test_split\n",
    "x_train_dup2,x_test_dup2,y_train_dup2,y_test_dup2=train_test_split(X_dup2,Y_dup2,test_size=.20,random_state=1)"
   ]
  },
  {
   "cell_type": "code",
   "execution_count": 76,
   "metadata": {},
   "outputs": [
    {
     "name": "stdout",
     "output_type": "stream",
     "text": [
      "Optimization terminated successfully.\n",
      "         Current function value: 0.379060\n",
      "         Iterations 7\n"
     ]
    },
    {
     "data": {
      "text/html": [
       "<table class=\"simpletable\">\n",
       "<caption>Logit Regression Results</caption>\n",
       "<tr>\n",
       "  <th>Dep. Variable:</th>    <td>TenYearCHD</td>    <th>  No. Observations:  </th>  <td>  3392</td>  \n",
       "</tr>\n",
       "<tr>\n",
       "  <th>Model:</th>               <td>Logit</td>      <th>  Df Residuals:      </th>  <td>  3378</td>  \n",
       "</tr>\n",
       "<tr>\n",
       "  <th>Method:</th>               <td>MLE</td>       <th>  Df Model:          </th>  <td>    13</td>  \n",
       "</tr>\n",
       "<tr>\n",
       "  <th>Date:</th>          <td>Fri, 01 Nov 2019</td> <th>  Pseudo R-squ.:     </th>  <td>0.1088</td>  \n",
       "</tr>\n",
       "<tr>\n",
       "  <th>Time:</th>              <td>19:07:35</td>     <th>  Log-Likelihood:    </th> <td> -1285.8</td> \n",
       "</tr>\n",
       "<tr>\n",
       "  <th>converged:</th>           <td>True</td>       <th>  LL-Null:           </th> <td> -1442.8</td> \n",
       "</tr>\n",
       "<tr>\n",
       "  <th> </th>                      <td> </td>        <th>  LLR p-value:       </th> <td>2.695e-59</td>\n",
       "</tr>\n",
       "</table>\n",
       "<table class=\"simpletable\">\n",
       "<tr>\n",
       "         <td></td>            <th>coef</th>     <th>std err</th>      <th>z</th>      <th>P>|z|</th>  <th>[0.025</th>    <th>0.975]</th>  \n",
       "</tr>\n",
       "<tr>\n",
       "  <th>const</th>           <td>   -8.1284</td> <td>    0.682</td> <td>  -11.916</td> <td> 0.000</td> <td>   -9.465</td> <td>   -6.791</td>\n",
       "</tr>\n",
       "<tr>\n",
       "  <th>male</th>            <td>    0.6034</td> <td>    0.111</td> <td>    5.448</td> <td> 0.000</td> <td>    0.386</td> <td>    0.821</td>\n",
       "</tr>\n",
       "<tr>\n",
       "  <th>age</th>             <td>    0.0556</td> <td>    0.007</td> <td>    7.985</td> <td> 0.000</td> <td>    0.042</td> <td>    0.069</td>\n",
       "</tr>\n",
       "<tr>\n",
       "  <th>education</th>       <td>    0.0007</td> <td>    0.052</td> <td>    0.014</td> <td> 0.989</td> <td>   -0.100</td> <td>    0.102</td>\n",
       "</tr>\n",
       "<tr>\n",
       "  <th>currentSmoker</th>   <td>    0.0061</td> <td>    0.160</td> <td>    0.038</td> <td> 0.970</td> <td>   -0.307</td> <td>    0.319</td>\n",
       "</tr>\n",
       "<tr>\n",
       "  <th>cigsPerDay</th>      <td>    0.0210</td> <td>    0.006</td> <td>    3.382</td> <td> 0.001</td> <td>    0.009</td> <td>    0.033</td>\n",
       "</tr>\n",
       "<tr>\n",
       "  <th>BPMeds</th>          <td>    0.3390</td> <td>    0.240</td> <td>    1.415</td> <td> 0.157</td> <td>   -0.131</td> <td>    0.809</td>\n",
       "</tr>\n",
       "<tr>\n",
       "  <th>prevalentStroke</th> <td>    0.2791</td> <td>    0.585</td> <td>    0.477</td> <td> 0.634</td> <td>   -0.868</td> <td>    1.427</td>\n",
       "</tr>\n",
       "<tr>\n",
       "  <th>prevalentHyp</th>    <td>    0.2405</td> <td>    0.144</td> <td>    1.670</td> <td> 0.095</td> <td>   -0.042</td> <td>    0.523</td>\n",
       "</tr>\n",
       "<tr>\n",
       "  <th>totChol</th>         <td>    0.0020</td> <td>    0.001</td> <td>    1.725</td> <td> 0.085</td> <td>   -0.000</td> <td>    0.004</td>\n",
       "</tr>\n",
       "<tr>\n",
       "  <th>sysBP</th>           <td>    0.0159</td> <td>    0.004</td> <td>    4.022</td> <td> 0.000</td> <td>    0.008</td> <td>    0.024</td>\n",
       "</tr>\n",
       "<tr>\n",
       "  <th>diaBP</th>           <td>   -0.0065</td> <td>    0.007</td> <td>   -0.981</td> <td> 0.326</td> <td>   -0.020</td> <td>    0.007</td>\n",
       "</tr>\n",
       "<tr>\n",
       "  <th>BMI</th>             <td>    0.0071</td> <td>    0.013</td> <td>    0.535</td> <td> 0.593</td> <td>   -0.019</td> <td>    0.033</td>\n",
       "</tr>\n",
       "<tr>\n",
       "  <th>glucose</th>         <td>    0.0079</td> <td>    0.002</td> <td>    4.168</td> <td> 0.000</td> <td>    0.004</td> <td>    0.012</td>\n",
       "</tr>\n",
       "</table>"
      ],
      "text/plain": [
       "<class 'statsmodels.iolib.summary.Summary'>\n",
       "\"\"\"\n",
       "                           Logit Regression Results                           \n",
       "==============================================================================\n",
       "Dep. Variable:             TenYearCHD   No. Observations:                 3392\n",
       "Model:                          Logit   Df Residuals:                     3378\n",
       "Method:                           MLE   Df Model:                           13\n",
       "Date:                Fri, 01 Nov 2019   Pseudo R-squ.:                  0.1088\n",
       "Time:                        19:07:35   Log-Likelihood:                -1285.8\n",
       "converged:                       True   LL-Null:                       -1442.8\n",
       "                                        LLR p-value:                 2.695e-59\n",
       "===================================================================================\n",
       "                      coef    std err          z      P>|z|      [0.025      0.975]\n",
       "-----------------------------------------------------------------------------------\n",
       "const              -8.1284      0.682    -11.916      0.000      -9.465      -6.791\n",
       "male                0.6034      0.111      5.448      0.000       0.386       0.821\n",
       "age                 0.0556      0.007      7.985      0.000       0.042       0.069\n",
       "education           0.0007      0.052      0.014      0.989      -0.100       0.102\n",
       "currentSmoker       0.0061      0.160      0.038      0.970      -0.307       0.319\n",
       "cigsPerDay          0.0210      0.006      3.382      0.001       0.009       0.033\n",
       "BPMeds              0.3390      0.240      1.415      0.157      -0.131       0.809\n",
       "prevalentStroke     0.2791      0.585      0.477      0.634      -0.868       1.427\n",
       "prevalentHyp        0.2405      0.144      1.670      0.095      -0.042       0.523\n",
       "totChol             0.0020      0.001      1.725      0.085      -0.000       0.004\n",
       "sysBP               0.0159      0.004      4.022      0.000       0.008       0.024\n",
       "diaBP              -0.0065      0.007     -0.981      0.326      -0.020       0.007\n",
       "BMI                 0.0071      0.013      0.535      0.593      -0.019       0.033\n",
       "glucose             0.0079      0.002      4.168      0.000       0.004       0.012\n",
       "===================================================================================\n",
       "\"\"\""
      ]
     },
     "execution_count": 76,
     "metadata": {},
     "output_type": "execute_result"
    }
   ],
   "source": [
    "model2=sm.Logit(y_train_dup2,x_train_dup2)\n",
    "result2=model2.fit()\n",
    "result2.summary()"
   ]
  },
  {
   "cell_type": "code",
   "execution_count": 77,
   "metadata": {},
   "outputs": [
    {
     "data": {
      "text/plain": [
       "0.8490566037735849"
      ]
     },
     "execution_count": 77,
     "metadata": {},
     "output_type": "execute_result"
    }
   ],
   "source": [
    "y_pred2=result2.predict(x_test_dup2)\n",
    "y_pred2.head()\n",
    "y_pred2=pd.Series(np.where(y_pred2 < 0.5, 0, 1))\n",
    "sklearn.metrics.accuracy_score(y_test_dup2,y_pred2)"
   ]
  },
  {
   "cell_type": "code",
   "execution_count": 78,
   "metadata": {},
   "outputs": [],
   "source": [
    "X_dup3 = X_dup2[['const','male', 'age', 'education', 'currentSmoker', 'cigsPerDay', 'BPMeds',\n",
    "       'prevalentStroke', 'prevalentHyp', 'totChol', 'sysBP', 'BMI','glucose']]\n",
    "Y_dup3 = Y_dup1"
   ]
  },
  {
   "cell_type": "code",
   "execution_count": 79,
   "metadata": {},
   "outputs": [],
   "source": [
    "from sklearn.model_selection import train_test_split\n",
    "x_train_dup3,x_test_dup3,y_train_dup3,y_test_dup3=train_test_split(X_dup3,Y_dup3,test_size=.20,random_state=1)"
   ]
  },
  {
   "cell_type": "code",
   "execution_count": 80,
   "metadata": {},
   "outputs": [
    {
     "name": "stdout",
     "output_type": "stream",
     "text": [
      "Optimization terminated successfully.\n",
      "         Current function value: 0.379202\n",
      "         Iterations 7\n"
     ]
    },
    {
     "data": {
      "text/html": [
       "<table class=\"simpletable\">\n",
       "<caption>Logit Regression Results</caption>\n",
       "<tr>\n",
       "  <th>Dep. Variable:</th>    <td>TenYearCHD</td>    <th>  No. Observations:  </th>  <td>  3392</td>  \n",
       "</tr>\n",
       "<tr>\n",
       "  <th>Model:</th>               <td>Logit</td>      <th>  Df Residuals:      </th>  <td>  3379</td>  \n",
       "</tr>\n",
       "<tr>\n",
       "  <th>Method:</th>               <td>MLE</td>       <th>  Df Model:          </th>  <td>    12</td>  \n",
       "</tr>\n",
       "<tr>\n",
       "  <th>Date:</th>          <td>Fri, 01 Nov 2019</td> <th>  Pseudo R-squ.:     </th>  <td>0.1085</td>  \n",
       "</tr>\n",
       "<tr>\n",
       "  <th>Time:</th>              <td>19:08:52</td>     <th>  Log-Likelihood:    </th> <td> -1286.3</td> \n",
       "</tr>\n",
       "<tr>\n",
       "  <th>converged:</th>           <td>True</td>       <th>  LL-Null:           </th> <td> -1442.8</td> \n",
       "</tr>\n",
       "<tr>\n",
       "  <th> </th>                      <td> </td>        <th>  LLR p-value:       </th> <td>8.190e-60</td>\n",
       "</tr>\n",
       "</table>\n",
       "<table class=\"simpletable\">\n",
       "<tr>\n",
       "         <td></td>            <th>coef</th>     <th>std err</th>      <th>z</th>      <th>P>|z|</th>  <th>[0.025</th>    <th>0.975]</th>  \n",
       "</tr>\n",
       "<tr>\n",
       "  <th>const</th>           <td>   -8.3490</td> <td>    0.646</td> <td>  -12.934</td> <td> 0.000</td> <td>   -9.614</td> <td>   -7.084</td>\n",
       "</tr>\n",
       "<tr>\n",
       "  <th>male</th>            <td>    0.5902</td> <td>    0.110</td> <td>    5.371</td> <td> 0.000</td> <td>    0.375</td> <td>    0.806</td>\n",
       "</tr>\n",
       "<tr>\n",
       "  <th>age</th>             <td>    0.0571</td> <td>    0.007</td> <td>    8.373</td> <td> 0.000</td> <td>    0.044</td> <td>    0.070</td>\n",
       "</tr>\n",
       "<tr>\n",
       "  <th>education</th>       <td>   -0.0031</td> <td>    0.051</td> <td>   -0.059</td> <td> 0.953</td> <td>   -0.104</td> <td>    0.098</td>\n",
       "</tr>\n",
       "<tr>\n",
       "  <th>currentSmoker</th>   <td>    0.0094</td> <td>    0.160</td> <td>    0.059</td> <td> 0.953</td> <td>   -0.304</td> <td>    0.323</td>\n",
       "</tr>\n",
       "<tr>\n",
       "  <th>cigsPerDay</th>      <td>    0.0211</td> <td>    0.006</td> <td>    3.393</td> <td> 0.001</td> <td>    0.009</td> <td>    0.033</td>\n",
       "</tr>\n",
       "<tr>\n",
       "  <th>BPMeds</th>          <td>    0.3412</td> <td>    0.239</td> <td>    1.427</td> <td> 0.154</td> <td>   -0.127</td> <td>    0.810</td>\n",
       "</tr>\n",
       "<tr>\n",
       "  <th>prevalentStroke</th> <td>    0.2763</td> <td>    0.585</td> <td>    0.472</td> <td> 0.637</td> <td>   -0.870</td> <td>    1.422</td>\n",
       "</tr>\n",
       "<tr>\n",
       "  <th>prevalentHyp</th>    <td>    0.2201</td> <td>    0.142</td> <td>    1.546</td> <td> 0.122</td> <td>   -0.059</td> <td>    0.499</td>\n",
       "</tr>\n",
       "<tr>\n",
       "  <th>totChol</th>         <td>    0.0019</td> <td>    0.001</td> <td>    1.720</td> <td> 0.085</td> <td>   -0.000</td> <td>    0.004</td>\n",
       "</tr>\n",
       "<tr>\n",
       "  <th>sysBP</th>           <td>    0.0135</td> <td>    0.003</td> <td>    4.371</td> <td> 0.000</td> <td>    0.007</td> <td>    0.020</td>\n",
       "</tr>\n",
       "<tr>\n",
       "  <th>BMI</th>             <td>    0.0047</td> <td>    0.013</td> <td>    0.359</td> <td> 0.720</td> <td>   -0.021</td> <td>    0.030</td>\n",
       "</tr>\n",
       "<tr>\n",
       "  <th>glucose</th>         <td>    0.0080</td> <td>    0.002</td> <td>    4.233</td> <td> 0.000</td> <td>    0.004</td> <td>    0.012</td>\n",
       "</tr>\n",
       "</table>"
      ],
      "text/plain": [
       "<class 'statsmodels.iolib.summary.Summary'>\n",
       "\"\"\"\n",
       "                           Logit Regression Results                           \n",
       "==============================================================================\n",
       "Dep. Variable:             TenYearCHD   No. Observations:                 3392\n",
       "Model:                          Logit   Df Residuals:                     3379\n",
       "Method:                           MLE   Df Model:                           12\n",
       "Date:                Fri, 01 Nov 2019   Pseudo R-squ.:                  0.1085\n",
       "Time:                        19:08:52   Log-Likelihood:                -1286.3\n",
       "converged:                       True   LL-Null:                       -1442.8\n",
       "                                        LLR p-value:                 8.190e-60\n",
       "===================================================================================\n",
       "                      coef    std err          z      P>|z|      [0.025      0.975]\n",
       "-----------------------------------------------------------------------------------\n",
       "const              -8.3490      0.646    -12.934      0.000      -9.614      -7.084\n",
       "male                0.5902      0.110      5.371      0.000       0.375       0.806\n",
       "age                 0.0571      0.007      8.373      0.000       0.044       0.070\n",
       "education          -0.0031      0.051     -0.059      0.953      -0.104       0.098\n",
       "currentSmoker       0.0094      0.160      0.059      0.953      -0.304       0.323\n",
       "cigsPerDay          0.0211      0.006      3.393      0.001       0.009       0.033\n",
       "BPMeds              0.3412      0.239      1.427      0.154      -0.127       0.810\n",
       "prevalentStroke     0.2763      0.585      0.472      0.637      -0.870       1.422\n",
       "prevalentHyp        0.2201      0.142      1.546      0.122      -0.059       0.499\n",
       "totChol             0.0019      0.001      1.720      0.085      -0.000       0.004\n",
       "sysBP               0.0135      0.003      4.371      0.000       0.007       0.020\n",
       "BMI                 0.0047      0.013      0.359      0.720      -0.021       0.030\n",
       "glucose             0.0080      0.002      4.233      0.000       0.004       0.012\n",
       "===================================================================================\n",
       "\"\"\""
      ]
     },
     "execution_count": 80,
     "metadata": {},
     "output_type": "execute_result"
    }
   ],
   "source": [
    "model3=sm.Logit(y_train_dup3,x_train_dup3)\n",
    "result3=model3.fit()\n",
    "result3.summary()"
   ]
  },
  {
   "cell_type": "code",
   "execution_count": 81,
   "metadata": {},
   "outputs": [
    {
     "data": {
      "text/plain": [
       "0.847877358490566"
      ]
     },
     "execution_count": 81,
     "metadata": {},
     "output_type": "execute_result"
    }
   ],
   "source": [
    "y_pred3=result3.predict(x_test_dup3)\n",
    "y_pred3.head()\n",
    "y_pred3=pd.Series(np.where(y_pred3 < 0.5, 0, 1))\n",
    "sklearn.metrics.accuracy_score(y_test_dup3,y_pred3)"
   ]
  },
  {
   "cell_type": "code",
   "execution_count": 82,
   "metadata": {},
   "outputs": [],
   "source": [
    "X_dup4 = X_dup3[['const','male', 'age', 'education', 'currentSmoker', 'cigsPerDay', 'BPMeds',\n",
    "       'prevalentStroke', 'prevalentHyp', 'totChol', 'sysBP','glucose']]\n",
    "Y_dup4 = Y_dup1"
   ]
  },
  {
   "cell_type": "code",
   "execution_count": 83,
   "metadata": {},
   "outputs": [],
   "source": [
    "from sklearn.model_selection import train_test_split\n",
    "x_train_dup4,x_test_dup4,y_train_dup4,y_test_dup4=train_test_split(X_dup4,Y_dup4,test_size=.20,random_state=1)"
   ]
  },
  {
   "cell_type": "code",
   "execution_count": 84,
   "metadata": {},
   "outputs": [
    {
     "name": "stdout",
     "output_type": "stream",
     "text": [
      "Optimization terminated successfully.\n",
      "         Current function value: 0.379221\n",
      "         Iterations 7\n"
     ]
    },
    {
     "data": {
      "text/html": [
       "<table class=\"simpletable\">\n",
       "<caption>Logit Regression Results</caption>\n",
       "<tr>\n",
       "  <th>Dep. Variable:</th>    <td>TenYearCHD</td>    <th>  No. Observations:  </th>  <td>  3392</td>  \n",
       "</tr>\n",
       "<tr>\n",
       "  <th>Model:</th>               <td>Logit</td>      <th>  Df Residuals:      </th>  <td>  3380</td>  \n",
       "</tr>\n",
       "<tr>\n",
       "  <th>Method:</th>               <td>MLE</td>       <th>  Df Model:          </th>  <td>    11</td>  \n",
       "</tr>\n",
       "<tr>\n",
       "  <th>Date:</th>          <td>Fri, 01 Nov 2019</td> <th>  Pseudo R-squ.:     </th>  <td>0.1085</td>  \n",
       "</tr>\n",
       "<tr>\n",
       "  <th>Time:</th>              <td>19:09:53</td>     <th>  Log-Likelihood:    </th> <td> -1286.3</td> \n",
       "</tr>\n",
       "<tr>\n",
       "  <th>converged:</th>           <td>True</td>       <th>  LL-Null:           </th> <td> -1442.8</td> \n",
       "</tr>\n",
       "<tr>\n",
       "  <th> </th>                      <td> </td>        <th>  LLR p-value:       </th> <td>1.592e-60</td>\n",
       "</tr>\n",
       "</table>\n",
       "<table class=\"simpletable\">\n",
       "<tr>\n",
       "         <td></td>            <th>coef</th>     <th>std err</th>      <th>z</th>      <th>P>|z|</th>  <th>[0.025</th>    <th>0.975]</th>  \n",
       "</tr>\n",
       "<tr>\n",
       "  <th>const</th>           <td>   -8.2411</td> <td>    0.570</td> <td>  -14.446</td> <td> 0.000</td> <td>   -9.359</td> <td>   -7.123</td>\n",
       "</tr>\n",
       "<tr>\n",
       "  <th>male</th>            <td>    0.5929</td> <td>    0.110</td> <td>    5.408</td> <td> 0.000</td> <td>    0.378</td> <td>    0.808</td>\n",
       "</tr>\n",
       "<tr>\n",
       "  <th>age</th>             <td>    0.0569</td> <td>    0.007</td> <td>    8.368</td> <td> 0.000</td> <td>    0.044</td> <td>    0.070</td>\n",
       "</tr>\n",
       "<tr>\n",
       "  <th>education</th>       <td>   -0.0051</td> <td>    0.051</td> <td>   -0.099</td> <td> 0.921</td> <td>   -0.105</td> <td>    0.095</td>\n",
       "</tr>\n",
       "<tr>\n",
       "  <th>currentSmoker</th>   <td>    0.0020</td> <td>    0.159</td> <td>    0.013</td> <td> 0.990</td> <td>   -0.309</td> <td>    0.313</td>\n",
       "</tr>\n",
       "<tr>\n",
       "  <th>cigsPerDay</th>      <td>    0.0212</td> <td>    0.006</td> <td>    3.406</td> <td> 0.001</td> <td>    0.009</td> <td>    0.033</td>\n",
       "</tr>\n",
       "<tr>\n",
       "  <th>BPMeds</th>          <td>    0.3428</td> <td>    0.239</td> <td>    1.434</td> <td> 0.152</td> <td>   -0.126</td> <td>    0.811</td>\n",
       "</tr>\n",
       "<tr>\n",
       "  <th>prevalentStroke</th> <td>    0.2814</td> <td>    0.584</td> <td>    0.482</td> <td> 0.630</td> <td>   -0.863</td> <td>    1.425</td>\n",
       "</tr>\n",
       "<tr>\n",
       "  <th>prevalentHyp</th>    <td>    0.2244</td> <td>    0.142</td> <td>    1.581</td> <td> 0.114</td> <td>   -0.054</td> <td>    0.503</td>\n",
       "</tr>\n",
       "<tr>\n",
       "  <th>totChol</th>         <td>    0.0020</td> <td>    0.001</td> <td>    1.732</td> <td> 0.083</td> <td>   -0.000</td> <td>    0.004</td>\n",
       "</tr>\n",
       "<tr>\n",
       "  <th>sysBP</th>           <td>    0.0136</td> <td>    0.003</td> <td>    4.472</td> <td> 0.000</td> <td>    0.008</td> <td>    0.020</td>\n",
       "</tr>\n",
       "<tr>\n",
       "  <th>glucose</th>         <td>    0.0081</td> <td>    0.002</td> <td>    4.242</td> <td> 0.000</td> <td>    0.004</td> <td>    0.012</td>\n",
       "</tr>\n",
       "</table>"
      ],
      "text/plain": [
       "<class 'statsmodels.iolib.summary.Summary'>\n",
       "\"\"\"\n",
       "                           Logit Regression Results                           \n",
       "==============================================================================\n",
       "Dep. Variable:             TenYearCHD   No. Observations:                 3392\n",
       "Model:                          Logit   Df Residuals:                     3380\n",
       "Method:                           MLE   Df Model:                           11\n",
       "Date:                Fri, 01 Nov 2019   Pseudo R-squ.:                  0.1085\n",
       "Time:                        19:09:53   Log-Likelihood:                -1286.3\n",
       "converged:                       True   LL-Null:                       -1442.8\n",
       "                                        LLR p-value:                 1.592e-60\n",
       "===================================================================================\n",
       "                      coef    std err          z      P>|z|      [0.025      0.975]\n",
       "-----------------------------------------------------------------------------------\n",
       "const              -8.2411      0.570    -14.446      0.000      -9.359      -7.123\n",
       "male                0.5929      0.110      5.408      0.000       0.378       0.808\n",
       "age                 0.0569      0.007      8.368      0.000       0.044       0.070\n",
       "education          -0.0051      0.051     -0.099      0.921      -0.105       0.095\n",
       "currentSmoker       0.0020      0.159      0.013      0.990      -0.309       0.313\n",
       "cigsPerDay          0.0212      0.006      3.406      0.001       0.009       0.033\n",
       "BPMeds              0.3428      0.239      1.434      0.152      -0.126       0.811\n",
       "prevalentStroke     0.2814      0.584      0.482      0.630      -0.863       1.425\n",
       "prevalentHyp        0.2244      0.142      1.581      0.114      -0.054       0.503\n",
       "totChol             0.0020      0.001      1.732      0.083      -0.000       0.004\n",
       "sysBP               0.0136      0.003      4.472      0.000       0.008       0.020\n",
       "glucose             0.0081      0.002      4.242      0.000       0.004       0.012\n",
       "===================================================================================\n",
       "\"\"\""
      ]
     },
     "execution_count": 84,
     "metadata": {},
     "output_type": "execute_result"
    }
   ],
   "source": [
    "model4=sm.Logit(y_train_dup4,x_train_dup4)\n",
    "result4=model4.fit()\n",
    "result4.summary()"
   ]
  },
  {
   "cell_type": "code",
   "execution_count": 85,
   "metadata": {},
   "outputs": [
    {
     "data": {
      "text/plain": [
       "0.847877358490566"
      ]
     },
     "execution_count": 85,
     "metadata": {},
     "output_type": "execute_result"
    }
   ],
   "source": [
    "y_pred4=result4.predict(x_test_dup4)\n",
    "y_pred4.head()\n",
    "y_pred4=pd.Series(np.where(y_pred4 < 0.5, 0, 1))\n",
    "sklearn.metrics.accuracy_score(y_test_dup4,y_pred4)"
   ]
  },
  {
   "cell_type": "code",
   "execution_count": 86,
   "metadata": {},
   "outputs": [],
   "source": [
    "X_dup5 = X_dup4[['const','male', 'age', 'education', 'currentSmoker', 'cigsPerDay',\n",
    "       'prevalentStroke', 'prevalentHyp', 'totChol', 'sysBP','glucose']]\n",
    "Y_dup5 = Y_dup1"
   ]
  },
  {
   "cell_type": "code",
   "execution_count": 87,
   "metadata": {},
   "outputs": [],
   "source": [
    "from sklearn.model_selection import train_test_split\n",
    "x_train_dup5,x_test_dup5,y_train_dup5,y_test_dup5=train_test_split(X_dup5,Y_dup5,test_size=.20,random_state=1)"
   ]
  },
  {
   "cell_type": "code",
   "execution_count": 88,
   "metadata": {},
   "outputs": [
    {
     "name": "stdout",
     "output_type": "stream",
     "text": [
      "Optimization terminated successfully.\n",
      "         Current function value: 0.379516\n",
      "         Iterations 7\n"
     ]
    },
    {
     "data": {
      "text/html": [
       "<table class=\"simpletable\">\n",
       "<caption>Logit Regression Results</caption>\n",
       "<tr>\n",
       "  <th>Dep. Variable:</th>    <td>TenYearCHD</td>    <th>  No. Observations:  </th>  <td>  3392</td>  \n",
       "</tr>\n",
       "<tr>\n",
       "  <th>Model:</th>               <td>Logit</td>      <th>  Df Residuals:      </th>  <td>  3381</td>  \n",
       "</tr>\n",
       "<tr>\n",
       "  <th>Method:</th>               <td>MLE</td>       <th>  Df Model:          </th>  <td>    10</td>  \n",
       "</tr>\n",
       "<tr>\n",
       "  <th>Date:</th>          <td>Fri, 01 Nov 2019</td> <th>  Pseudo R-squ.:     </th>  <td>0.1078</td>  \n",
       "</tr>\n",
       "<tr>\n",
       "  <th>Time:</th>              <td>19:10:46</td>     <th>  Log-Likelihood:    </th> <td> -1287.3</td> \n",
       "</tr>\n",
       "<tr>\n",
       "  <th>converged:</th>           <td>True</td>       <th>  LL-Null:           </th> <td> -1442.8</td> \n",
       "</tr>\n",
       "<tr>\n",
       "  <th> </th>                      <td> </td>        <th>  LLR p-value:       </th> <td>7.342e-61</td>\n",
       "</tr>\n",
       "</table>\n",
       "<table class=\"simpletable\">\n",
       "<tr>\n",
       "         <td></td>            <th>coef</th>     <th>std err</th>      <th>z</th>      <th>P>|z|</th>  <th>[0.025</th>    <th>0.975]</th>  \n",
       "</tr>\n",
       "<tr>\n",
       "  <th>const</th>           <td>   -8.3153</td> <td>    0.568</td> <td>  -14.642</td> <td> 0.000</td> <td>   -9.428</td> <td>   -7.202</td>\n",
       "</tr>\n",
       "<tr>\n",
       "  <th>male</th>            <td>    0.5858</td> <td>    0.109</td> <td>    5.353</td> <td> 0.000</td> <td>    0.371</td> <td>    0.800</td>\n",
       "</tr>\n",
       "<tr>\n",
       "  <th>age</th>             <td>    0.0571</td> <td>    0.007</td> <td>    8.401</td> <td> 0.000</td> <td>    0.044</td> <td>    0.070</td>\n",
       "</tr>\n",
       "<tr>\n",
       "  <th>education</th>       <td>   -0.0039</td> <td>    0.051</td> <td>   -0.076</td> <td> 0.939</td> <td>   -0.104</td> <td>    0.096</td>\n",
       "</tr>\n",
       "<tr>\n",
       "  <th>currentSmoker</th>   <td>   -0.0009</td> <td>    0.158</td> <td>   -0.005</td> <td> 0.996</td> <td>   -0.311</td> <td>    0.310</td>\n",
       "</tr>\n",
       "<tr>\n",
       "  <th>cigsPerDay</th>      <td>    0.0211</td> <td>    0.006</td> <td>    3.397</td> <td> 0.001</td> <td>    0.009</td> <td>    0.033</td>\n",
       "</tr>\n",
       "<tr>\n",
       "  <th>prevalentStroke</th> <td>    0.4048</td> <td>    0.578</td> <td>    0.700</td> <td> 0.484</td> <td>   -0.729</td> <td>    1.538</td>\n",
       "</tr>\n",
       "<tr>\n",
       "  <th>prevalentHyp</th>    <td>    0.2417</td> <td>    0.141</td> <td>    1.713</td> <td> 0.087</td> <td>   -0.035</td> <td>    0.518</td>\n",
       "</tr>\n",
       "<tr>\n",
       "  <th>totChol</th>         <td>    0.0020</td> <td>    0.001</td> <td>    1.760</td> <td> 0.078</td> <td>   -0.000</td> <td>    0.004</td>\n",
       "</tr>\n",
       "<tr>\n",
       "  <th>sysBP</th>           <td>    0.0142</td> <td>    0.003</td> <td>    4.681</td> <td> 0.000</td> <td>    0.008</td> <td>    0.020</td>\n",
       "</tr>\n",
       "<tr>\n",
       "  <th>glucose</th>         <td>    0.0080</td> <td>    0.002</td> <td>    4.217</td> <td> 0.000</td> <td>    0.004</td> <td>    0.012</td>\n",
       "</tr>\n",
       "</table>"
      ],
      "text/plain": [
       "<class 'statsmodels.iolib.summary.Summary'>\n",
       "\"\"\"\n",
       "                           Logit Regression Results                           \n",
       "==============================================================================\n",
       "Dep. Variable:             TenYearCHD   No. Observations:                 3392\n",
       "Model:                          Logit   Df Residuals:                     3381\n",
       "Method:                           MLE   Df Model:                           10\n",
       "Date:                Fri, 01 Nov 2019   Pseudo R-squ.:                  0.1078\n",
       "Time:                        19:10:46   Log-Likelihood:                -1287.3\n",
       "converged:                       True   LL-Null:                       -1442.8\n",
       "                                        LLR p-value:                 7.342e-61\n",
       "===================================================================================\n",
       "                      coef    std err          z      P>|z|      [0.025      0.975]\n",
       "-----------------------------------------------------------------------------------\n",
       "const              -8.3153      0.568    -14.642      0.000      -9.428      -7.202\n",
       "male                0.5858      0.109      5.353      0.000       0.371       0.800\n",
       "age                 0.0571      0.007      8.401      0.000       0.044       0.070\n",
       "education          -0.0039      0.051     -0.076      0.939      -0.104       0.096\n",
       "currentSmoker      -0.0009      0.158     -0.005      0.996      -0.311       0.310\n",
       "cigsPerDay          0.0211      0.006      3.397      0.001       0.009       0.033\n",
       "prevalentStroke     0.4048      0.578      0.700      0.484      -0.729       1.538\n",
       "prevalentHyp        0.2417      0.141      1.713      0.087      -0.035       0.518\n",
       "totChol             0.0020      0.001      1.760      0.078      -0.000       0.004\n",
       "sysBP               0.0142      0.003      4.681      0.000       0.008       0.020\n",
       "glucose             0.0080      0.002      4.217      0.000       0.004       0.012\n",
       "===================================================================================\n",
       "\"\"\""
      ]
     },
     "execution_count": 88,
     "metadata": {},
     "output_type": "execute_result"
    }
   ],
   "source": [
    "model5=sm.Logit(y_train_dup5,x_train_dup5)\n",
    "result5=model5.fit()\n",
    "result5.summary()"
   ]
  },
  {
   "cell_type": "code",
   "execution_count": 89,
   "metadata": {},
   "outputs": [
    {
     "data": {
      "text/plain": [
       "0.8502358490566038"
      ]
     },
     "execution_count": 89,
     "metadata": {},
     "output_type": "execute_result"
    }
   ],
   "source": [
    "y_pred5=result5.predict(x_test_dup5)\n",
    "y_pred5.head()\n",
    "y_pred5=pd.Series(np.where(y_pred5 < 0.5, 0, 1))\n",
    "sklearn.metrics.accuracy_score(y_test_dup5,y_pred5)\n"
   ]
  },
  {
   "cell_type": "code",
   "execution_count": 90,
   "metadata": {},
   "outputs": [],
   "source": [
    "X_dup6 = X_dup5[['const','male', 'age', 'education', 'currentSmoker', 'cigsPerDay',\n",
    "       'prevalentStroke','totChol', 'sysBP','glucose']]\n",
    "Y_dup6 = Y_dup1"
   ]
  },
  {
   "cell_type": "code",
   "execution_count": 91,
   "metadata": {},
   "outputs": [],
   "source": [
    "from sklearn.model_selection import train_test_split\n",
    "x_train_dup6,x_test_dup6,y_train_dup6,y_test_dup6=train_test_split(X_dup6,Y_dup6,test_size=.20,random_state=1)"
   ]
  },
  {
   "cell_type": "code",
   "execution_count": 92,
   "metadata": {},
   "outputs": [
    {
     "name": "stdout",
     "output_type": "stream",
     "text": [
      "Optimization terminated successfully.\n",
      "         Current function value: 0.379946\n",
      "         Iterations 7\n"
     ]
    },
    {
     "data": {
      "text/html": [
       "<table class=\"simpletable\">\n",
       "<caption>Logit Regression Results</caption>\n",
       "<tr>\n",
       "  <th>Dep. Variable:</th>    <td>TenYearCHD</td>    <th>  No. Observations:  </th>  <td>  3392</td>  \n",
       "</tr>\n",
       "<tr>\n",
       "  <th>Model:</th>               <td>Logit</td>      <th>  Df Residuals:      </th>  <td>  3382</td>  \n",
       "</tr>\n",
       "<tr>\n",
       "  <th>Method:</th>               <td>MLE</td>       <th>  Df Model:          </th>  <td>     9</td>  \n",
       "</tr>\n",
       "<tr>\n",
       "  <th>Date:</th>          <td>Fri, 01 Nov 2019</td> <th>  Pseudo R-squ.:     </th>  <td>0.1068</td>  \n",
       "</tr>\n",
       "<tr>\n",
       "  <th>Time:</th>              <td>19:11:44</td>     <th>  Log-Likelihood:    </th> <td> -1288.8</td> \n",
       "</tr>\n",
       "<tr>\n",
       "  <th>converged:</th>           <td>True</td>       <th>  LL-Null:           </th> <td> -1442.8</td> \n",
       "</tr>\n",
       "<tr>\n",
       "  <th> </th>                      <td> </td>        <th>  LLR p-value:       </th> <td>5.035e-61</td>\n",
       "</tr>\n",
       "</table>\n",
       "<table class=\"simpletable\">\n",
       "<tr>\n",
       "         <td></td>            <th>coef</th>     <th>std err</th>      <th>z</th>      <th>P>|z|</th>  <th>[0.025</th>    <th>0.975]</th>  \n",
       "</tr>\n",
       "<tr>\n",
       "  <th>const</th>           <td>   -8.7144</td> <td>    0.519</td> <td>  -16.784</td> <td> 0.000</td> <td>   -9.732</td> <td>   -7.697</td>\n",
       "</tr>\n",
       "<tr>\n",
       "  <th>male</th>            <td>    0.5925</td> <td>    0.109</td> <td>    5.421</td> <td> 0.000</td> <td>    0.378</td> <td>    0.807</td>\n",
       "</tr>\n",
       "<tr>\n",
       "  <th>age</th>             <td>    0.0573</td> <td>    0.007</td> <td>    8.449</td> <td> 0.000</td> <td>    0.044</td> <td>    0.071</td>\n",
       "</tr>\n",
       "<tr>\n",
       "  <th>education</th>       <td>   -0.0026</td> <td>    0.051</td> <td>   -0.050</td> <td> 0.960</td> <td>   -0.103</td> <td>    0.098</td>\n",
       "</tr>\n",
       "<tr>\n",
       "  <th>currentSmoker</th>   <td>   -0.0070</td> <td>    0.158</td> <td>   -0.044</td> <td> 0.965</td> <td>   -0.318</td> <td>    0.304</td>\n",
       "</tr>\n",
       "<tr>\n",
       "  <th>cigsPerDay</th>      <td>    0.0212</td> <td>    0.006</td> <td>    3.408</td> <td> 0.001</td> <td>    0.009</td> <td>    0.033</td>\n",
       "</tr>\n",
       "<tr>\n",
       "  <th>prevalentStroke</th> <td>    0.4289</td> <td>    0.578</td> <td>    0.742</td> <td> 0.458</td> <td>   -0.704</td> <td>    1.562</td>\n",
       "</tr>\n",
       "<tr>\n",
       "  <th>totChol</th>         <td>    0.0020</td> <td>    0.001</td> <td>    1.797</td> <td> 0.072</td> <td>   -0.000</td> <td>    0.004</td>\n",
       "</tr>\n",
       "<tr>\n",
       "  <th>sysBP</th>           <td>    0.0176</td> <td>    0.002</td> <td>    7.751</td> <td> 0.000</td> <td>    0.013</td> <td>    0.022</td>\n",
       "</tr>\n",
       "<tr>\n",
       "  <th>glucose</th>         <td>    0.0080</td> <td>    0.002</td> <td>    4.190</td> <td> 0.000</td> <td>    0.004</td> <td>    0.012</td>\n",
       "</tr>\n",
       "</table>"
      ],
      "text/plain": [
       "<class 'statsmodels.iolib.summary.Summary'>\n",
       "\"\"\"\n",
       "                           Logit Regression Results                           \n",
       "==============================================================================\n",
       "Dep. Variable:             TenYearCHD   No. Observations:                 3392\n",
       "Model:                          Logit   Df Residuals:                     3382\n",
       "Method:                           MLE   Df Model:                            9\n",
       "Date:                Fri, 01 Nov 2019   Pseudo R-squ.:                  0.1068\n",
       "Time:                        19:11:44   Log-Likelihood:                -1288.8\n",
       "converged:                       True   LL-Null:                       -1442.8\n",
       "                                        LLR p-value:                 5.035e-61\n",
       "===================================================================================\n",
       "                      coef    std err          z      P>|z|      [0.025      0.975]\n",
       "-----------------------------------------------------------------------------------\n",
       "const              -8.7144      0.519    -16.784      0.000      -9.732      -7.697\n",
       "male                0.5925      0.109      5.421      0.000       0.378       0.807\n",
       "age                 0.0573      0.007      8.449      0.000       0.044       0.071\n",
       "education          -0.0026      0.051     -0.050      0.960      -0.103       0.098\n",
       "currentSmoker      -0.0070      0.158     -0.044      0.965      -0.318       0.304\n",
       "cigsPerDay          0.0212      0.006      3.408      0.001       0.009       0.033\n",
       "prevalentStroke     0.4289      0.578      0.742      0.458      -0.704       1.562\n",
       "totChol             0.0020      0.001      1.797      0.072      -0.000       0.004\n",
       "sysBP               0.0176      0.002      7.751      0.000       0.013       0.022\n",
       "glucose             0.0080      0.002      4.190      0.000       0.004       0.012\n",
       "===================================================================================\n",
       "\"\"\""
      ]
     },
     "execution_count": 92,
     "metadata": {},
     "output_type": "execute_result"
    }
   ],
   "source": [
    "model6=sm.Logit(y_train_dup6,x_train_dup6)\n",
    "result6=model6.fit()\n",
    "result6.summary()"
   ]
  },
  {
   "cell_type": "code",
   "execution_count": 93,
   "metadata": {},
   "outputs": [],
   "source": [
    "X_dup7 = X_dup6[['const','male', 'age', 'currentSmoker', 'cigsPerDay',\n",
    "       'prevalentStroke','totChol', 'sysBP','glucose']]\n",
    "Y_dup7 = Y_dup1"
   ]
  },
  {
   "cell_type": "code",
   "execution_count": 94,
   "metadata": {},
   "outputs": [],
   "source": [
    "from sklearn.model_selection import train_test_split\n",
    "x_train_dup7,x_test_dup7,y_train_dup7,y_test_dup7=train_test_split(X_dup7,Y_dup7,test_size=.20,random_state=1)"
   ]
  },
  {
   "cell_type": "code",
   "execution_count": 95,
   "metadata": {},
   "outputs": [
    {
     "name": "stdout",
     "output_type": "stream",
     "text": [
      "Optimization terminated successfully.\n",
      "         Current function value: 0.379947\n",
      "         Iterations 7\n"
     ]
    },
    {
     "data": {
      "text/html": [
       "<table class=\"simpletable\">\n",
       "<caption>Logit Regression Results</caption>\n",
       "<tr>\n",
       "  <th>Dep. Variable:</th>    <td>TenYearCHD</td>    <th>  No. Observations:  </th>  <td>  3392</td>  \n",
       "</tr>\n",
       "<tr>\n",
       "  <th>Model:</th>               <td>Logit</td>      <th>  Df Residuals:      </th>  <td>  3383</td>  \n",
       "</tr>\n",
       "<tr>\n",
       "  <th>Method:</th>               <td>MLE</td>       <th>  Df Model:          </th>  <td>     8</td>  \n",
       "</tr>\n",
       "<tr>\n",
       "  <th>Date:</th>          <td>Fri, 01 Nov 2019</td> <th>  Pseudo R-squ.:     </th>  <td>0.1068</td>  \n",
       "</tr>\n",
       "<tr>\n",
       "  <th>Time:</th>              <td>19:12:36</td>     <th>  Log-Likelihood:    </th> <td> -1288.8</td> \n",
       "</tr>\n",
       "<tr>\n",
       "  <th>converged:</th>           <td>True</td>       <th>  LL-Null:           </th> <td> -1442.8</td> \n",
       "</tr>\n",
       "<tr>\n",
       "  <th> </th>                      <td> </td>        <th>  LLR p-value:       </th> <td>7.849e-62</td>\n",
       "</tr>\n",
       "</table>\n",
       "<table class=\"simpletable\">\n",
       "<tr>\n",
       "         <td></td>            <th>coef</th>     <th>std err</th>      <th>z</th>      <th>P>|z|</th>  <th>[0.025</th>    <th>0.975]</th>  \n",
       "</tr>\n",
       "<tr>\n",
       "  <th>const</th>           <td>   -8.7227</td> <td>    0.491</td> <td>  -17.749</td> <td> 0.000</td> <td>   -9.686</td> <td>   -7.759</td>\n",
       "</tr>\n",
       "<tr>\n",
       "  <th>male</th>            <td>    0.5925</td> <td>    0.109</td> <td>    5.421</td> <td> 0.000</td> <td>    0.378</td> <td>    0.807</td>\n",
       "</tr>\n",
       "<tr>\n",
       "  <th>age</th>             <td>    0.0574</td> <td>    0.007</td> <td>    8.544</td> <td> 0.000</td> <td>    0.044</td> <td>    0.071</td>\n",
       "</tr>\n",
       "<tr>\n",
       "  <th>currentSmoker</th>   <td>   -0.0071</td> <td>    0.158</td> <td>   -0.045</td> <td> 0.964</td> <td>   -0.318</td> <td>    0.303</td>\n",
       "</tr>\n",
       "<tr>\n",
       "  <th>cigsPerDay</th>      <td>    0.0212</td> <td>    0.006</td> <td>    3.410</td> <td> 0.001</td> <td>    0.009</td> <td>    0.033</td>\n",
       "</tr>\n",
       "<tr>\n",
       "  <th>prevalentStroke</th> <td>    0.4295</td> <td>    0.578</td> <td>    0.743</td> <td> 0.457</td> <td>   -0.703</td> <td>    1.562</td>\n",
       "</tr>\n",
       "<tr>\n",
       "  <th>totChol</th>         <td>    0.0020</td> <td>    0.001</td> <td>    1.796</td> <td> 0.072</td> <td>   -0.000</td> <td>    0.004</td>\n",
       "</tr>\n",
       "<tr>\n",
       "  <th>sysBP</th>           <td>    0.0176</td> <td>    0.002</td> <td>    7.778</td> <td> 0.000</td> <td>    0.013</td> <td>    0.022</td>\n",
       "</tr>\n",
       "<tr>\n",
       "  <th>glucose</th>         <td>    0.0080</td> <td>    0.002</td> <td>    4.192</td> <td> 0.000</td> <td>    0.004</td> <td>    0.012</td>\n",
       "</tr>\n",
       "</table>"
      ],
      "text/plain": [
       "<class 'statsmodels.iolib.summary.Summary'>\n",
       "\"\"\"\n",
       "                           Logit Regression Results                           \n",
       "==============================================================================\n",
       "Dep. Variable:             TenYearCHD   No. Observations:                 3392\n",
       "Model:                          Logit   Df Residuals:                     3383\n",
       "Method:                           MLE   Df Model:                            8\n",
       "Date:                Fri, 01 Nov 2019   Pseudo R-squ.:                  0.1068\n",
       "Time:                        19:12:36   Log-Likelihood:                -1288.8\n",
       "converged:                       True   LL-Null:                       -1442.8\n",
       "                                        LLR p-value:                 7.849e-62\n",
       "===================================================================================\n",
       "                      coef    std err          z      P>|z|      [0.025      0.975]\n",
       "-----------------------------------------------------------------------------------\n",
       "const              -8.7227      0.491    -17.749      0.000      -9.686      -7.759\n",
       "male                0.5925      0.109      5.421      0.000       0.378       0.807\n",
       "age                 0.0574      0.007      8.544      0.000       0.044       0.071\n",
       "currentSmoker      -0.0071      0.158     -0.045      0.964      -0.318       0.303\n",
       "cigsPerDay          0.0212      0.006      3.410      0.001       0.009       0.033\n",
       "prevalentStroke     0.4295      0.578      0.743      0.457      -0.703       1.562\n",
       "totChol             0.0020      0.001      1.796      0.072      -0.000       0.004\n",
       "sysBP               0.0176      0.002      7.778      0.000       0.013       0.022\n",
       "glucose             0.0080      0.002      4.192      0.000       0.004       0.012\n",
       "===================================================================================\n",
       "\"\"\""
      ]
     },
     "execution_count": 95,
     "metadata": {},
     "output_type": "execute_result"
    }
   ],
   "source": [
    "model7=sm.Logit(y_train_dup7,x_train_dup7)\n",
    "result7=model7.fit()\n",
    "result7.summary()"
   ]
  },
  {
   "cell_type": "code",
   "execution_count": 96,
   "metadata": {},
   "outputs": [],
   "source": [
    "X_dup8 = X_dup7[['const','male', 'age', 'cigsPerDay','prevalentStroke','totChol', 'sysBP','glucose']]\n",
    "Y_dup8 = Y_dup1"
   ]
  },
  {
   "cell_type": "code",
   "execution_count": 97,
   "metadata": {},
   "outputs": [],
   "source": [
    "from sklearn.model_selection import train_test_split\n",
    "x_train_dup8,x_test_dup8,y_train_dup8,y_test_dup8=train_test_split(X_dup8,Y_dup8,test_size=.20,random_state=1)"
   ]
  },
  {
   "cell_type": "code",
   "execution_count": 99,
   "metadata": {},
   "outputs": [
    {
     "name": "stdout",
     "output_type": "stream",
     "text": [
      "Optimization terminated successfully.\n",
      "         Current function value: 0.379947\n",
      "         Iterations 7\n"
     ]
    },
    {
     "data": {
      "text/html": [
       "<table class=\"simpletable\">\n",
       "<caption>Logit Regression Results</caption>\n",
       "<tr>\n",
       "  <th>Dep. Variable:</th>    <td>TenYearCHD</td>    <th>  No. Observations:  </th>  <td>  3392</td>  \n",
       "</tr>\n",
       "<tr>\n",
       "  <th>Model:</th>               <td>Logit</td>      <th>  Df Residuals:      </th>  <td>  3384</td>  \n",
       "</tr>\n",
       "<tr>\n",
       "  <th>Method:</th>               <td>MLE</td>       <th>  Df Model:          </th>  <td>     7</td>  \n",
       "</tr>\n",
       "<tr>\n",
       "  <th>Date:</th>          <td>Fri, 01 Nov 2019</td> <th>  Pseudo R-squ.:     </th>  <td>0.1068</td>  \n",
       "</tr>\n",
       "<tr>\n",
       "  <th>Time:</th>              <td>19:14:18</td>     <th>  Log-Likelihood:    </th> <td> -1288.8</td> \n",
       "</tr>\n",
       "<tr>\n",
       "  <th>converged:</th>           <td>True</td>       <th>  LL-Null:           </th> <td> -1442.8</td> \n",
       "</tr>\n",
       "<tr>\n",
       "  <th> </th>                      <td> </td>        <th>  LLR p-value:       </th> <td>1.139e-62</td>\n",
       "</tr>\n",
       "</table>\n",
       "<table class=\"simpletable\">\n",
       "<tr>\n",
       "         <td></td>            <th>coef</th>     <th>std err</th>      <th>z</th>      <th>P>|z|</th>  <th>[0.025</th>    <th>0.975]</th>  \n",
       "</tr>\n",
       "<tr>\n",
       "  <th>const</th>           <td>   -8.7259</td> <td>    0.486</td> <td>  -17.947</td> <td> 0.000</td> <td>   -9.679</td> <td>   -7.773</td>\n",
       "</tr>\n",
       "<tr>\n",
       "  <th>male</th>            <td>    0.5926</td> <td>    0.109</td> <td>    5.423</td> <td> 0.000</td> <td>    0.378</td> <td>    0.807</td>\n",
       "</tr>\n",
       "<tr>\n",
       "  <th>age</th>             <td>    0.0574</td> <td>    0.007</td> <td>    8.567</td> <td> 0.000</td> <td>    0.044</td> <td>    0.071</td>\n",
       "</tr>\n",
       "<tr>\n",
       "  <th>cigsPerDay</th>      <td>    0.0210</td> <td>    0.004</td> <td>    4.952</td> <td> 0.000</td> <td>    0.013</td> <td>    0.029</td>\n",
       "</tr>\n",
       "<tr>\n",
       "  <th>prevalentStroke</th> <td>    0.4291</td> <td>    0.578</td> <td>    0.743</td> <td> 0.458</td> <td>   -0.703</td> <td>    1.561</td>\n",
       "</tr>\n",
       "<tr>\n",
       "  <th>totChol</th>         <td>    0.0020</td> <td>    0.001</td> <td>    1.797</td> <td> 0.072</td> <td>   -0.000</td> <td>    0.004</td>\n",
       "</tr>\n",
       "<tr>\n",
       "  <th>sysBP</th>           <td>    0.0176</td> <td>    0.002</td> <td>    7.785</td> <td> 0.000</td> <td>    0.013</td> <td>    0.022</td>\n",
       "</tr>\n",
       "<tr>\n",
       "  <th>glucose</th>         <td>    0.0080</td> <td>    0.002</td> <td>    4.193</td> <td> 0.000</td> <td>    0.004</td> <td>    0.012</td>\n",
       "</tr>\n",
       "</table>"
      ],
      "text/plain": [
       "<class 'statsmodels.iolib.summary.Summary'>\n",
       "\"\"\"\n",
       "                           Logit Regression Results                           \n",
       "==============================================================================\n",
       "Dep. Variable:             TenYearCHD   No. Observations:                 3392\n",
       "Model:                          Logit   Df Residuals:                     3384\n",
       "Method:                           MLE   Df Model:                            7\n",
       "Date:                Fri, 01 Nov 2019   Pseudo R-squ.:                  0.1068\n",
       "Time:                        19:14:18   Log-Likelihood:                -1288.8\n",
       "converged:                       True   LL-Null:                       -1442.8\n",
       "                                        LLR p-value:                 1.139e-62\n",
       "===================================================================================\n",
       "                      coef    std err          z      P>|z|      [0.025      0.975]\n",
       "-----------------------------------------------------------------------------------\n",
       "const              -8.7259      0.486    -17.947      0.000      -9.679      -7.773\n",
       "male                0.5926      0.109      5.423      0.000       0.378       0.807\n",
       "age                 0.0574      0.007      8.567      0.000       0.044       0.071\n",
       "cigsPerDay          0.0210      0.004      4.952      0.000       0.013       0.029\n",
       "prevalentStroke     0.4291      0.578      0.743      0.458      -0.703       1.561\n",
       "totChol             0.0020      0.001      1.797      0.072      -0.000       0.004\n",
       "sysBP               0.0176      0.002      7.785      0.000       0.013       0.022\n",
       "glucose             0.0080      0.002      4.193      0.000       0.004       0.012\n",
       "===================================================================================\n",
       "\"\"\""
      ]
     },
     "execution_count": 99,
     "metadata": {},
     "output_type": "execute_result"
    }
   ],
   "source": [
    "model8=sm.Logit(y_train_dup8,x_train_dup8)\n",
    "result8=model8.fit()\n",
    "result8.summary()"
   ]
  },
  {
   "cell_type": "code",
   "execution_count": 100,
   "metadata": {},
   "outputs": [],
   "source": [
    "X_dup9 = X_dup8[['const','male', 'age', 'cigsPerDay','totChol', 'sysBP','glucose']]\n",
    "Y_dup9 = Y_dup1"
   ]
  },
  {
   "cell_type": "code",
   "execution_count": 101,
   "metadata": {},
   "outputs": [],
   "source": [
    "from sklearn.model_selection import train_test_split\n",
    "x_train_dup9,x_test_dup9,y_train_dup9,y_test_dup9=train_test_split(X_dup9,Y_dup9,test_size=.20,random_state=1)"
   ]
  },
  {
   "cell_type": "code",
   "execution_count": 102,
   "metadata": {},
   "outputs": [
    {
     "name": "stdout",
     "output_type": "stream",
     "text": [
      "Optimization terminated successfully.\n",
      "         Current function value: 0.380025\n",
      "         Iterations 7\n"
     ]
    },
    {
     "data": {
      "text/html": [
       "<table class=\"simpletable\">\n",
       "<caption>Logit Regression Results</caption>\n",
       "<tr>\n",
       "  <th>Dep. Variable:</th>    <td>TenYearCHD</td>    <th>  No. Observations:  </th>  <td>  3392</td>  \n",
       "</tr>\n",
       "<tr>\n",
       "  <th>Model:</th>               <td>Logit</td>      <th>  Df Residuals:      </th>  <td>  3385</td>  \n",
       "</tr>\n",
       "<tr>\n",
       "  <th>Method:</th>               <td>MLE</td>       <th>  Df Model:          </th>  <td>     6</td>  \n",
       "</tr>\n",
       "<tr>\n",
       "  <th>Date:</th>          <td>Fri, 01 Nov 2019</td> <th>  Pseudo R-squ.:     </th>  <td>0.1066</td>  \n",
       "</tr>\n",
       "<tr>\n",
       "  <th>Time:</th>              <td>19:14:59</td>     <th>  Log-Likelihood:    </th> <td> -1289.0</td> \n",
       "</tr>\n",
       "<tr>\n",
       "  <th>converged:</th>           <td>True</td>       <th>  LL-Null:           </th> <td> -1442.8</td> \n",
       "</tr>\n",
       "<tr>\n",
       "  <th> </th>                      <td> </td>        <th>  LLR p-value:       </th> <td>1.973e-63</td>\n",
       "</tr>\n",
       "</table>\n",
       "<table class=\"simpletable\">\n",
       "<tr>\n",
       "       <td></td>         <th>coef</th>     <th>std err</th>      <th>z</th>      <th>P>|z|</th>  <th>[0.025</th>    <th>0.975]</th>  \n",
       "</tr>\n",
       "<tr>\n",
       "  <th>const</th>      <td>   -8.7375</td> <td>    0.486</td> <td>  -17.976</td> <td> 0.000</td> <td>   -9.690</td> <td>   -7.785</td>\n",
       "</tr>\n",
       "<tr>\n",
       "  <th>male</th>       <td>    0.5932</td> <td>    0.109</td> <td>    5.430</td> <td> 0.000</td> <td>    0.379</td> <td>    0.807</td>\n",
       "</tr>\n",
       "<tr>\n",
       "  <th>age</th>        <td>    0.0575</td> <td>    0.007</td> <td>    8.584</td> <td> 0.000</td> <td>    0.044</td> <td>    0.071</td>\n",
       "</tr>\n",
       "<tr>\n",
       "  <th>cigsPerDay</th> <td>    0.0210</td> <td>    0.004</td> <td>    4.946</td> <td> 0.000</td> <td>    0.013</td> <td>    0.029</td>\n",
       "</tr>\n",
       "<tr>\n",
       "  <th>totChol</th>    <td>    0.0020</td> <td>    0.001</td> <td>    1.788</td> <td> 0.074</td> <td>   -0.000</td> <td>    0.004</td>\n",
       "</tr>\n",
       "<tr>\n",
       "  <th>sysBP</th>      <td>    0.0177</td> <td>    0.002</td> <td>    7.847</td> <td> 0.000</td> <td>    0.013</td> <td>    0.022</td>\n",
       "</tr>\n",
       "<tr>\n",
       "  <th>glucose</th>    <td>    0.0079</td> <td>    0.002</td> <td>    4.182</td> <td> 0.000</td> <td>    0.004</td> <td>    0.012</td>\n",
       "</tr>\n",
       "</table>"
      ],
      "text/plain": [
       "<class 'statsmodels.iolib.summary.Summary'>\n",
       "\"\"\"\n",
       "                           Logit Regression Results                           \n",
       "==============================================================================\n",
       "Dep. Variable:             TenYearCHD   No. Observations:                 3392\n",
       "Model:                          Logit   Df Residuals:                     3385\n",
       "Method:                           MLE   Df Model:                            6\n",
       "Date:                Fri, 01 Nov 2019   Pseudo R-squ.:                  0.1066\n",
       "Time:                        19:14:59   Log-Likelihood:                -1289.0\n",
       "converged:                       True   LL-Null:                       -1442.8\n",
       "                                        LLR p-value:                 1.973e-63\n",
       "==============================================================================\n",
       "                 coef    std err          z      P>|z|      [0.025      0.975]\n",
       "------------------------------------------------------------------------------\n",
       "const         -8.7375      0.486    -17.976      0.000      -9.690      -7.785\n",
       "male           0.5932      0.109      5.430      0.000       0.379       0.807\n",
       "age            0.0575      0.007      8.584      0.000       0.044       0.071\n",
       "cigsPerDay     0.0210      0.004      4.946      0.000       0.013       0.029\n",
       "totChol        0.0020      0.001      1.788      0.074      -0.000       0.004\n",
       "sysBP          0.0177      0.002      7.847      0.000       0.013       0.022\n",
       "glucose        0.0079      0.002      4.182      0.000       0.004       0.012\n",
       "==============================================================================\n",
       "\"\"\""
      ]
     },
     "execution_count": 102,
     "metadata": {},
     "output_type": "execute_result"
    }
   ],
   "source": [
    "model9=sm.Logit(y_train_dup9,x_train_dup9)\n",
    "result9=model9.fit()\n",
    "result9.summary()"
   ]
  },
  {
   "cell_type": "code",
   "execution_count": 103,
   "metadata": {},
   "outputs": [
    {
     "data": {
      "text/plain": [
       "0.847877358490566"
      ]
     },
     "execution_count": 103,
     "metadata": {},
     "output_type": "execute_result"
    }
   ],
   "source": [
    "y_pred9=result9.predict(x_test_dup9)\n",
    "y_pred9.head()\n",
    "y_pred9=pd.Series(np.where(y_pred9 < 0.5, 0, 1))\n",
    "sklearn.metrics.accuracy_score(y_test_dup9,y_pred9)"
   ]
  },
  {
   "cell_type": "code",
   "execution_count": 104,
   "metadata": {},
   "outputs": [],
   "source": [
    "X_dup10 = X_dup9[['const','male', 'age', 'cigsPerDay', 'sysBP','glucose']]\n",
    "Y_dup10 = Y_dup1"
   ]
  },
  {
   "cell_type": "code",
   "execution_count": 105,
   "metadata": {},
   "outputs": [],
   "source": [
    "from sklearn.model_selection import train_test_split\n",
    "x_train_dup10,x_test_dup10,y_train_dup10,y_test_dup10=train_test_split(X_dup10,Y_dup10,test_size=.20,random_state=1)"
   ]
  },
  {
   "cell_type": "code",
   "execution_count": 106,
   "metadata": {},
   "outputs": [
    {
     "name": "stdout",
     "output_type": "stream",
     "text": [
      "Optimization terminated successfully.\n",
      "         Current function value: 0.380490\n",
      "         Iterations 7\n"
     ]
    },
    {
     "data": {
      "text/html": [
       "<table class=\"simpletable\">\n",
       "<caption>Logit Regression Results</caption>\n",
       "<tr>\n",
       "  <th>Dep. Variable:</th>    <td>TenYearCHD</td>    <th>  No. Observations:  </th>  <td>  3392</td>  \n",
       "</tr>\n",
       "<tr>\n",
       "  <th>Model:</th>               <td>Logit</td>      <th>  Df Residuals:      </th>  <td>  3386</td>  \n",
       "</tr>\n",
       "<tr>\n",
       "  <th>Method:</th>               <td>MLE</td>       <th>  Df Model:          </th>  <td>     5</td>  \n",
       "</tr>\n",
       "<tr>\n",
       "  <th>Date:</th>          <td>Fri, 01 Nov 2019</td> <th>  Pseudo R-squ.:     </th>  <td>0.1055</td>  \n",
       "</tr>\n",
       "<tr>\n",
       "  <th>Time:</th>              <td>19:15:48</td>     <th>  Log-Likelihood:    </th> <td> -1290.6</td> \n",
       "</tr>\n",
       "<tr>\n",
       "  <th>converged:</th>           <td>True</td>       <th>  LL-Null:           </th> <td> -1442.8</td> \n",
       "</tr>\n",
       "<tr>\n",
       "  <th> </th>                      <td> </td>        <th>  LLR p-value:       </th> <td>1.137e-63</td>\n",
       "</tr>\n",
       "</table>\n",
       "<table class=\"simpletable\">\n",
       "<tr>\n",
       "       <td></td>         <th>coef</th>     <th>std err</th>      <th>z</th>      <th>P>|z|</th>  <th>[0.025</th>    <th>0.975]</th>  \n",
       "</tr>\n",
       "<tr>\n",
       "  <th>const</th>      <td>   -8.3583</td> <td>    0.433</td> <td>  -19.314</td> <td> 0.000</td> <td>   -9.207</td> <td>   -7.510</td>\n",
       "</tr>\n",
       "<tr>\n",
       "  <th>male</th>       <td>    0.5668</td> <td>    0.108</td> <td>    5.244</td> <td> 0.000</td> <td>    0.355</td> <td>    0.779</td>\n",
       "</tr>\n",
       "<tr>\n",
       "  <th>age</th>        <td>    0.0586</td> <td>    0.007</td> <td>    8.807</td> <td> 0.000</td> <td>    0.046</td> <td>    0.072</td>\n",
       "</tr>\n",
       "<tr>\n",
       "  <th>cigsPerDay</th> <td>    0.0213</td> <td>    0.004</td> <td>    5.032</td> <td> 0.000</td> <td>    0.013</td> <td>    0.030</td>\n",
       "</tr>\n",
       "<tr>\n",
       "  <th>sysBP</th>      <td>    0.0182</td> <td>    0.002</td> <td>    8.083</td> <td> 0.000</td> <td>    0.014</td> <td>    0.023</td>\n",
       "</tr>\n",
       "<tr>\n",
       "  <th>glucose</th>    <td>    0.0080</td> <td>    0.002</td> <td>    4.209</td> <td> 0.000</td> <td>    0.004</td> <td>    0.012</td>\n",
       "</tr>\n",
       "</table>"
      ],
      "text/plain": [
       "<class 'statsmodels.iolib.summary.Summary'>\n",
       "\"\"\"\n",
       "                           Logit Regression Results                           \n",
       "==============================================================================\n",
       "Dep. Variable:             TenYearCHD   No. Observations:                 3392\n",
       "Model:                          Logit   Df Residuals:                     3386\n",
       "Method:                           MLE   Df Model:                            5\n",
       "Date:                Fri, 01 Nov 2019   Pseudo R-squ.:                  0.1055\n",
       "Time:                        19:15:48   Log-Likelihood:                -1290.6\n",
       "converged:                       True   LL-Null:                       -1442.8\n",
       "                                        LLR p-value:                 1.137e-63\n",
       "==============================================================================\n",
       "                 coef    std err          z      P>|z|      [0.025      0.975]\n",
       "------------------------------------------------------------------------------\n",
       "const         -8.3583      0.433    -19.314      0.000      -9.207      -7.510\n",
       "male           0.5668      0.108      5.244      0.000       0.355       0.779\n",
       "age            0.0586      0.007      8.807      0.000       0.046       0.072\n",
       "cigsPerDay     0.0213      0.004      5.032      0.000       0.013       0.030\n",
       "sysBP          0.0182      0.002      8.083      0.000       0.014       0.023\n",
       "glucose        0.0080      0.002      4.209      0.000       0.004       0.012\n",
       "==============================================================================\n",
       "\"\"\""
      ]
     },
     "execution_count": 106,
     "metadata": {},
     "output_type": "execute_result"
    }
   ],
   "source": [
    "model10=sm.Logit(y_train_dup10,x_train_dup10)\n",
    "result10=model10.fit()\n",
    "result10.summary()"
   ]
  },
  {
   "cell_type": "code",
   "execution_count": 107,
   "metadata": {},
   "outputs": [
    {
     "data": {
      "text/plain": [
       "0.847877358490566"
      ]
     },
     "execution_count": 107,
     "metadata": {},
     "output_type": "execute_result"
    }
   ],
   "source": [
    "y_pred10=result10.predict(x_test_dup10)\n",
    "y_pred10.head()\n",
    "y_pred10=pd.Series(np.where(y_pred10 < 0.5, 0, 1))\n",
    "sklearn.metrics.accuracy_score(y_test_dup10,y_pred10)"
   ]
  },
  {
   "cell_type": "code",
   "execution_count": 108,
   "metadata": {},
   "outputs": [
    {
     "name": "stdout",
     "output_type": "stream",
     "text": [
      "   VIF Factor    features\n",
      "0    1.918639        male\n",
      "1   33.635827         age\n",
      "2    1.714561  cigsPerDay\n",
      "3   34.783555       sysBP\n",
      "4   13.496081     glucose\n"
     ]
    }
   ],
   "source": [
    "x_train_dup10 = x_train_dup10.drop('const',axis=1)\n",
    "from statsmodels.stats.outliers_influence import variance_inflation_factor\n",
    "vif = pd.DataFrame()\n",
    "vif[\"VIF Factor\"] = [variance_inflation_factor(x_train_dup10.values, i) for i in range(x_train_dup10.shape[1])]\n",
    "vif[\"features\"] = x_train_dup10.columns\n",
    "print(vif)"
   ]
  },
  {
   "cell_type": "code",
   "execution_count": 109,
   "metadata": {},
   "outputs": [
    {
     "data": {
      "image/png": "[encoded data removed]",
      "text/plain": [
       "<Figure size 1008x720 with 2 Axes>"
      ]
     },
     "metadata": {},
     "output_type": "display_data"
    }
   ],
   "source": [
    "plt.figure(figsize=(14,10))\n",
    "\n",
    "# create a heatmap of correlation matrix\n",
    "correlation_matrix = data.corr()\n",
    "# annot = True to print the values inside the square\n",
    "sns.heatmap(data=correlation_matrix, annot=True)\n",
    "plt.show()"
   ]
  },
  {
   "cell_type": "code",
   "execution_count": 112,
   "metadata": {},
   "outputs": [],
   "source": [
    "data3 = data[['male', 'cigsPerDay', 'sysBP','TenYearCHD']]"
   ]
  },
  {
   "cell_type": "code",
   "execution_count": 113,
   "metadata": {},
   "outputs": [
    {
     "name": "stderr",
     "output_type": "stream",
     "text": [
      "C:\\Users\\Aspire\\Anaconda3\\lib\\site-packages\\pandas\\core\\generic.py:5430: SettingWithCopyWarning: \n",
      "A value is trying to be set on a copy of a slice from a DataFrame\n",
      "\n",
      "See the caveats in the documentation: http://pandas.pydata.org/pandas-docs/stable/indexing.html#indexing-view-versus-copy\n",
      "  self._update_inplace(new_data)\n"
     ]
    }
   ],
   "source": [
    "data3['cigsPerDay'].fillna((data3['cigsPerDay'].mean()), inplace=True)"
   ]
  },
  {
   "cell_type": "code",
   "execution_count": 114,
   "metadata": {},
   "outputs": [
    {
     "name": "stdout",
     "output_type": "stream",
     "text": [
      "   VIF Factor    features\n",
      "0    1.927986        male\n",
      "1    1.716679  cigsPerDay\n",
      "2    2.067777       sysBP\n",
      "3    1.217397  TenYearCHD\n"
     ]
    }
   ],
   "source": [
    "from statsmodels.stats.outliers_influence import variance_inflation_factor\n",
    "vif = pd.DataFrame()\n",
    "vif[\"VIF Factor\"] = [variance_inflation_factor(data3.values, i) for i in range(data3.shape[1])]\n",
    "vif[\"features\"] = data3.columns\n",
    "print(vif)"
   ]
  },
  {
   "cell_type": "code",
   "execution_count": 115,
   "metadata": {},
   "outputs": [],
   "source": [
    "data3_IV = data3[['male','cigsPerDay','sysBP']]\n",
    "data3_DV = data3['TenYearCHD']"
   ]
  },
  {
   "cell_type": "code",
   "execution_count": 116,
   "metadata": {},
   "outputs": [
    {
     "data": {
      "text/plain": [
       "0"
      ]
     },
     "execution_count": 116,
     "metadata": {},
     "output_type": "execute_result"
    }
   ],
   "source": [
    "data3_DV.isnull().sum()"
   ]
  },
  {
   "cell_type": "code",
   "execution_count": 117,
   "metadata": {},
   "outputs": [],
   "source": [
    "from sklearn.model_selection import train_test_split\n",
    "x_train_dup11,x_test_dup11,y_train_dup11,y_test_dup11=train_test_split(data3_IV,data3_DV,test_size=.20,random_state=1)"
   ]
  },
  {
   "cell_type": "code",
   "execution_count": 118,
   "metadata": {},
   "outputs": [],
   "source": [
    "x_train_dup11 = x_train_dup11.reset_index(drop=True) \n",
    "y_train_dup11 = y_train_dup11.reset_index(drop=True) "
   ]
  },
  {
   "cell_type": "code",
   "execution_count": 119,
   "metadata": {},
   "outputs": [
    {
     "data": {
      "image/png": "[encoded data removed]",
      "text/plain": [
       "<Figure size 1008x576 with 1 Axes>"
      ]
     },
     "metadata": {},
     "output_type": "display_data"
    }
   ],
   "source": [
    "plt.figure(figsize=(14,8))\n",
    "data4=pd.melt(x_train_dup11,var_name='factors',value_name='values')\n",
    "p=sns.boxplot(x='factors',y='values',data=data4)\n",
    "p.set(xlabel ='Factors',ylabel='Values',title ='Data spread of independent variables')\n",
    "\n",
    "plt.show()"
   ]
  },
  {
   "cell_type": "code",
   "execution_count": 120,
   "metadata": {},
   "outputs": [],
   "source": [
    "IV = x_train_dup11.describe()\n",
    "IV = IV.reset_index(drop=True)\n",
    "#print(IV.head())\n",
    "#z1 = z['medv']\n",
    "limIV = len(x_train_dup11)\n",
    "#print(limIV)\n",
    "#lim=len(x_train)\n",
    "#data3=data3.reset_index(drop=True)\n",
    "for i in range(0,len(x_train_dup11.columns)):\n",
    "    twenty_five=IV.iloc[4][i]\n",
    "    seventy_five=IV.iloc[6][i]\n",
    "    iqr=seventy_five-twenty_five\n",
    "    max_r=seventy_five+1.5*iqr\n",
    "    min_r=twenty_five-1.5*iqr\n",
    "    for j in range(0,limIV):\n",
    "        #print(x_train.iloc[i,j])\n",
    "        if x_train_dup11.iloc[j,i]>max_r:\n",
    "            x_train_dup11.iloc[j,i]=max_r\n",
    "        if x_train_dup11.iloc[j,i]<min_r:\n",
    "            x_train_dup11.iloc[j,i]=min_r"
   ]
  },
  {
   "cell_type": "code",
   "execution_count": 121,
   "metadata": {},
   "outputs": [
    {
     "data": {
      "image/png": "[encoded data removed]",
      "text/plain": [
       "<Figure size 1008x576 with 1 Axes>"
      ]
     },
     "metadata": {},
     "output_type": "display_data"
    }
   ],
   "source": [
    "plt.figure(figsize=(14,8))\n",
    "data5=pd.melt(x_train_dup11,var_name='factors',value_name='values')\n",
    "p=sns.boxplot(x='factors',y='values',data=data5)\n",
    "p.set(xlabel ='Factors',ylabel='Values',title ='Data spread of independent variables')\n",
    "\n",
    "plt.show()"
   ]
  },
  {
   "cell_type": "code",
   "execution_count": 122,
   "metadata": {},
   "outputs": [
    {
     "name": "stdout",
     "output_type": "stream",
     "text": [
      "Optimization terminated successfully.\n",
      "         Current function value: 0.395981\n",
      "         Iterations 6\n"
     ]
    },
    {
     "data": {
      "text/html": [
       "<table class=\"simpletable\">\n",
       "<caption>Logit Regression Results</caption>\n",
       "<tr>\n",
       "  <th>Dep. Variable:</th>    <td>TenYearCHD</td>    <th>  No. Observations:  </th>  <td>  3392</td>  \n",
       "</tr>\n",
       "<tr>\n",
       "  <th>Model:</th>               <td>Logit</td>      <th>  Df Residuals:      </th>  <td>  3388</td>  \n",
       "</tr>\n",
       "<tr>\n",
       "  <th>Method:</th>               <td>MLE</td>       <th>  Df Model:          </th>  <td>     3</td>  \n",
       "</tr>\n",
       "<tr>\n",
       "  <th>Date:</th>          <td>Fri, 01 Nov 2019</td> <th>  Pseudo R-squ.:     </th>  <td>0.06907</td> \n",
       "</tr>\n",
       "<tr>\n",
       "  <th>Time:</th>              <td>19:24:27</td>     <th>  Log-Likelihood:    </th> <td> -1343.2</td> \n",
       "</tr>\n",
       "<tr>\n",
       "  <th>converged:</th>           <td>True</td>       <th>  LL-Null:           </th> <td> -1442.8</td> \n",
       "</tr>\n",
       "<tr>\n",
       "  <th> </th>                      <td> </td>        <th>  LLR p-value:       </th> <td>5.983e-43</td>\n",
       "</tr>\n",
       "</table>\n",
       "<table class=\"simpletable\">\n",
       "<tr>\n",
       "       <td></td>         <th>coef</th>     <th>std err</th>      <th>z</th>      <th>P>|z|</th>  <th>[0.025</th>    <th>0.975]</th>  \n",
       "</tr>\n",
       "<tr>\n",
       "  <th>const</th>      <td>   -6.0013</td> <td>    0.337</td> <td>  -17.814</td> <td> 0.000</td> <td>   -6.662</td> <td>   -5.341</td>\n",
       "</tr>\n",
       "<tr>\n",
       "  <th>male</th>       <td>    0.5713</td> <td>    0.105</td> <td>    5.421</td> <td> 0.000</td> <td>    0.365</td> <td>    0.778</td>\n",
       "</tr>\n",
       "<tr>\n",
       "  <th>cigsPerDay</th> <td>    0.0129</td> <td>    0.004</td> <td>    3.142</td> <td> 0.002</td> <td>    0.005</td> <td>    0.021</td>\n",
       "</tr>\n",
       "<tr>\n",
       "  <th>sysBP</th>      <td>    0.0286</td> <td>    0.002</td> <td>   12.478</td> <td> 0.000</td> <td>    0.024</td> <td>    0.033</td>\n",
       "</tr>\n",
       "</table>"
      ],
      "text/plain": [
       "<class 'statsmodels.iolib.summary.Summary'>\n",
       "\"\"\"\n",
       "                           Logit Regression Results                           \n",
       "==============================================================================\n",
       "Dep. Variable:             TenYearCHD   No. Observations:                 3392\n",
       "Model:                          Logit   Df Residuals:                     3388\n",
       "Method:                           MLE   Df Model:                            3\n",
       "Date:                Fri, 01 Nov 2019   Pseudo R-squ.:                 0.06907\n",
       "Time:                        19:24:27   Log-Likelihood:                -1343.2\n",
       "converged:                       True   LL-Null:                       -1442.8\n",
       "                                        LLR p-value:                 5.983e-43\n",
       "==============================================================================\n",
       "                 coef    std err          z      P>|z|      [0.025      0.975]\n",
       "------------------------------------------------------------------------------\n",
       "const         -6.0013      0.337    -17.814      0.000      -6.662      -5.341\n",
       "male           0.5713      0.105      5.421      0.000       0.365       0.778\n",
       "cigsPerDay     0.0129      0.004      3.142      0.002       0.005       0.021\n",
       "sysBP          0.0286      0.002     12.478      0.000       0.024       0.033\n",
       "==============================================================================\n",
       "\"\"\""
      ]
     },
     "execution_count": 122,
     "metadata": {},
     "output_type": "execute_result"
    }
   ],
   "source": [
    "x_train_dup11 = add_constant(x_train_dup11)\n",
    "model11=sm.Logit(y_train_dup11,x_train_dup11,)\n",
    "result11=model11.fit()\n",
    "result11.summary()"
   ]
  },
  {
   "cell_type": "code",
   "execution_count": 123,
   "metadata": {},
   "outputs": [
    {
     "name": "stdout",
     "output_type": "stream",
     "text": [
      "            CI 95%(2.5%)  CI 95%(97.5%)  Odds Ratio  pvalue\n",
      "const           0.001279       0.004791    0.002475   0.000\n",
      "male            1.440108       2.176649    1.770483   0.000\n",
      "cigsPerDay      1.004854       1.021123    1.012956   0.002\n",
      "sysBP           1.024381       1.033619    1.028989   0.000\n"
     ]
    }
   ],
   "source": [
    "params = np.exp(result11.params)\n",
    "# lower and upper limit of CI\n",
    "conf = np.exp(result11.conf_int())\n",
    "conf['OddsRatio'] = params\n",
    "pvalue=round(result11.pvalues,3)\n",
    "conf['pvalue']=pvalue\n",
    "conf.columns = ['CI 95%(2.5%)', 'CI 95%(97.5%)', 'Odds Ratio','pvalue']\n",
    "print ((conf))"
   ]
  },
  {
   "cell_type": "code",
   "execution_count": 124,
   "metadata": {},
   "outputs": [
    {
     "data": {
      "text/plain": [
       "0.8455188679245284"
      ]
     },
     "execution_count": 124,
     "metadata": {},
     "output_type": "execute_result"
    }
   ],
   "source": [
    "x_test_dup11 = add_constant(x_test_dup11)\n",
    "y_pred11=result11.predict(x_test_dup11)\n",
    "y_pred11.head()\n",
    "y_pred11=pd.Series(np.where(y_pred11 < 0.5, 0, 1))\n",
    "sklearn.metrics.accuracy_score(y_test_dup11,y_pred11)"
   ]
  },
  {
   "cell_type": "code",
   "execution_count": 125,
   "metadata": {},
   "outputs": [],
   "source": [
    "#confusion matrix"
   ]
  },
  {
   "cell_type": "code",
   "execution_count": 126,
   "metadata": {},
   "outputs": [],
   "source": [
    "cm=confusion_matrix(y_test_dup11,y_pred11)"
   ]
  },
  {
   "cell_type": "code",
   "execution_count": 127,
   "metadata": {},
   "outputs": [
    {
     "name": "stdout",
     "output_type": "stream",
     "text": [
      "[[714   4]\n",
      " [127   3]]\n"
     ]
    }
   ],
   "source": [
    "print(cm)"
   ]
  },
  {
   "cell_type": "code",
   "execution_count": 132,
   "metadata": {},
   "outputs": [],
   "source": [
    "from sklearn.linear_model import LogisticRegression\n",
    "logreg=LogisticRegression()\n",
    "logreg.fit(x_train_dup11,y_train_dup11)\n",
    "y_pred_1=logreg.predict(x_test_dup11)"
   ]
  },
  {
   "cell_type": "code",
   "execution_count": 133,
   "metadata": {},
   "outputs": [
    {
     "data": {
      "text/html": [
       "<div>\n",
       "<style scoped>\n",
       "    .dataframe tbody tr th:only-of-type {\n",
       "        vertical-align: middle;\n",
       "    }\n",
       "\n",
       "    .dataframe tbody tr th {\n",
       "        vertical-align: top;\n",
       "    }\n",
       "\n",
       "    .dataframe thead th {\n",
       "        text-align: right;\n",
       "    }\n",
       "</style>\n",
       "<table border=\"1\" class=\"dataframe\">\n",
       "  <thead>\n",
       "    <tr style=\"text-align: right;\">\n",
       "      <th></th>\n",
       "      <th>Prob of no heart disease (0)</th>\n",
       "      <th>Prob of Heart Disease (1)</th>\n",
       "    </tr>\n",
       "  </thead>\n",
       "  <tbody>\n",
       "    <tr>\n",
       "      <th>0</th>\n",
       "      <td>0.785572</td>\n",
       "      <td>0.214428</td>\n",
       "    </tr>\n",
       "    <tr>\n",
       "      <th>1</th>\n",
       "      <td>0.847283</td>\n",
       "      <td>0.152717</td>\n",
       "    </tr>\n",
       "    <tr>\n",
       "      <th>2</th>\n",
       "      <td>0.731489</td>\n",
       "      <td>0.268511</td>\n",
       "    </tr>\n",
       "    <tr>\n",
       "      <th>3</th>\n",
       "      <td>0.840313</td>\n",
       "      <td>0.159687</td>\n",
       "    </tr>\n",
       "    <tr>\n",
       "      <th>4</th>\n",
       "      <td>0.906070</td>\n",
       "      <td>0.093930</td>\n",
       "    </tr>\n",
       "  </tbody>\n",
       "</table>\n",
       "</div>"
      ],
      "text/plain": [
       "   Prob of no heart disease (0)  Prob of Heart Disease (1)\n",
       "0                      0.785572                   0.214428\n",
       "1                      0.847283                   0.152717\n",
       "2                      0.731489                   0.268511\n",
       "3                      0.840313                   0.159687\n",
       "4                      0.906070                   0.093930"
      ]
     },
     "execution_count": 133,
     "metadata": {},
     "output_type": "execute_result"
    }
   ],
   "source": [
    "y_pred_prob=logreg.predict_proba(x_test_dup11)[:,:]\n",
    "y_pred_prob_df=pd.DataFrame(data=y_pred_prob, columns=['Prob of no heart disease (0)','Prob of Heart Disease (1)'])\n",
    "y_pred_prob_df.head()"
   ]
  },
  {
   "cell_type": "code",
   "execution_count": 134,
   "metadata": {},
   "outputs": [
    {
     "data": {
      "image/png": "[encoded data removed]",
      "text/plain": [
       "<Figure size 432x288 with 1 Axes>"
      ]
     },
     "metadata": {},
     "output_type": "display_data"
    }
   ],
   "source": [
    "from sklearn.metrics import roc_curve\n",
    "fpr, tpr, thresholds = roc_curve(y_test_dup11, y_pred_prob[:,1])\n",
    "plt.plot(fpr,tpr)\n",
    "plt.xlim([0.0, 1.0])\n",
    "plt.ylim([0.0, 1.0])\n",
    "plt.title('ROC curve for Heart disease classifier')\n",
    "plt.xlabel('False positive rate (1-Specificity)')\n",
    "plt.ylabel('True positive rate (Sensitivity)')\n",
    "plt.grid(True)"
   ]
  },
  {
   "cell_type": "code",
   "execution_count": 135,
   "metadata": {},
   "outputs": [],
   "source": [
    "#performing knn"
   ]
  },
  {
   "cell_type": "code",
   "execution_count": 136,
   "metadata": {},
   "outputs": [],
   "source": [
    "from sklearn.neighbors import KNeighborsClassifier"
   ]
  },
  {
   "cell_type": "code",
   "execution_count": 137,
   "metadata": {},
   "outputs": [],
   "source": [
    "import matplotlib.pyplot as plt"
   ]
  },
  {
   "cell_type": "code",
   "execution_count": 138,
   "metadata": {},
   "outputs": [],
   "source": [
    "KNN_classifier = KNeighborsClassifier(n_neighbors = 5)"
   ]
  },
  {
   "cell_type": "code",
   "execution_count": 143,
   "metadata": {},
   "outputs": [],
   "source": [
    "from sklearn.model_selection import train_test_split\n",
    "x_train_dup,x_test_dup,y_train_dup,y_test_dup=train_test_split(X_dup,Y_dup,test_size=.20,random_state=1)"
   ]
  },
  {
   "cell_type": "code",
   "execution_count": 144,
   "metadata": {},
   "outputs": [
    {
     "data": {
      "text/plain": [
       "KNeighborsClassifier(algorithm='auto', leaf_size=30, metric='minkowski',\n",
       "           metric_params=None, n_jobs=1, n_neighbors=5, p=2,\n",
       "           weights='uniform')"
      ]
     },
     "execution_count": 144,
     "metadata": {},
     "output_type": "execute_result"
    }
   ],
   "source": [
    "KNN_classifier.fit(x_train_dup,y_train_dup)"
   ]
  },
  {
   "cell_type": "code",
   "execution_count": 145,
   "metadata": {},
   "outputs": [],
   "source": [
    "prediction = KNN_classifier.predict(x_test_dup)"
   ]
  },
  {
   "cell_type": "code",
   "execution_count": 146,
   "metadata": {},
   "outputs": [],
   "source": [
    "cm1 = confusion_matrix(y_test_dup,prediction)"
   ]
  },
  {
   "cell_type": "code",
   "execution_count": 147,
   "metadata": {},
   "outputs": [
    {
     "name": "stdout",
     "output_type": "stream",
     "text": [
      "[[714   4]\n",
      " [127   3]]\n"
     ]
    }
   ],
   "source": [
    "print(cm)"
   ]
  },
  {
   "cell_type": "code",
   "execution_count": 148,
   "metadata": {},
   "outputs": [],
   "source": [
    "accuracy_score = accuracy_score(y_test_dup,prediction)"
   ]
  },
  {
   "cell_type": "code",
   "execution_count": 149,
   "metadata": {},
   "outputs": [
    {
     "name": "stdout",
     "output_type": "stream",
     "text": [
      "0.8290094339622641\n"
     ]
    }
   ],
   "source": [
    "print(accuracy_score)"
   ]
  },
  {
   "cell_type": "code",
   "execution_count": 150,
   "metadata": {},
   "outputs": [
    {
     "name": "stdout",
     "output_type": "stream",
     "text": [
      "misclassified samples:145\n"
     ]
    }
   ],
   "source": [
    "print('misclassified samples:%d'%(y_test_dup != prediction).sum())"
   ]
  },
  {
   "cell_type": "code",
   "execution_count": 151,
   "metadata": {},
   "outputs": [
    {
     "name": "stdout",
     "output_type": "stream",
     "text": [
      "[186, 140, 155, 131, 145, 133, 140, 130, 132, 131, 129, 127, 128, 129, 128, 130, 128, 129, 130]\n"
     ]
    }
   ],
   "source": [
    "misclassified_sample = []\n",
    "for i in  range(1,20):\n",
    "    knn = KNeighborsClassifier(n_neighbors = i)\n",
    "    knn.fit(x_train_dup,y_train_dup)\n",
    "    pred_i = knn.predict(x_test_dup)\n",
    "    misclassified_sample.append((y_test_dup != pred_i).sum())\n",
    "print(misclassified_sample)"
   ]
  },
  {
   "cell_type": "code",
   "execution_count": null,
   "metadata": {},
   "outputs": [],
   "source": [
    "#for k = 12 we have less number of missclassification"
   ]
  }
 ],
 "metadata": {
  "kernelspec": {
   "display_name": "Python 3",
   "language": "python",
   "name": "python3"
  },
  "language_info": {
   "codemirror_mode": {
    "name": "ipython",
    "version": 3
   },
   "file_extension": ".py",
   "mimetype": "text/x-python",
   "name": "python",
   "nbconvert_exporter": "python",
   "pygments_lexer": "ipython3",
   "version": "3.6.5"
  }
 },
 "nbformat": 4,
 "nbformat_minor": 2
}
